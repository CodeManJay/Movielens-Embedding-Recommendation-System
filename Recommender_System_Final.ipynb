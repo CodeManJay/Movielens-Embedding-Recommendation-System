{
  "nbformat": 4,
  "nbformat_minor": 0,
  "metadata": {
    "colab": {
      "name": "Recommender System Final.ipynb",
      "provenance": []
    },
    "kernelspec": {
      "name": "python3",
      "display_name": "Python 3"
    },
    "language_info": {
      "name": "python"
    }
  },
  "cells": [
    {
      "cell_type": "markdown",
      "metadata": {
        "id": "MgFx7RMnreII"
      },
      "source": [
        "# Recommender System with Visualized Embeddings\n",
        "\n",
        "The aim is to build a Movie Recommender System that can generate User and item Embeddings, and provide Recommendations based on it, while having the feature to visualize these Embeddings. Visualization of large chunks ofdata is necessary to analyse and verify them properly.  The movielens-100k dataset is chosen as the dataset for this project.  The aim is to utilize a novel combination of approaches for recommendations and visualization pertaining to this dataset.\n",
        "\n"
      ]
    },
    {
      "cell_type": "markdown",
      "metadata": {
        "id": "3Vboi_s3XEvR"
      },
      "source": [
        "# Explanation 1 by Vishvesh Pathak (AM.EN.U4CSE17354)"
      ]
    },
    {
      "cell_type": "markdown",
      "metadata": {
        "id": "HxqbhXDLA51D"
      },
      "source": [
        "# Import all the necessary or Important libraries for this project.\n",
        "\n",
        "\n",
        "\n"
      ]
    },
    {
      "cell_type": "code",
      "metadata": {
        "id": "wnz4uxeYPLoA"
      },
      "source": [
        "from tensorflow import keras\n",
        "from tensorflow.keras import layers\n",
        "from tensorflow.keras import backend as K\n",
        "import tensorflow as tf\n",
        "import pandas as pd\n",
        "import numpy as np"
      ],
      "execution_count": null,
      "outputs": []
    },
    {
      "cell_type": "code",
      "metadata": {
        "id": "xOJhmPU7PN06"
      },
      "source": [
        "from sklearn.model_selection import GridSearchCV , KFold , cross_val_score\n",
        "from sklearn.model_selection import train_test_split, KFold\n",
        "from sklearn.metrics import mean_absolute_error \n",
        "from sklearn.neighbors import NearestNeighbors  \n",
        "from sklearn.model_selection import StratifiedKFold"
      ],
      "execution_count": null,
      "outputs": []
    },
    {
      "cell_type": "code",
      "metadata": {
        "id": "dzNh4n47PPij"
      },
      "source": [
        "from keras.models import Model\n",
        "%matplotlib inline"
      ],
      "execution_count": null,
      "outputs": []
    },
    {
      "cell_type": "code",
      "metadata": {
        "id": "FBJUyS4kPRXg"
      },
      "source": [
        "from urllib.request import urlretrieve\n",
        "import collections\n",
        "import zipfile"
      ],
      "execution_count": null,
      "outputs": []
    },
    {
      "cell_type": "code",
      "metadata": {
        "id": "pzlPWYxhzGug"
      },
      "source": [
        "from sklearn.manifold import TSNE\n",
        "import matplotlib.pyplot as plt\n",
        "%matplotlib inline"
      ],
      "execution_count": null,
      "outputs": []
    },
    {
      "cell_type": "markdown",
      "metadata": {
        "id": "QTvICnmfA83g"
      },
      "source": [
        "\n",
        "\n",
        "# Retrieve dataset and URL, extract"
      ]
    },
    {
      "cell_type": "code",
      "metadata": {
        "colab": {
          "base_uri": "https://localhost:8080/"
        },
        "id": "sBQFdkiYPTng",
        "outputId": "94b9b0a7-319d-4668-bf5f-f7f0a9e7ba7d"
      },
      "source": [
        "print(\"Downloading dataset...\")\n",
        "urlretrieve(\"http://files.grouplens.org/datasets/movielens/ml-100k.zip\", \"movielens.zip\")\n",
        "zip_ref = zipfile.ZipFile('movielens.zip', \"r\")\n",
        "zip_ref.extractall()\n",
        "print(zip_ref.read('ml-100k/u.info'))"
      ],
      "execution_count": null,
      "outputs": [
        {
          "output_type": "stream",
          "text": [
            "Downloading dataset...\n",
            "b'943 users\\n1682 items\\n100000 ratings\\n'\n"
          ],
          "name": "stdout"
        }
      ]
    },
    {
      "cell_type": "markdown",
      "metadata": {
        "id": "-HXqrh3KBSFg"
      },
      "source": [
        "# Analyse Dataset."
      ]
    },
    {
      "cell_type": "code",
      "metadata": {
        "colab": {
          "base_uri": "https://localhost:8080/",
          "height": 137
        },
        "id": "7tJQ7u1oPV1q",
        "outputId": "7cb15b05-78ef-4216-c5d9-b96dce239e09"
      },
      "source": [
        "info = pd.read_csv(\"/content/ml-100k/u.info\", sep=\" \", header=None)\n",
        "info.columns=['Counts', 'Type']\n",
        "info"
      ],
      "execution_count": null,
      "outputs": [
        {
          "output_type": "execute_result",
          "data": {
            "text/html": [
              "<div>\n",
              "<style scoped>\n",
              "    .dataframe tbody tr th:only-of-type {\n",
              "        vertical-align: middle;\n",
              "    }\n",
              "\n",
              "    .dataframe tbody tr th {\n",
              "        vertical-align: top;\n",
              "    }\n",
              "\n",
              "    .dataframe thead th {\n",
              "        text-align: right;\n",
              "    }\n",
              "</style>\n",
              "<table border=\"1\" class=\"dataframe\">\n",
              "  <thead>\n",
              "    <tr style=\"text-align: right;\">\n",
              "      <th></th>\n",
              "      <th>Counts</th>\n",
              "      <th>Type</th>\n",
              "    </tr>\n",
              "  </thead>\n",
              "  <tbody>\n",
              "    <tr>\n",
              "      <th>0</th>\n",
              "      <td>943</td>\n",
              "      <td>users</td>\n",
              "    </tr>\n",
              "    <tr>\n",
              "      <th>1</th>\n",
              "      <td>1682</td>\n",
              "      <td>items</td>\n",
              "    </tr>\n",
              "    <tr>\n",
              "      <th>2</th>\n",
              "      <td>100000</td>\n",
              "      <td>ratings</td>\n",
              "    </tr>\n",
              "  </tbody>\n",
              "</table>\n",
              "</div>"
            ],
            "text/plain": [
              "   Counts     Type\n",
              "0     943    users\n",
              "1    1682    items\n",
              "2  100000  ratings"
            ]
          },
          "metadata": {
            "tags": []
          },
          "execution_count": 6
        }
      ]
    },
    {
      "cell_type": "code",
      "metadata": {
        "id": "4XGqF7FlPXVv",
        "colab": {
          "base_uri": "https://localhost:8080/"
        },
        "outputId": "f142c09f-ced1-4f2b-a0c4-95d93b24df6c"
      },
      "source": [
        "genre = pd.read_csv('/content/ml-100k/u.genre', sep=\"|\", encoding='latin-1', header=None)\n",
        "genre.drop(genre.columns[1], axis=1, inplace=True)\n",
        "genre.columns = ['Genres']\n",
        "genre_list = list(genre['Genres'])\n",
        "genre_list"
      ],
      "execution_count": null,
      "outputs": [
        {
          "output_type": "execute_result",
          "data": {
            "text/plain": [
              "['unknown',\n",
              " 'Action',\n",
              " 'Adventure',\n",
              " 'Animation',\n",
              " \"Children's\",\n",
              " 'Comedy',\n",
              " 'Crime',\n",
              " 'Documentary',\n",
              " 'Drama',\n",
              " 'Fantasy',\n",
              " 'Film-Noir',\n",
              " 'Horror',\n",
              " 'Musical',\n",
              " 'Mystery',\n",
              " 'Romance',\n",
              " 'Sci-Fi',\n",
              " 'Thriller',\n",
              " 'War',\n",
              " 'Western']"
            ]
          },
          "metadata": {
            "tags": []
          },
          "execution_count": 7
        }
      ]
    },
    {
      "cell_type": "markdown",
      "metadata": {
        "id": "7UHWKC6sEk_o"
      },
      "source": [
        "# Remove delimiters,etc"
      ]
    },
    {
      "cell_type": "code",
      "metadata": {
        "id": "BCDihWh6PbyB",
        "colab": {
          "base_uri": "https://localhost:8080/",
          "height": 367
        },
        "outputId": "0ba507e3-2d02-447f-8a64-d44cfccd6932"
      },
      "source": [
        "item = pd.read_csv('/content/ml-100k/u.item', sep=\"|\", encoding='latin-1', header=None)\n",
        "item.columns = ['movie id', 'movie title' ,'release date','video release date', 'IMDb URL', 'unknown', 'Action', \n",
        "                'Adventure', 'Animation', 'Children\\'s', 'Comedy', 'Crime', 'Documentary', 'Drama', 'Fantasy', 'Film-Noir', \n",
        "                'Horror', 'Musical', 'Mystery', 'Romance', 'Sci-Fi', 'Thriller', 'War', 'Western']\n",
        "item.head()"
      ],
      "execution_count": null,
      "outputs": [
        {
          "output_type": "execute_result",
          "data": {
            "text/html": [
              "<div>\n",
              "<style scoped>\n",
              "    .dataframe tbody tr th:only-of-type {\n",
              "        vertical-align: middle;\n",
              "    }\n",
              "\n",
              "    .dataframe tbody tr th {\n",
              "        vertical-align: top;\n",
              "    }\n",
              "\n",
              "    .dataframe thead th {\n",
              "        text-align: right;\n",
              "    }\n",
              "</style>\n",
              "<table border=\"1\" class=\"dataframe\">\n",
              "  <thead>\n",
              "    <tr style=\"text-align: right;\">\n",
              "      <th></th>\n",
              "      <th>movie id</th>\n",
              "      <th>movie title</th>\n",
              "      <th>release date</th>\n",
              "      <th>video release date</th>\n",
              "      <th>IMDb URL</th>\n",
              "      <th>unknown</th>\n",
              "      <th>Action</th>\n",
              "      <th>Adventure</th>\n",
              "      <th>Animation</th>\n",
              "      <th>Children's</th>\n",
              "      <th>Comedy</th>\n",
              "      <th>Crime</th>\n",
              "      <th>Documentary</th>\n",
              "      <th>Drama</th>\n",
              "      <th>Fantasy</th>\n",
              "      <th>Film-Noir</th>\n",
              "      <th>Horror</th>\n",
              "      <th>Musical</th>\n",
              "      <th>Mystery</th>\n",
              "      <th>Romance</th>\n",
              "      <th>Sci-Fi</th>\n",
              "      <th>Thriller</th>\n",
              "      <th>War</th>\n",
              "      <th>Western</th>\n",
              "    </tr>\n",
              "  </thead>\n",
              "  <tbody>\n",
              "    <tr>\n",
              "      <th>0</th>\n",
              "      <td>1</td>\n",
              "      <td>Toy Story (1995)</td>\n",
              "      <td>01-Jan-1995</td>\n",
              "      <td>NaN</td>\n",
              "      <td>http://us.imdb.com/M/title-exact?Toy%20Story%2...</td>\n",
              "      <td>0</td>\n",
              "      <td>0</td>\n",
              "      <td>0</td>\n",
              "      <td>1</td>\n",
              "      <td>1</td>\n",
              "      <td>1</td>\n",
              "      <td>0</td>\n",
              "      <td>0</td>\n",
              "      <td>0</td>\n",
              "      <td>0</td>\n",
              "      <td>0</td>\n",
              "      <td>0</td>\n",
              "      <td>0</td>\n",
              "      <td>0</td>\n",
              "      <td>0</td>\n",
              "      <td>0</td>\n",
              "      <td>0</td>\n",
              "      <td>0</td>\n",
              "      <td>0</td>\n",
              "    </tr>\n",
              "    <tr>\n",
              "      <th>1</th>\n",
              "      <td>2</td>\n",
              "      <td>GoldenEye (1995)</td>\n",
              "      <td>01-Jan-1995</td>\n",
              "      <td>NaN</td>\n",
              "      <td>http://us.imdb.com/M/title-exact?GoldenEye%20(...</td>\n",
              "      <td>0</td>\n",
              "      <td>1</td>\n",
              "      <td>1</td>\n",
              "      <td>0</td>\n",
              "      <td>0</td>\n",
              "      <td>0</td>\n",
              "      <td>0</td>\n",
              "      <td>0</td>\n",
              "      <td>0</td>\n",
              "      <td>0</td>\n",
              "      <td>0</td>\n",
              "      <td>0</td>\n",
              "      <td>0</td>\n",
              "      <td>0</td>\n",
              "      <td>0</td>\n",
              "      <td>0</td>\n",
              "      <td>1</td>\n",
              "      <td>0</td>\n",
              "      <td>0</td>\n",
              "    </tr>\n",
              "    <tr>\n",
              "      <th>2</th>\n",
              "      <td>3</td>\n",
              "      <td>Four Rooms (1995)</td>\n",
              "      <td>01-Jan-1995</td>\n",
              "      <td>NaN</td>\n",
              "      <td>http://us.imdb.com/M/title-exact?Four%20Rooms%...</td>\n",
              "      <td>0</td>\n",
              "      <td>0</td>\n",
              "      <td>0</td>\n",
              "      <td>0</td>\n",
              "      <td>0</td>\n",
              "      <td>0</td>\n",
              "      <td>0</td>\n",
              "      <td>0</td>\n",
              "      <td>0</td>\n",
              "      <td>0</td>\n",
              "      <td>0</td>\n",
              "      <td>0</td>\n",
              "      <td>0</td>\n",
              "      <td>0</td>\n",
              "      <td>0</td>\n",
              "      <td>0</td>\n",
              "      <td>1</td>\n",
              "      <td>0</td>\n",
              "      <td>0</td>\n",
              "    </tr>\n",
              "    <tr>\n",
              "      <th>3</th>\n",
              "      <td>4</td>\n",
              "      <td>Get Shorty (1995)</td>\n",
              "      <td>01-Jan-1995</td>\n",
              "      <td>NaN</td>\n",
              "      <td>http://us.imdb.com/M/title-exact?Get%20Shorty%...</td>\n",
              "      <td>0</td>\n",
              "      <td>1</td>\n",
              "      <td>0</td>\n",
              "      <td>0</td>\n",
              "      <td>0</td>\n",
              "      <td>1</td>\n",
              "      <td>0</td>\n",
              "      <td>0</td>\n",
              "      <td>1</td>\n",
              "      <td>0</td>\n",
              "      <td>0</td>\n",
              "      <td>0</td>\n",
              "      <td>0</td>\n",
              "      <td>0</td>\n",
              "      <td>0</td>\n",
              "      <td>0</td>\n",
              "      <td>0</td>\n",
              "      <td>0</td>\n",
              "      <td>0</td>\n",
              "    </tr>\n",
              "    <tr>\n",
              "      <th>4</th>\n",
              "      <td>5</td>\n",
              "      <td>Copycat (1995)</td>\n",
              "      <td>01-Jan-1995</td>\n",
              "      <td>NaN</td>\n",
              "      <td>http://us.imdb.com/M/title-exact?Copycat%20(1995)</td>\n",
              "      <td>0</td>\n",
              "      <td>0</td>\n",
              "      <td>0</td>\n",
              "      <td>0</td>\n",
              "      <td>0</td>\n",
              "      <td>0</td>\n",
              "      <td>1</td>\n",
              "      <td>0</td>\n",
              "      <td>1</td>\n",
              "      <td>0</td>\n",
              "      <td>0</td>\n",
              "      <td>0</td>\n",
              "      <td>0</td>\n",
              "      <td>0</td>\n",
              "      <td>0</td>\n",
              "      <td>0</td>\n",
              "      <td>1</td>\n",
              "      <td>0</td>\n",
              "      <td>0</td>\n",
              "    </tr>\n",
              "  </tbody>\n",
              "</table>\n",
              "</div>"
            ],
            "text/plain": [
              "   movie id        movie title release date  ...  Thriller War  Western\n",
              "0         1   Toy Story (1995)  01-Jan-1995  ...         0   0        0\n",
              "1         2   GoldenEye (1995)  01-Jan-1995  ...         1   0        0\n",
              "2         3  Four Rooms (1995)  01-Jan-1995  ...         1   0        0\n",
              "3         4  Get Shorty (1995)  01-Jan-1995  ...         0   0        0\n",
              "4         5     Copycat (1995)  01-Jan-1995  ...         1   0        0\n",
              "\n",
              "[5 rows x 24 columns]"
            ]
          },
          "metadata": {
            "tags": []
          },
          "execution_count": 9
        }
      ]
    },
    {
      "cell_type": "code",
      "metadata": {
        "id": "iQ8ZKeVKw10i"
      },
      "source": [
        "data = pd.read_csv('/content/ml-100k/u.data', sep=\"\\t\", header=None)"
      ],
      "execution_count": null,
      "outputs": []
    },
    {
      "cell_type": "code",
      "metadata": {
        "id": "tDNp_xETPaCq",
        "colab": {
          "base_uri": "https://localhost:8080/",
          "height": 196
        },
        "outputId": "3bdc6b65-771b-438f-8265-119e4ca7223b"
      },
      "source": [
        "data.columns = ['user_id', 'movie_id', 'rating', 'unix_timestamp']\n",
        "data.head()"
      ],
      "execution_count": null,
      "outputs": [
        {
          "output_type": "execute_result",
          "data": {
            "text/html": [
              "<div>\n",
              "<style scoped>\n",
              "    .dataframe tbody tr th:only-of-type {\n",
              "        vertical-align: middle;\n",
              "    }\n",
              "\n",
              "    .dataframe tbody tr th {\n",
              "        vertical-align: top;\n",
              "    }\n",
              "\n",
              "    .dataframe thead th {\n",
              "        text-align: right;\n",
              "    }\n",
              "</style>\n",
              "<table border=\"1\" class=\"dataframe\">\n",
              "  <thead>\n",
              "    <tr style=\"text-align: right;\">\n",
              "      <th></th>\n",
              "      <th>user_id</th>\n",
              "      <th>movie_id</th>\n",
              "      <th>rating</th>\n",
              "      <th>unix_timestamp</th>\n",
              "    </tr>\n",
              "  </thead>\n",
              "  <tbody>\n",
              "    <tr>\n",
              "      <th>0</th>\n",
              "      <td>196</td>\n",
              "      <td>242</td>\n",
              "      <td>3</td>\n",
              "      <td>881250949</td>\n",
              "    </tr>\n",
              "    <tr>\n",
              "      <th>1</th>\n",
              "      <td>186</td>\n",
              "      <td>302</td>\n",
              "      <td>3</td>\n",
              "      <td>891717742</td>\n",
              "    </tr>\n",
              "    <tr>\n",
              "      <th>2</th>\n",
              "      <td>22</td>\n",
              "      <td>377</td>\n",
              "      <td>1</td>\n",
              "      <td>878887116</td>\n",
              "    </tr>\n",
              "    <tr>\n",
              "      <th>3</th>\n",
              "      <td>244</td>\n",
              "      <td>51</td>\n",
              "      <td>2</td>\n",
              "      <td>880606923</td>\n",
              "    </tr>\n",
              "    <tr>\n",
              "      <th>4</th>\n",
              "      <td>166</td>\n",
              "      <td>346</td>\n",
              "      <td>1</td>\n",
              "      <td>886397596</td>\n",
              "    </tr>\n",
              "  </tbody>\n",
              "</table>\n",
              "</div>"
            ],
            "text/plain": [
              "   user_id  movie_id  rating  unix_timestamp\n",
              "0      196       242       3       881250949\n",
              "1      186       302       3       891717742\n",
              "2       22       377       1       878887116\n",
              "3      244        51       2       880606923\n",
              "4      166       346       1       886397596"
            ]
          },
          "metadata": {
            "tags": []
          },
          "execution_count": 8
        }
      ]
    },
    {
      "cell_type": "code",
      "metadata": {
        "id": "R3Ehjnr_w5Go"
      },
      "source": [
        "#Load the User data\n",
        "user = pd.read_csv('/content/ml-100k/u.user', sep=\"|\", encoding='latin-1', header=None)"
      ],
      "execution_count": null,
      "outputs": []
    },
    {
      "cell_type": "code",
      "metadata": {
        "id": "YRk9GuDkPdb6",
        "colab": {
          "base_uri": "https://localhost:8080/",
          "height": 196
        },
        "outputId": "30abfcee-5407-4dc1-baa2-9e267ed0f0f4"
      },
      "source": [
        "user.columns = ['user id', 'age', 'gender', 'occupation', 'zip code']\n",
        "user.head()"
      ],
      "execution_count": null,
      "outputs": [
        {
          "output_type": "execute_result",
          "data": {
            "text/html": [
              "<div>\n",
              "<style scoped>\n",
              "    .dataframe tbody tr th:only-of-type {\n",
              "        vertical-align: middle;\n",
              "    }\n",
              "\n",
              "    .dataframe tbody tr th {\n",
              "        vertical-align: top;\n",
              "    }\n",
              "\n",
              "    .dataframe thead th {\n",
              "        text-align: right;\n",
              "    }\n",
              "</style>\n",
              "<table border=\"1\" class=\"dataframe\">\n",
              "  <thead>\n",
              "    <tr style=\"text-align: right;\">\n",
              "      <th></th>\n",
              "      <th>user id</th>\n",
              "      <th>age</th>\n",
              "      <th>gender</th>\n",
              "      <th>occupation</th>\n",
              "      <th>zip code</th>\n",
              "    </tr>\n",
              "  </thead>\n",
              "  <tbody>\n",
              "    <tr>\n",
              "      <th>0</th>\n",
              "      <td>1</td>\n",
              "      <td>24</td>\n",
              "      <td>M</td>\n",
              "      <td>technician</td>\n",
              "      <td>85711</td>\n",
              "    </tr>\n",
              "    <tr>\n",
              "      <th>1</th>\n",
              "      <td>2</td>\n",
              "      <td>53</td>\n",
              "      <td>F</td>\n",
              "      <td>other</td>\n",
              "      <td>94043</td>\n",
              "    </tr>\n",
              "    <tr>\n",
              "      <th>2</th>\n",
              "      <td>3</td>\n",
              "      <td>23</td>\n",
              "      <td>M</td>\n",
              "      <td>writer</td>\n",
              "      <td>32067</td>\n",
              "    </tr>\n",
              "    <tr>\n",
              "      <th>3</th>\n",
              "      <td>4</td>\n",
              "      <td>24</td>\n",
              "      <td>M</td>\n",
              "      <td>technician</td>\n",
              "      <td>43537</td>\n",
              "    </tr>\n",
              "    <tr>\n",
              "      <th>4</th>\n",
              "      <td>5</td>\n",
              "      <td>33</td>\n",
              "      <td>F</td>\n",
              "      <td>other</td>\n",
              "      <td>15213</td>\n",
              "    </tr>\n",
              "  </tbody>\n",
              "</table>\n",
              "</div>"
            ],
            "text/plain": [
              "   user id  age gender  occupation zip code\n",
              "0        1   24      M  technician    85711\n",
              "1        2   53      F       other    94043\n",
              "2        3   23      M      writer    32067\n",
              "3        4   24      M  technician    43537\n",
              "4        5   33      F       other    15213"
            ]
          },
          "metadata": {
            "tags": []
          },
          "execution_count": 10
        }
      ]
    },
    {
      "cell_type": "markdown",
      "metadata": {
        "id": "vZ4uwzD3BW1q"
      },
      "source": [
        "Specify the columns for users and ratings"
      ]
    },
    {
      "cell_type": "code",
      "metadata": {
        "id": "HTIkHeM-PfE7"
      },
      "source": [
        "# Load each data set (users, movies, and ratings).\n",
        "users_cols = ['user_id', 'age', 'sex', 'occupation', 'zip_code']\n",
        "users = pd.read_csv('ml-100k/u.user', sep='|', names=users_cols, encoding='latin-1')"
      ],
      "execution_count": null,
      "outputs": []
    },
    {
      "cell_type": "code",
      "metadata": {
        "id": "Xt5nmdkfw-1D"
      },
      "source": [
        "ratings_cols = ['user_id', 'movie_id', 'rating', 'unix_timestamp']\n",
        "ratings = pd.read_csv('ml-100k/u.data', sep='\\t', names=ratings_cols, encoding='latin-1')"
      ],
      "execution_count": null,
      "outputs": []
    },
    {
      "cell_type": "code",
      "metadata": {
        "id": "eb6VWxupPghp"
      },
      "source": [
        "#different genre columns\n",
        "genre_cols = [\n",
        "    \"genre_unknown\", \"Action\", \"Adventure\", \"Animation\", \"Children\", \"Comedy\",\n",
        "    \"Crime\", \"Documentary\", \"Drama\", \"Fantasy\", \"Film-Noir\", \"Horror\",\n",
        "    \"Musical\", \"Mystery\", \"Romance\", \"Sci-Fi\", \"Thriller\", \"War\", \"Western\"\n",
        "]\n",
        "#different movie columns, with genres appended\n",
        "movies_cols = [\n",
        "    'movie_id', 'title', 'release_date', \"video_release_date\", \"imdb_url\"\n",
        "] + genre_cols\n",
        "\n",
        "movies = pd.read_csv(\n",
        "    'ml-100k/u.item', sep='|', names=movies_cols, encoding='latin-1')"
      ],
      "execution_count": null,
      "outputs": []
    },
    {
      "cell_type": "code",
      "metadata": {
        "id": "i7NckqTLPkSq",
        "colab": {
          "base_uri": "https://localhost:8080/"
        },
        "outputId": "9186fc7f-c40e-4ca8-8f61-dd475af1b99f"
      },
      "source": [
        "movies.columns"
      ],
      "execution_count": null,
      "outputs": [
        {
          "output_type": "execute_result",
          "data": {
            "text/plain": [
              "Index(['movie_id', 'title', 'release_date', 'video_release_date', 'imdb_url',\n",
              "       'genre_unknown', 'Action', 'Adventure', 'Animation', 'Children',\n",
              "       'Comedy', 'Crime', 'Documentary', 'Drama', 'Fantasy', 'Film-Noir',\n",
              "       'Horror', 'Musical', 'Mystery', 'Romance', 'Sci-Fi', 'Thriller', 'War',\n",
              "       'Western'],\n",
              "      dtype='object')"
            ]
          },
          "metadata": {
            "tags": []
          },
          "execution_count": 13
        }
      ]
    },
    {
      "cell_type": "code",
      "metadata": {
        "id": "xSWtTw8MPmMP"
      },
      "source": [
        "# ids must start from index 0, split release date, change ratings to float, etc\n",
        "users[\"user_id\"]=users[\"user_id\"].apply(lambda x: int(x-1))"
      ],
      "execution_count": null,
      "outputs": []
    },
    {
      "cell_type": "code",
      "metadata": {
        "id": "QUWTcAwXZFWQ"
      },
      "source": [
        "ratings[\"user_id\"]=ratings[\"user_id\"].apply(lambda x: int(x-1))\n",
        "ratings[\"movie_id\"]=ratings[\"movie_id\"].apply(lambda x: int(x-1))\n",
        "ratings[\"rating\"]=ratings[\"rating\"].apply(lambda x: float(x))"
      ],
      "execution_count": null,
      "outputs": []
    },
    {
      "cell_type": "code",
      "metadata": {
        "id": "bZfmKoQnZE-2"
      },
      "source": [
        "movies[\"movie_id\"]=movies[\"movie_id\"].apply(lambda x: int(x-1))\n",
        "movies[\"year\"]=movies['release_date'].apply(lambda x: str(x).split('-')[-1])"
      ],
      "execution_count": null,
      "outputs": []
    },
    {
      "cell_type": "markdown",
      "metadata": {
        "id": "qCa6mHYMM7BG"
      },
      "source": [
        "# Merge all these columns  for one final dataframe\n"
      ]
    },
    {
      "cell_type": "code",
      "metadata": {
        "id": "sIJ8rHfZPoyk"
      },
      "source": [
        "movielens=ratings.merge(movies, on='movie_id').merge(users, on='user_id')"
      ],
      "execution_count": null,
      "outputs": []
    },
    {
      "cell_type": "code",
      "metadata": {
        "id": "wMAAc-l9PqcT",
        "colab": {
          "base_uri": "https://localhost:8080/",
          "height": 417
        },
        "outputId": "22c39c6f-ec59-4ecb-f594-292edcadbd0e"
      },
      "source": [
        "movielens.head()"
      ],
      "execution_count": null,
      "outputs": [
        {
          "output_type": "execute_result",
          "data": {
            "text/html": [
              "<div>\n",
              "<style scoped>\n",
              "    .dataframe tbody tr th:only-of-type {\n",
              "        vertical-align: middle;\n",
              "    }\n",
              "\n",
              "    .dataframe tbody tr th {\n",
              "        vertical-align: top;\n",
              "    }\n",
              "\n",
              "    .dataframe thead th {\n",
              "        text-align: right;\n",
              "    }\n",
              "</style>\n",
              "<table border=\"1\" class=\"dataframe\">\n",
              "  <thead>\n",
              "    <tr style=\"text-align: right;\">\n",
              "      <th></th>\n",
              "      <th>user_id</th>\n",
              "      <th>movie_id</th>\n",
              "      <th>rating</th>\n",
              "      <th>unix_timestamp</th>\n",
              "      <th>title</th>\n",
              "      <th>release_date</th>\n",
              "      <th>video_release_date</th>\n",
              "      <th>imdb_url</th>\n",
              "      <th>genre_unknown</th>\n",
              "      <th>Action</th>\n",
              "      <th>Adventure</th>\n",
              "      <th>Animation</th>\n",
              "      <th>Children</th>\n",
              "      <th>Comedy</th>\n",
              "      <th>Crime</th>\n",
              "      <th>Documentary</th>\n",
              "      <th>Drama</th>\n",
              "      <th>Fantasy</th>\n",
              "      <th>Film-Noir</th>\n",
              "      <th>Horror</th>\n",
              "      <th>Musical</th>\n",
              "      <th>Mystery</th>\n",
              "      <th>Romance</th>\n",
              "      <th>Sci-Fi</th>\n",
              "      <th>Thriller</th>\n",
              "      <th>War</th>\n",
              "      <th>Western</th>\n",
              "      <th>year</th>\n",
              "      <th>age</th>\n",
              "      <th>sex</th>\n",
              "      <th>occupation</th>\n",
              "      <th>zip_code</th>\n",
              "    </tr>\n",
              "  </thead>\n",
              "  <tbody>\n",
              "    <tr>\n",
              "      <th>0</th>\n",
              "      <td>195</td>\n",
              "      <td>241</td>\n",
              "      <td>3.0</td>\n",
              "      <td>881250949</td>\n",
              "      <td>Kolya (1996)</td>\n",
              "      <td>24-Jan-1997</td>\n",
              "      <td>NaN</td>\n",
              "      <td>http://us.imdb.com/M/title-exact?Kolya%20(1996)</td>\n",
              "      <td>0</td>\n",
              "      <td>0</td>\n",
              "      <td>0</td>\n",
              "      <td>0</td>\n",
              "      <td>0</td>\n",
              "      <td>1</td>\n",
              "      <td>0</td>\n",
              "      <td>0</td>\n",
              "      <td>0</td>\n",
              "      <td>0</td>\n",
              "      <td>0</td>\n",
              "      <td>0</td>\n",
              "      <td>0</td>\n",
              "      <td>0</td>\n",
              "      <td>0</td>\n",
              "      <td>0</td>\n",
              "      <td>0</td>\n",
              "      <td>0</td>\n",
              "      <td>0</td>\n",
              "      <td>1997</td>\n",
              "      <td>49</td>\n",
              "      <td>M</td>\n",
              "      <td>writer</td>\n",
              "      <td>55105</td>\n",
              "    </tr>\n",
              "    <tr>\n",
              "      <th>1</th>\n",
              "      <td>195</td>\n",
              "      <td>256</td>\n",
              "      <td>2.0</td>\n",
              "      <td>881251577</td>\n",
              "      <td>Men in Black (1997)</td>\n",
              "      <td>04-Jul-1997</td>\n",
              "      <td>NaN</td>\n",
              "      <td>http://us.imdb.com/M/title-exact?Men+in+Black+...</td>\n",
              "      <td>0</td>\n",
              "      <td>1</td>\n",
              "      <td>1</td>\n",
              "      <td>0</td>\n",
              "      <td>0</td>\n",
              "      <td>1</td>\n",
              "      <td>0</td>\n",
              "      <td>0</td>\n",
              "      <td>0</td>\n",
              "      <td>0</td>\n",
              "      <td>0</td>\n",
              "      <td>0</td>\n",
              "      <td>0</td>\n",
              "      <td>0</td>\n",
              "      <td>0</td>\n",
              "      <td>1</td>\n",
              "      <td>0</td>\n",
              "      <td>0</td>\n",
              "      <td>0</td>\n",
              "      <td>1997</td>\n",
              "      <td>49</td>\n",
              "      <td>M</td>\n",
              "      <td>writer</td>\n",
              "      <td>55105</td>\n",
              "    </tr>\n",
              "    <tr>\n",
              "      <th>2</th>\n",
              "      <td>195</td>\n",
              "      <td>110</td>\n",
              "      <td>4.0</td>\n",
              "      <td>881251793</td>\n",
              "      <td>Truth About Cats &amp; Dogs, The (1996)</td>\n",
              "      <td>26-Apr-1996</td>\n",
              "      <td>NaN</td>\n",
              "      <td>http://us.imdb.com/M/title-exact?Truth%20About...</td>\n",
              "      <td>0</td>\n",
              "      <td>0</td>\n",
              "      <td>0</td>\n",
              "      <td>0</td>\n",
              "      <td>0</td>\n",
              "      <td>1</td>\n",
              "      <td>0</td>\n",
              "      <td>0</td>\n",
              "      <td>0</td>\n",
              "      <td>0</td>\n",
              "      <td>0</td>\n",
              "      <td>0</td>\n",
              "      <td>0</td>\n",
              "      <td>0</td>\n",
              "      <td>1</td>\n",
              "      <td>0</td>\n",
              "      <td>0</td>\n",
              "      <td>0</td>\n",
              "      <td>0</td>\n",
              "      <td>1996</td>\n",
              "      <td>49</td>\n",
              "      <td>M</td>\n",
              "      <td>writer</td>\n",
              "      <td>55105</td>\n",
              "    </tr>\n",
              "    <tr>\n",
              "      <th>3</th>\n",
              "      <td>195</td>\n",
              "      <td>24</td>\n",
              "      <td>4.0</td>\n",
              "      <td>881251955</td>\n",
              "      <td>Birdcage, The (1996)</td>\n",
              "      <td>08-Mar-1996</td>\n",
              "      <td>NaN</td>\n",
              "      <td>http://us.imdb.com/M/title-exact?Birdcage,%20T...</td>\n",
              "      <td>0</td>\n",
              "      <td>0</td>\n",
              "      <td>0</td>\n",
              "      <td>0</td>\n",
              "      <td>0</td>\n",
              "      <td>1</td>\n",
              "      <td>0</td>\n",
              "      <td>0</td>\n",
              "      <td>0</td>\n",
              "      <td>0</td>\n",
              "      <td>0</td>\n",
              "      <td>0</td>\n",
              "      <td>0</td>\n",
              "      <td>0</td>\n",
              "      <td>0</td>\n",
              "      <td>0</td>\n",
              "      <td>0</td>\n",
              "      <td>0</td>\n",
              "      <td>0</td>\n",
              "      <td>1996</td>\n",
              "      <td>49</td>\n",
              "      <td>M</td>\n",
              "      <td>writer</td>\n",
              "      <td>55105</td>\n",
              "    </tr>\n",
              "    <tr>\n",
              "      <th>4</th>\n",
              "      <td>195</td>\n",
              "      <td>381</td>\n",
              "      <td>4.0</td>\n",
              "      <td>881251843</td>\n",
              "      <td>Adventures of Priscilla, Queen of the Desert, ...</td>\n",
              "      <td>01-Jan-1994</td>\n",
              "      <td>NaN</td>\n",
              "      <td>http://us.imdb.com/M/title-exact?Adventures%20...</td>\n",
              "      <td>0</td>\n",
              "      <td>0</td>\n",
              "      <td>0</td>\n",
              "      <td>0</td>\n",
              "      <td>0</td>\n",
              "      <td>1</td>\n",
              "      <td>0</td>\n",
              "      <td>0</td>\n",
              "      <td>1</td>\n",
              "      <td>0</td>\n",
              "      <td>0</td>\n",
              "      <td>0</td>\n",
              "      <td>0</td>\n",
              "      <td>0</td>\n",
              "      <td>0</td>\n",
              "      <td>0</td>\n",
              "      <td>0</td>\n",
              "      <td>0</td>\n",
              "      <td>0</td>\n",
              "      <td>1994</td>\n",
              "      <td>49</td>\n",
              "      <td>M</td>\n",
              "      <td>writer</td>\n",
              "      <td>55105</td>\n",
              "    </tr>\n",
              "  </tbody>\n",
              "</table>\n",
              "</div>"
            ],
            "text/plain": [
              "   user_id  movie_id  rating  unix_timestamp  ... age sex  occupation zip_code\n",
              "0      195       241     3.0       881250949  ...  49   M      writer    55105\n",
              "1      195       256     2.0       881251577  ...  49   M      writer    55105\n",
              "2      195       110     4.0       881251793  ...  49   M      writer    55105\n",
              "3      195        24     4.0       881251955  ...  49   M      writer    55105\n",
              "4      195       381     4.0       881251843  ...  49   M      writer    55105\n",
              "\n",
              "[5 rows x 32 columns]"
            ]
          },
          "metadata": {
            "tags": []
          },
          "execution_count": 18
        }
      ]
    },
    {
      "cell_type": "code",
      "metadata": {
        "id": "mk1nC9b8PsFd",
        "colab": {
          "base_uri": "https://localhost:8080/"
        },
        "outputId": "5d9a3c25-471a-4450-bfbd-6c532b4faa38"
      },
      "source": [
        "movielens.columns"
      ],
      "execution_count": null,
      "outputs": [
        {
          "output_type": "execute_result",
          "data": {
            "text/plain": [
              "Index(['user_id', 'movie_id', 'rating', 'unix_timestamp', 'title',\n",
              "       'release_date', 'video_release_date', 'imdb_url', 'genre_unknown',\n",
              "       'Action', 'Adventure', 'Animation', 'Children', 'Comedy', 'Crime',\n",
              "       'Documentary', 'Drama', 'Fantasy', 'Film-Noir', 'Horror', 'Musical',\n",
              "       'Mystery', 'Romance', 'Sci-Fi', 'Thriller', 'War', 'Western', 'year',\n",
              "       'age', 'sex', 'occupation', 'zip_code'],\n",
              "      dtype='object')"
            ]
          },
          "metadata": {
            "tags": []
          },
          "execution_count": 19
        }
      ]
    },
    {
      "cell_type": "markdown",
      "metadata": {
        "id": "t8SJA6HIXZfz"
      },
      "source": [
        "# Explanation 2 by Sreenivas Jayanth Yadhati (AM.EN.U4CSE17328)"
      ]
    },
    {
      "cell_type": "markdown",
      "metadata": {
        "id": "s2IVUS7dMmIr"
      },
      "source": [
        "# Split into training and test sets"
      ]
    },
    {
      "cell_type": "code",
      "metadata": {
        "id": "gcuUunLbx8lq"
      },
      "source": [
        "train, test = train_test_split(movielens, test_size=0.1)"
      ],
      "execution_count": null,
      "outputs": []
    },
    {
      "cell_type": "markdown",
      "metadata": {
        "id": "ONu_Y513nAhq"
      },
      "source": [
        "Number of rows"
      ]
    },
    {
      "cell_type": "code",
      "metadata": {
        "id": "Jc1zFOJMyWAz"
      },
      "source": [
        "ROW_COUNT=train.shape[0]"
      ],
      "execution_count": null,
      "outputs": []
    },
    {
      "cell_type": "code",
      "metadata": {
        "id": "z2gQeHIZybr8"
      },
      "source": [
        "#specifying embedding size, and assign all non unique user ids and movie ids\n",
        "EMBEDDING_SIZE=10\n",
        "NUM_USERS=movielens['user_id'].nunique()\n",
        "NUM_MOVIES=movielens['movie_id'].nunique()"
      ],
      "execution_count": null,
      "outputs": []
    },
    {
      "cell_type": "code",
      "metadata": {
        "id": "IP2L6ZVDyc97",
        "colab": {
          "base_uri": "https://localhost:8080/",
          "height": 417
        },
        "outputId": "781e9f01-589a-40e3-a42c-1860a9257a2b"
      },
      "source": [
        "train.head()"
      ],
      "execution_count": null,
      "outputs": [
        {
          "output_type": "execute_result",
          "data": {
            "text/html": [
              "<div>\n",
              "<style scoped>\n",
              "    .dataframe tbody tr th:only-of-type {\n",
              "        vertical-align: middle;\n",
              "    }\n",
              "\n",
              "    .dataframe tbody tr th {\n",
              "        vertical-align: top;\n",
              "    }\n",
              "\n",
              "    .dataframe thead th {\n",
              "        text-align: right;\n",
              "    }\n",
              "</style>\n",
              "<table border=\"1\" class=\"dataframe\">\n",
              "  <thead>\n",
              "    <tr style=\"text-align: right;\">\n",
              "      <th></th>\n",
              "      <th>user_id</th>\n",
              "      <th>movie_id</th>\n",
              "      <th>rating</th>\n",
              "      <th>unix_timestamp</th>\n",
              "      <th>title</th>\n",
              "      <th>release_date</th>\n",
              "      <th>video_release_date</th>\n",
              "      <th>imdb_url</th>\n",
              "      <th>genre_unknown</th>\n",
              "      <th>Action</th>\n",
              "      <th>Adventure</th>\n",
              "      <th>Animation</th>\n",
              "      <th>Children</th>\n",
              "      <th>Comedy</th>\n",
              "      <th>Crime</th>\n",
              "      <th>Documentary</th>\n",
              "      <th>Drama</th>\n",
              "      <th>Fantasy</th>\n",
              "      <th>Film-Noir</th>\n",
              "      <th>Horror</th>\n",
              "      <th>Musical</th>\n",
              "      <th>Mystery</th>\n",
              "      <th>Romance</th>\n",
              "      <th>Sci-Fi</th>\n",
              "      <th>Thriller</th>\n",
              "      <th>War</th>\n",
              "      <th>Western</th>\n",
              "      <th>year</th>\n",
              "      <th>age</th>\n",
              "      <th>sex</th>\n",
              "      <th>occupation</th>\n",
              "      <th>zip_code</th>\n",
              "    </tr>\n",
              "  </thead>\n",
              "  <tbody>\n",
              "    <tr>\n",
              "      <th>76728</th>\n",
              "      <td>605</td>\n",
              "      <td>247</td>\n",
              "      <td>5.0</td>\n",
              "      <td>887058736</td>\n",
              "      <td>Grosse Pointe Blank (1997)</td>\n",
              "      <td>11-Apr-1997</td>\n",
              "      <td>NaN</td>\n",
              "      <td>http://us.imdb.com/M/title-exact?Grosse%20Poin...</td>\n",
              "      <td>0</td>\n",
              "      <td>0</td>\n",
              "      <td>0</td>\n",
              "      <td>0</td>\n",
              "      <td>0</td>\n",
              "      <td>1</td>\n",
              "      <td>1</td>\n",
              "      <td>0</td>\n",
              "      <td>0</td>\n",
              "      <td>0</td>\n",
              "      <td>0</td>\n",
              "      <td>0</td>\n",
              "      <td>0</td>\n",
              "      <td>0</td>\n",
              "      <td>0</td>\n",
              "      <td>0</td>\n",
              "      <td>0</td>\n",
              "      <td>0</td>\n",
              "      <td>0</td>\n",
              "      <td>1997</td>\n",
              "      <td>28</td>\n",
              "      <td>M</td>\n",
              "      <td>programmer</td>\n",
              "      <td>63044</td>\n",
              "    </tr>\n",
              "    <tr>\n",
              "      <th>52929</th>\n",
              "      <td>710</td>\n",
              "      <td>280</td>\n",
              "      <td>3.0</td>\n",
              "      <td>879995362</td>\n",
              "      <td>River Wild, The (1994)</td>\n",
              "      <td>01-Jan-1994</td>\n",
              "      <td>NaN</td>\n",
              "      <td>http://us.imdb.com/M/title-exact?River%20Wild,...</td>\n",
              "      <td>0</td>\n",
              "      <td>1</td>\n",
              "      <td>0</td>\n",
              "      <td>0</td>\n",
              "      <td>0</td>\n",
              "      <td>0</td>\n",
              "      <td>0</td>\n",
              "      <td>0</td>\n",
              "      <td>0</td>\n",
              "      <td>0</td>\n",
              "      <td>0</td>\n",
              "      <td>0</td>\n",
              "      <td>0</td>\n",
              "      <td>0</td>\n",
              "      <td>0</td>\n",
              "      <td>0</td>\n",
              "      <td>1</td>\n",
              "      <td>0</td>\n",
              "      <td>0</td>\n",
              "      <td>1994</td>\n",
              "      <td>22</td>\n",
              "      <td>F</td>\n",
              "      <td>student</td>\n",
              "      <td>15203</td>\n",
              "    </tr>\n",
              "    <tr>\n",
              "      <th>80289</th>\n",
              "      <td>617</td>\n",
              "      <td>182</td>\n",
              "      <td>4.0</td>\n",
              "      <td>891307494</td>\n",
              "      <td>Alien (1979)</td>\n",
              "      <td>01-Jan-1979</td>\n",
              "      <td>NaN</td>\n",
              "      <td>http://us.imdb.com/M/title-exact?Alien%20(1979)</td>\n",
              "      <td>0</td>\n",
              "      <td>1</td>\n",
              "      <td>0</td>\n",
              "      <td>0</td>\n",
              "      <td>0</td>\n",
              "      <td>0</td>\n",
              "      <td>0</td>\n",
              "      <td>0</td>\n",
              "      <td>0</td>\n",
              "      <td>0</td>\n",
              "      <td>0</td>\n",
              "      <td>1</td>\n",
              "      <td>0</td>\n",
              "      <td>0</td>\n",
              "      <td>0</td>\n",
              "      <td>1</td>\n",
              "      <td>1</td>\n",
              "      <td>0</td>\n",
              "      <td>0</td>\n",
              "      <td>1979</td>\n",
              "      <td>15</td>\n",
              "      <td>F</td>\n",
              "      <td>student</td>\n",
              "      <td>44212</td>\n",
              "    </tr>\n",
              "    <tr>\n",
              "      <th>27545</th>\n",
              "      <td>682</td>\n",
              "      <td>606</td>\n",
              "      <td>5.0</td>\n",
              "      <td>893286207</td>\n",
              "      <td>Rebecca (1940)</td>\n",
              "      <td>01-Jan-1940</td>\n",
              "      <td>NaN</td>\n",
              "      <td>http://us.imdb.com/M/title-exact?Rebecca%20(1940)</td>\n",
              "      <td>0</td>\n",
              "      <td>0</td>\n",
              "      <td>0</td>\n",
              "      <td>0</td>\n",
              "      <td>0</td>\n",
              "      <td>0</td>\n",
              "      <td>0</td>\n",
              "      <td>0</td>\n",
              "      <td>0</td>\n",
              "      <td>0</td>\n",
              "      <td>0</td>\n",
              "      <td>0</td>\n",
              "      <td>0</td>\n",
              "      <td>0</td>\n",
              "      <td>1</td>\n",
              "      <td>0</td>\n",
              "      <td>1</td>\n",
              "      <td>0</td>\n",
              "      <td>0</td>\n",
              "      <td>1940</td>\n",
              "      <td>42</td>\n",
              "      <td>M</td>\n",
              "      <td>librarian</td>\n",
              "      <td>23509</td>\n",
              "    </tr>\n",
              "    <tr>\n",
              "      <th>76557</th>\n",
              "      <td>558</td>\n",
              "      <td>68</td>\n",
              "      <td>5.0</td>\n",
              "      <td>891034003</td>\n",
              "      <td>Forrest Gump (1994)</td>\n",
              "      <td>01-Jan-1994</td>\n",
              "      <td>NaN</td>\n",
              "      <td>http://us.imdb.com/M/title-exact?Forrest%20Gum...</td>\n",
              "      <td>0</td>\n",
              "      <td>0</td>\n",
              "      <td>0</td>\n",
              "      <td>0</td>\n",
              "      <td>0</td>\n",
              "      <td>1</td>\n",
              "      <td>0</td>\n",
              "      <td>0</td>\n",
              "      <td>0</td>\n",
              "      <td>0</td>\n",
              "      <td>0</td>\n",
              "      <td>0</td>\n",
              "      <td>0</td>\n",
              "      <td>0</td>\n",
              "      <td>1</td>\n",
              "      <td>0</td>\n",
              "      <td>0</td>\n",
              "      <td>1</td>\n",
              "      <td>0</td>\n",
              "      <td>1994</td>\n",
              "      <td>69</td>\n",
              "      <td>M</td>\n",
              "      <td>executive</td>\n",
              "      <td>10022</td>\n",
              "    </tr>\n",
              "  </tbody>\n",
              "</table>\n",
              "</div>"
            ],
            "text/plain": [
              "       user_id  movie_id  rating  unix_timestamp  ... age sex  occupation zip_code\n",
              "76728      605       247     5.0       887058736  ...  28   M  programmer    63044\n",
              "52929      710       280     3.0       879995362  ...  22   F     student    15203\n",
              "80289      617       182     4.0       891307494  ...  15   F     student    44212\n",
              "27545      682       606     5.0       893286207  ...  42   M   librarian    23509\n",
              "76557      558        68     5.0       891034003  ...  69   M   executive    10022\n",
              "\n",
              "[5 rows x 32 columns]"
            ]
          },
          "metadata": {
            "tags": []
          },
          "execution_count": 24
        }
      ]
    },
    {
      "cell_type": "code",
      "metadata": {
        "id": "mvyXjFgjye3M"
      },
      "source": [
        "UNIQUE_MOVIE_IDS = movielens['movie_id'].unique()"
      ],
      "execution_count": null,
      "outputs": []
    },
    {
      "cell_type": "markdown",
      "metadata": {
        "id": "DKL0yKfTKKjW"
      },
      "source": [
        "# Create the Neural Network.\n",
        "\n",
        "The dot product of the user embedding and item embedding vectors is taken.  Subsequently, the Neural Network Layers are created using the “Dense” func-tion  of  the  Keras  Library.The  dropout  function  is  implemented  to  reduceoverfitting.  The model is set for training for 50 epochs, and the “earlystop-ping”  parameter  is  set  for  stopping  the  training  if  validation  loss  doesn’tchange for 10 consecutive epochs .Other parameters are also finalized,  likethe Adam optimizer for Stochastic Gradient Descent"
      ]
    },
    {
      "cell_type": "code",
      "metadata": {
        "id": "qzVtAbuyyhHE"
      },
      "source": [
        "def EmbeddingRec(EMBEDDING_SIZE, NUM_MOVIES, NUM_USERS, ROW_COUNT):\n",
        "    movie_input=keras.Input(shape=(1,), name='movie_id')\n",
        "\n",
        "  # Add Embedding Layer\n",
        "    movie_emb=layers.Embedding(output_dim=EMBEDDING_SIZE, input_dim=NUM_MOVIES, input_length=ROW_COUNT, name='movie_embedding_layer')(movie_input)\n",
        "    movie_vec=layers.Flatten(name='FlattenMovie')(movie_emb)\n",
        "\n",
        "  #Model Input for movies\n",
        "    movie_model=keras.Model(inputs=movie_input, outputs=movie_vec)\n",
        "    \n",
        "    user_input=keras.Input(shape=(1,), name='user_id')\n",
        "\n",
        "    user_emb=layers.Embedding(output_dim=EMBEDDING_SIZE, input_dim=NUM_USERS, input_length=ROW_COUNT, name='user_embedding_layer')(user_input)\n",
        "    user_vec=layers.Flatten(name='FlattenUser')(user_emb)\n",
        "\n",
        "  #Model input froM user\n",
        "\n",
        "    user_model=keras.Model(inputs=user_input, outputs=user_vec)\n",
        "  \n",
        "  #Take the dot Product \n",
        "    merged=layers.Dot(name = 'dot_product_layer', normalize = True, axes = 2)([movie_emb, user_emb])\n",
        "    merged_dropout=layers.Dropout(0.2)(merged)\n",
        " \n",
        "    dense_1=layers.Dense(70,name='Layer_1')(merged)\n",
        "    dropout_1=layers.Dropout(0.2,name='Dropout_1')(dense_1)\n",
        "\n",
        "    dense_2=layers.Dense(50,name='Layer_2')(dropout_1)\n",
        "    dropout_2=layers.Dropout(0.2,name='Dropout_2')(dense_2)\n",
        "\n",
        "    dense_3=keras.layers.Dense(20,name='Layer_3')(dropout_2)\n",
        "    dropout_3=keras.layers.Dropout(0.2,name='Dropout_3')(dense_3)\n",
        "\n",
        "    dense_4=keras.layers.Dense(10,name='Layer_4', activation='relu')(dropout_3)\n",
        "\n",
        "    #output layer\n",
        "    result=layers.Dense(1, name='result', activation=\"relu\") (dense_4)\n",
        "\n",
        "    adam=keras.optimizers.Adam(lr=0.001)\n",
        "    model=keras.Model([movie_input, user_input], result)\n",
        "    model.compile(optimizer=adam,loss= 'mean_absolute_error',metrics=[\"accuracy\"])\n",
        "    return model, movie_model, user_model"
      ],
      "execution_count": null,
      "outputs": []
    },
    {
      "cell_type": "code",
      "metadata": {
        "id": "Bdl2AHebyiqr"
      },
      "source": [
        "model, movie_model, user_model = EmbeddingRec(EMBEDDING_SIZE, NUM_MOVIES, NUM_USERS, ROW_COUNT)"
      ],
      "execution_count": null,
      "outputs": []
    },
    {
      "cell_type": "code",
      "metadata": {
        "colab": {
          "base_uri": "https://localhost:8080/"
        },
        "id": "7qE_kxPiylWW",
        "outputId": "5e5b11b9-88d1-4f86-abab-dcf3c3a2348b"
      },
      "source": [
        "callbacks = [keras.callbacks.EarlyStopping('val_loss', patience=10),\n",
        "             keras.callbacks.ModelCheckpoint('besttest.h5', save_best_only=True)]\n",
        "\n",
        "history = model.fit([train.movie_id, train.user_id],train.rating, batch_size=100,\n",
        "                              epochs =50, validation_data = ([test.movie_id, test.user_id],test.rating),\n",
        "                              verbose = 1, \n",
        "                              callbacks = callbacks)"
      ],
      "execution_count": null,
      "outputs": [
        {
          "output_type": "stream",
          "text": [
            "Epoch 1/50\n",
            "900/900 [==============================] - 4s 3ms/step - loss: 1.3641 - accuracy: 0.0559 - val_loss: 0.9515 - val_accuracy: 0.0570\n",
            "Epoch 2/50\n",
            "900/900 [==============================] - 3s 3ms/step - loss: 0.9598 - accuracy: 0.0607 - val_loss: 0.9151 - val_accuracy: 0.0570\n",
            "Epoch 3/50\n",
            "900/900 [==============================] - 2s 3ms/step - loss: 0.9395 - accuracy: 0.0605 - val_loss: 0.9147 - val_accuracy: 0.0570\n",
            "Epoch 4/50\n",
            "900/900 [==============================] - 3s 3ms/step - loss: 0.9238 - accuracy: 0.0619 - val_loss: 0.9026 - val_accuracy: 0.0570\n",
            "Epoch 5/50\n",
            "900/900 [==============================] - 2s 3ms/step - loss: 0.8660 - accuracy: 0.0624 - val_loss: 0.7964 - val_accuracy: 0.0570\n",
            "Epoch 6/50\n",
            "900/900 [==============================] - 3s 3ms/step - loss: 0.7349 - accuracy: 0.0607 - val_loss: 0.7701 - val_accuracy: 0.0570\n",
            "Epoch 7/50\n",
            "900/900 [==============================] - 2s 3ms/step - loss: 0.6844 - accuracy: 0.0625 - val_loss: 0.7683 - val_accuracy: 0.0570\n",
            "Epoch 8/50\n",
            "900/900 [==============================] - 2s 2ms/step - loss: 0.6568 - accuracy: 0.0606 - val_loss: 0.7765 - val_accuracy: 0.0570\n",
            "Epoch 9/50\n",
            "900/900 [==============================] - 2s 3ms/step - loss: 0.6374 - accuracy: 0.0603 - val_loss: 0.7682 - val_accuracy: 0.0570\n",
            "Epoch 10/50\n",
            "900/900 [==============================] - 2s 2ms/step - loss: 0.6245 - accuracy: 0.0613 - val_loss: 0.7729 - val_accuracy: 0.0570\n",
            "Epoch 11/50\n",
            "900/900 [==============================] - 2s 3ms/step - loss: 0.6112 - accuracy: 0.0605 - val_loss: 0.7746 - val_accuracy: 0.0570\n",
            "Epoch 12/50\n",
            "900/900 [==============================] - 2s 3ms/step - loss: 0.6059 - accuracy: 0.0628 - val_loss: 0.7713 - val_accuracy: 0.0570\n",
            "Epoch 13/50\n",
            "900/900 [==============================] - 2s 3ms/step - loss: 0.5986 - accuracy: 0.0615 - val_loss: 0.7629 - val_accuracy: 0.0570\n",
            "Epoch 14/50\n",
            "900/900 [==============================] - 2s 2ms/step - loss: 0.5950 - accuracy: 0.0602 - val_loss: 0.7720 - val_accuracy: 0.0570\n",
            "Epoch 15/50\n",
            "900/900 [==============================] - 2s 3ms/step - loss: 0.5895 - accuracy: 0.0611 - val_loss: 0.7917 - val_accuracy: 0.0570\n",
            "Epoch 16/50\n",
            "900/900 [==============================] - 2s 2ms/step - loss: 0.5865 - accuracy: 0.0613 - val_loss: 0.7762 - val_accuracy: 0.0570\n",
            "Epoch 17/50\n",
            "900/900 [==============================] - 2s 3ms/step - loss: 0.5806 - accuracy: 0.0598 - val_loss: 0.7750 - val_accuracy: 0.0570\n",
            "Epoch 18/50\n",
            "900/900 [==============================] - 2s 3ms/step - loss: 0.5756 - accuracy: 0.0609 - val_loss: 0.7674 - val_accuracy: 0.0570\n",
            "Epoch 19/50\n",
            "900/900 [==============================] - 2s 3ms/step - loss: 0.5702 - accuracy: 0.0616 - val_loss: 0.7684 - val_accuracy: 0.0570\n",
            "Epoch 20/50\n",
            "900/900 [==============================] - 2s 3ms/step - loss: 0.5635 - accuracy: 0.0604 - val_loss: 0.7592 - val_accuracy: 0.0570\n",
            "Epoch 21/50\n",
            "900/900 [==============================] - 2s 2ms/step - loss: 0.5675 - accuracy: 0.0613 - val_loss: 0.7632 - val_accuracy: 0.0570\n",
            "Epoch 22/50\n",
            "900/900 [==============================] - 2s 2ms/step - loss: 0.5606 - accuracy: 0.0617 - val_loss: 0.7583 - val_accuracy: 0.0570\n",
            "Epoch 23/50\n",
            "900/900 [==============================] - 2s 3ms/step - loss: 0.5591 - accuracy: 0.0607 - val_loss: 0.7666 - val_accuracy: 0.0570\n",
            "Epoch 24/50\n",
            "900/900 [==============================] - 2s 3ms/step - loss: 0.5604 - accuracy: 0.0622 - val_loss: 0.7710 - val_accuracy: 0.0570\n",
            "Epoch 25/50\n",
            "900/900 [==============================] - 2s 2ms/step - loss: 0.5529 - accuracy: 0.0607 - val_loss: 0.7727 - val_accuracy: 0.0570\n",
            "Epoch 26/50\n",
            "900/900 [==============================] - 3s 3ms/step - loss: 0.5522 - accuracy: 0.0611 - val_loss: 0.7607 - val_accuracy: 0.0570\n",
            "Epoch 27/50\n",
            "900/900 [==============================] - 2s 3ms/step - loss: 0.5499 - accuracy: 0.0610 - val_loss: 0.7720 - val_accuracy: 0.0563\n",
            "Epoch 28/50\n",
            "900/900 [==============================] - 2s 3ms/step - loss: 0.5486 - accuracy: 0.0605 - val_loss: 0.7694 - val_accuracy: 0.0568\n",
            "Epoch 29/50\n",
            "900/900 [==============================] - 2s 2ms/step - loss: 0.5470 - accuracy: 0.0615 - val_loss: 0.7712 - val_accuracy: 0.0570\n",
            "Epoch 30/50\n",
            "900/900 [==============================] - 3s 3ms/step - loss: 0.5472 - accuracy: 0.0610 - val_loss: 0.7699 - val_accuracy: 0.0568\n",
            "Epoch 31/50\n",
            "900/900 [==============================] - 2s 3ms/step - loss: 0.5441 - accuracy: 0.0602 - val_loss: 0.7649 - val_accuracy: 0.0570\n",
            "Epoch 32/50\n",
            "900/900 [==============================] - 2s 3ms/step - loss: 0.5415 - accuracy: 0.0613 - val_loss: 0.7744 - val_accuracy: 0.0569\n"
          ],
          "name": "stdout"
        }
      ]
    },
    {
      "cell_type": "markdown",
      "metadata": {
        "id": "XLFAXj4xKiLr"
      },
      "source": [
        "# View the summary of the model"
      ]
    },
    {
      "cell_type": "code",
      "metadata": {
        "colab": {
          "base_uri": "https://localhost:8080/"
        },
        "id": "RaZQeDsLy7Nh",
        "outputId": "25618a53-20a7-4865-f8bd-7992c3a9e841"
      },
      "source": [
        "#print model summary\n",
        "model.summary()"
      ],
      "execution_count": null,
      "outputs": [
        {
          "output_type": "stream",
          "text": [
            "Model: \"model_2\"\n",
            "__________________________________________________________________________________________________\n",
            "Layer (type)                    Output Shape         Param #     Connected to                     \n",
            "==================================================================================================\n",
            "movie_id (InputLayer)           [(None, 1)]          0                                            \n",
            "__________________________________________________________________________________________________\n",
            "user_id (InputLayer)            [(None, 1)]          0                                            \n",
            "__________________________________________________________________________________________________\n",
            "movie_embedding_layer (Embeddin (None, 1, 10)        16820       movie_id[0][0]                   \n",
            "__________________________________________________________________________________________________\n",
            "user_embedding_layer (Embedding (None, 1, 10)        9430        user_id[0][0]                    \n",
            "__________________________________________________________________________________________________\n",
            "dot_product_layer (Dot)         (None, 1, 1)         0           movie_embedding_layer[0][0]      \n",
            "                                                                 user_embedding_layer[0][0]       \n",
            "__________________________________________________________________________________________________\n",
            "Layer_1 (Dense)                 (None, 1, 70)        140         dot_product_layer[0][0]          \n",
            "__________________________________________________________________________________________________\n",
            "Dropout_1 (Dropout)             (None, 1, 70)        0           Layer_1[0][0]                    \n",
            "__________________________________________________________________________________________________\n",
            "Layer_2 (Dense)                 (None, 1, 50)        3550        Dropout_1[0][0]                  \n",
            "__________________________________________________________________________________________________\n",
            "Dropout_2 (Dropout)             (None, 1, 50)        0           Layer_2[0][0]                    \n",
            "__________________________________________________________________________________________________\n",
            "Layer_3 (Dense)                 (None, 1, 20)        1020        Dropout_2[0][0]                  \n",
            "__________________________________________________________________________________________________\n",
            "Dropout_3 (Dropout)             (None, 1, 20)        0           Layer_3[0][0]                    \n",
            "__________________________________________________________________________________________________\n",
            "Layer_4 (Dense)                 (None, 1, 10)        210         Dropout_3[0][0]                  \n",
            "__________________________________________________________________________________________________\n",
            "result (Dense)                  (None, 1, 1)         11          Layer_4[0][0]                    \n",
            "==================================================================================================\n",
            "Total params: 31,181\n",
            "Trainable params: 31,181\n",
            "Non-trainable params: 0\n",
            "__________________________________________________________________________________________________\n"
          ],
          "name": "stdout"
        }
      ]
    },
    {
      "cell_type": "markdown",
      "metadata": {
        "id": "Fed7D-T9KnAs"
      },
      "source": [
        "# Detailed model plot "
      ]
    },
    {
      "cell_type": "code",
      "metadata": {
        "colab": {
          "base_uri": "https://localhost:8080/",
          "height": 1000
        },
        "id": "iNy-XhcPy9WQ",
        "outputId": "50bfb6d5-ffeb-43a0-f84b-b44ced5ab6c4"
      },
      "source": [
        "keras.utils.plot_model(model, show_shapes=True)"
      ],
      "execution_count": null,
      "outputs": [
        {
          "output_type": "execute_result",
          "data": {
            "image/png": "[encoded data removed]",
            "text/plain": [
              "<IPython.core.display.Image object>"
            ]
          },
          "metadata": {
            "tags": []
          },
          "execution_count": 30
        }
      ]
    },
    {
      "cell_type": "code",
      "metadata": {
        "id": "ZF2lKWYey_HV"
      },
      "source": [
        "from pylab import rcParams\n",
        "rcParams['figure.figsize'] = 10, 5"
      ],
      "execution_count": null,
      "outputs": []
    },
    {
      "cell_type": "code",
      "metadata": {
        "colab": {
          "base_uri": "https://localhost:8080/",
          "height": 350
        },
        "id": "tu7TVFQCzA3s",
        "outputId": "2162e596-fd35-4252-a432-ee02f050d38d"
      },
      "source": [
        "import matplotlib.pyplot as plt\n",
        "plt.plot(history.history['loss'],'g')\n",
        "plt.title('model loss')\n",
        "plt.ylabel('loss')\n",
        "plt.xlabel('epochs')\n",
        "plt.legend(['train'], loc='upper right')\n",
        "plt.grid(True)\n",
        "plt.show()"
      ],
      "execution_count": null,
      "outputs": [
        {
          "output_type": "display_data",
          "data": {
            "image/png": "[encoded data removed]",
            "text/plain": [
              "<Figure size 720x360 with 1 Axes>"
            ]
          },
          "metadata": {
            "tags": [],
            "needs_background": "light"
          }
        }
      ]
    },
    {
      "cell_type": "code",
      "metadata": {
        "id": "NnwZxFCCzCFh"
      },
      "source": [
        "REC_USER_ID = 200"
      ],
      "execution_count": null,
      "outputs": []
    },
    {
      "cell_type": "markdown",
      "metadata": {
        "id": "wgo1qmM0XvDD"
      },
      "source": [
        "# Explanation 3 by Vikyath S (AM.EN.U4CSE17261)"
      ]
    },
    {
      "cell_type": "markdown",
      "metadata": {
        "id": "vVlwt68SYya6"
      },
      "source": [
        "# t-SNE Implementation"
      ]
    },
    {
      "cell_type": "code",
      "metadata": {
        "id": "OISHVndTzEW8"
      },
      "source": [
        "MOVIE_EMBEDDINGS_DATABASE = []\n",
        "EMBEDDING_MAP = collections.defaultdict()"
      ],
      "execution_count": null,
      "outputs": []
    },
    {
      "cell_type": "code",
      "metadata": {
        "id": "Z-g2iQcfzFlM"
      },
      "source": [
        "for umovie_id in UNIQUE_MOVIE_IDS:\n",
        "    emb = movie_model.predict(np.array([umovie_id]))\n",
        "    val = list(emb.reshape(1,-1))[0]\n",
        "    MOVIE_EMBEDDINGS_DATABASE.insert(umovie_id, val)\n",
        "    EMBEDDING_MAP[umovie_id] = val"
      ],
      "execution_count": null,
      "outputs": []
    },
    {
      "cell_type": "markdown",
      "metadata": {
        "id": "K_2f6R8q2hvM"
      },
      "source": [
        "It is important to visualize the movie data embeddings generated from movieID, in order to verify them.  For this, we shall use the T-Distributed Stochas-tic Neighbour EmbeddingTool.  Via this tool,  the higher dimensional datais reduced to two dimensions for proper visualization.  Along with this,theembeddings which are the most similar will be clustered together, while themore  dissimilar  embeddings  will  be  farther  in  distance.   The  “perplexity”parameter can be between 5 and50, and can be set accordingly.  40 is chosenas perplexity."
      ]
    },
    {
      "cell_type": "code",
      "metadata": {
        "id": "kMANys8szH_f"
      },
      "source": [
        "def plot_tsne(model, MOVIE_EMBEDDINGS_DATABASE, size = NUM_MOVIES):\n",
        "    tsne_model = TSNE(perplexity=40, n_components=2, init='pca', n_iter=2500, random_state=23)\n",
        "    new_values = tsne_model.fit_transform(MOVIE_EMBEDDINGS_DATABASE[:size])\n",
        "    x = []\n",
        "    y = []\n",
        "    for value in new_values:\n",
        "        x.append(value[0])\n",
        "        y.append(value[1])\n",
        "    labels = list(range(0,size))\n",
        "    plt.figure(figsize=(16, 16)) \n",
        "    for i in range(len(x)):\n",
        "        plt.scatter(x[i],y[i])\n",
        "    plt.show()"
      ],
      "execution_count": null,
      "outputs": []
    },
    {
      "cell_type": "markdown",
      "metadata": {
        "id": "t56hkWZiKzC1"
      },
      "source": [
        "## Plot TSNE Model"
      ]
    },
    {
      "cell_type": "code",
      "metadata": {
        "colab": {
          "base_uri": "https://localhost:8080/",
          "height": 918
        },
        "id": "PCKZA2LUzO5K",
        "outputId": "1bf587f0-1c8c-49c9-c15b-8bd02a6fb5a8"
      },
      "source": [
        "plot_tsne(model, MOVIE_EMBEDDINGS_DATABASE)"
      ],
      "execution_count": null,
      "outputs": [
        {
          "output_type": "display_data",
          "data": {
            "image/png": "[encoded data removed]",
            "text/plain": [
              "<Figure size 1152x1152 with 1 Axes>"
            ]
          },
          "metadata": {
            "tags": [],
            "needs_background": "light"
          }
        }
      ]
    },
    {
      "cell_type": "markdown",
      "metadata": {
        "id": "GQzAPWOwLBxh"
      },
      "source": [
        "# Show 300 only on the plot"
      ]
    },
    {
      "cell_type": "code",
      "metadata": {
        "colab": {
          "base_uri": "https://localhost:8080/",
          "height": 918
        },
        "id": "Qs0lJ9cWzRLG",
        "outputId": "e50422dd-321b-47a9-ce1f-a959c44a85df"
      },
      "source": [
        "plot_tsne(model, MOVIE_EMBEDDINGS_DATABASE, 300)"
      ],
      "execution_count": null,
      "outputs": [
        {
          "output_type": "display_data",
          "data": {
            "image/png": "[encoded data removed]",
            "text/plain": [
              "<Figure size 1152x1152 with 1 Axes>"
            ]
          },
          "metadata": {
            "tags": [],
            "needs_background": "light"
          }
        }
      ]
    },
    {
      "cell_type": "code",
      "metadata": {
        "colab": {
          "base_uri": "https://localhost:8080/"
        },
        "id": "fLpEVL8-zS94",
        "outputId": "ae993b08-8109-460a-def7-5308011697b1"
      },
      "source": [
        "np.average(movielens.loc[movielens['movie_id'] == 92, 'rating'], axis=0)"
      ],
      "execution_count": null,
      "outputs": [
        {
          "output_type": "execute_result",
          "data": {
            "text/plain": [
              "3.7232142857142856"
            ]
          },
          "metadata": {
            "tags": []
          },
          "execution_count": 50
        }
      ]
    },
    {
      "cell_type": "code",
      "metadata": {
        "colab": {
          "base_uri": "https://localhost:8080/"
        },
        "id": "QbtJVN2HzVq9",
        "outputId": "e5eb8e6b-c4f2-4de3-ee73-45ee9a4a3c24"
      },
      "source": [
        "np.average(movielens.loc[movielens['movie_id'] == 155, 'rating'], axis=0)"
      ],
      "execution_count": null,
      "outputs": [
        {
          "output_type": "execute_result",
          "data": {
            "text/plain": [
              "3.9864864864864864"
            ]
          },
          "metadata": {
            "tags": []
          },
          "execution_count": 51
        }
      ]
    },
    {
      "cell_type": "markdown",
      "metadata": {
        "id": "ujcajbLyX4SJ"
      },
      "source": [
        "# Explanation 4 by Vishnu Priya (AM.EN.U4CSE17241)"
      ]
    },
    {
      "cell_type": "code",
      "metadata": {
        "id": "Hkkh6_xWzXBz"
      },
      "source": [
        "knn_train_label = UNIQUE_MOVIE_IDS"
      ],
      "execution_count": null,
      "outputs": []
    },
    {
      "cell_type": "markdown",
      "metadata": {
        "id": "vL7bKiuwt_BZ"
      },
      "source": [
        "# KNN for closest neighbors\n",
        "\n",
        "By passing the User ID, the user embeddings are generated.  These embeddings are used to look up the most similar movies.  Via the KNN approach,the closest embedded movies are shown as recommendation results"
      ]
    },
    {
      "cell_type": "code",
      "metadata": {
        "id": "2rKt7TF6zbSt"
      },
      "source": [
        "from sklearn.neighbors import KNeighborsClassifier\n",
        "clf = KNeighborsClassifier(n_neighbors=11)\n",
        "clf.fit(MOVIE_EMBEDDINGS_DATABASE, knn_train_label)\n",
        "\n",
        "def recommend_movies(embedding):\n",
        "    distances, indices = clf.kneighbors(embedding.reshape(1, -1),  n_neighbors=10)\n",
        "    indices = indices.reshape(10,1)\n",
        "    df_indices = pd.DataFrame(indices, columns = ['movie_id'])\n",
        "    return df_indices.merge(movies,on='movie_id',how='inner',suffixes=['_u', '_m'])['title']"
      ],
      "execution_count": null,
      "outputs": []
    },
    {
      "cell_type": "code",
      "metadata": {
        "colab": {
          "base_uri": "https://localhost:8080/"
        },
        "id": "mae39uoqzciY",
        "outputId": "dbd9241c-f8f6-45e5-e625-16f01134ce80"
      },
      "source": [
        "REC_USER_ID"
      ],
      "execution_count": null,
      "outputs": [
        {
          "output_type": "execute_result",
          "data": {
            "text/plain": [
              "200"
            ]
          },
          "metadata": {
            "tags": []
          },
          "execution_count": 44
        }
      ]
    },
    {
      "cell_type": "code",
      "metadata": {
        "id": "Aj4pPoRSzdym"
      },
      "source": [
        "REC_USER_ID = 200"
      ],
      "execution_count": null,
      "outputs": []
    },
    {
      "cell_type": "code",
      "metadata": {
        "id": "2LXqMDC0zfjX"
      },
      "source": [
        "user_embedding=user_model.predict([REC_USER_ID]).reshape(1,-1)[0]"
      ],
      "execution_count": null,
      "outputs": []
    },
    {
      "cell_type": "code",
      "metadata": {
        "colab": {
          "base_uri": "https://localhost:8080/"
        },
        "id": "Y6WE_cmOzg_-",
        "outputId": "571ee03f-b156-4c46-b22a-9233938ec1a8"
      },
      "source": [
        "recommend_movies(user_embedding)"
      ],
      "execution_count": null,
      "outputs": [
        {
          "output_type": "execute_result",
          "data": {
            "text/plain": [
              "0                       Sum of Us, The (1994)\n",
              "1                  Spanking the Monkey (1994)\n",
              "2    Tin Drum, The (Blechtrommel, Die) (1979)\n",
              "3                      Michael Collins (1996)\n",
              "4    Savage Nights (Nuits fauves, Les) (1992)\n",
              "5                           Braveheart (1995)\n",
              "6                           Gridlock'd (1997)\n",
              "7                       Excess Baggage (1997)\n",
              "8                      Grass Harp, The (1995)\n",
              "9                         Bed of Roses (1996)\n",
              "Name: title, dtype: object"
            ]
          },
          "metadata": {
            "tags": []
          },
          "execution_count": 47
        }
      ]
    },
    {
      "cell_type": "code",
      "metadata": {
        "id": "qNWqdoi2iJRK"
      },
      "source": [
        "REC_USER_ID=355"
      ],
      "execution_count": null,
      "outputs": []
    },
    {
      "cell_type": "code",
      "metadata": {
        "colab": {
          "base_uri": "https://localhost:8080/"
        },
        "id": "-4egCyJNzkm3",
        "outputId": "ec580fea-acc3-44ec-d62d-5ca536ba0e8f"
      },
      "source": [
        "user_embedding=user_model.predict([REC_USER_ID]).reshape(1,-1)[0]\n",
        "recommend_movies(user_embedding)"
      ],
      "execution_count": null,
      "outputs": [
        {
          "output_type": "execute_result",
          "data": {
            "text/plain": [
              "0          'Til There Was You (1997)\n",
              "1     Designated Mourner, The (1997)\n",
              "2          Death in Brunswick (1991)\n",
              "3         I Like It Like That (1994)\n",
              "4                        Jude (1996)\n",
              "5                Turning, The (1992)\n",
              "6    Midnight Dancers (Sibak) (1994)\n",
              "7             Higher Learning (1995)\n",
              "8                    Spy Hard (1996)\n",
              "9            Sudden Manhattan (1996)\n",
              "Name: title, dtype: object"
            ]
          },
          "metadata": {
            "tags": []
          },
          "execution_count": 49
        }
      ]
    },
    {
      "cell_type": "code",
      "metadata": {
        "id": "liYACA7jjuTu"
      },
      "source": [
        ""
      ],
      "execution_count": null,
      "outputs": []
    }
  ]
}