{
  "nbformat": 4,
  "nbformat_minor": 0,
  "metadata": {
    "colab": {
      "name": "Recommender System Final.ipynb",
      "provenance": [],
      "collapsed_sections": [
        "qCa6mHYMM7BG",
        "t8SJA6HIXZfz",
        "s2IVUS7dMmIr",
        "wgo1qmM0XvDD",
        "ujcajbLyX4SJ"
      ],
      "authorship_tag": "ABX9TyMjwS7HQn2j99dFkH5yjxdy",
      "include_colab_link": true
    },
    "kernelspec": {
      "name": "python3",
      "display_name": "Python 3"
    },
    "language_info": {
      "name": "python"
    }
  },
  "cells": [
    {
      "cell_type": "markdown",
      "metadata": {
        "id": "view-in-github",
        "colab_type": "text"
      },
      "source": [
        "<a href=\"https://colab.research.google.com/github/CodeManJay/Movielens-Embedding-Recommendation-System/blob/main/Recommender_System_Final.ipynb\" target=\"_parent\"><img src=\"https://colab.research.google.com/assets/colab-badge.svg\" alt=\"Open In Colab\"/></a>"
      ]
    },
    {
      "cell_type": "markdown",
      "metadata": {
        "id": "MgFx7RMnreII"
      },
      "source": [
        "# Recommender System with Visualized Embeddings\n",
        "\n",
        "The aim is to build a Movie Recommender System that can generate User and item Embeddings, and provide Recommendations based on it, while having the feature to visualize these Embeddings. Visualization of large chunks ofdata is necessary to analyse and verify them properly.  The movielens-100k dataset is chosen as the dataset for this project.  The aim is to utilize a novel combination of approaches for recommendations and visualization pertaining to this dataset.\n",
        "\n"
      ]
    },
    {
      "cell_type": "markdown",
      "metadata": {
        "id": "3Vboi_s3XEvR"
      },
      "source": [
        "# Explanation 1 by Vishvesh Pathak (AM.EN.U4CSE17354)"
      ]
    },
    {
      "cell_type": "markdown",
      "metadata": {
        "id": "HxqbhXDLA51D"
      },
      "source": [
        "# Import all the necessary or Important libraries for this project.\n",
        "\n",
        "\n",
        "\n"
      ]
    },
    {
      "cell_type": "code",
      "metadata": {
        "id": "wnz4uxeYPLoA"
      },
      "source": [
        "from tensorflow import keras\n",
        "from tensorflow.keras import layers\n",
        "from tensorflow.keras import backend as K\n",
        "import tensorflow as tf\n",
        "import pandas as pd\n",
        "import numpy as np"
      ],
      "execution_count": 54,
      "outputs": []
    },
    {
      "cell_type": "code",
      "metadata": {
        "id": "xOJhmPU7PN06"
      },
      "source": [
        "from sklearn.model_selection import GridSearchCV , KFold , cross_val_score\n",
        "from sklearn.model_selection import train_test_split, KFold\n",
        "from sklearn.metrics import mean_absolute_error \n",
        "from sklearn.neighbors import NearestNeighbors  \n",
        "from sklearn.model_selection import StratifiedKFold"
      ],
      "execution_count": 55,
      "outputs": []
    },
    {
      "cell_type": "code",
      "metadata": {
        "id": "dzNh4n47PPij"
      },
      "source": [
        "from keras.models import Model\n",
        "%matplotlib inline"
      ],
      "execution_count": 56,
      "outputs": []
    },
    {
      "cell_type": "code",
      "metadata": {
        "id": "FBJUyS4kPRXg"
      },
      "source": [
        "from urllib.request import urlretrieve\n",
        "import collections\n",
        "import zipfile"
      ],
      "execution_count": 57,
      "outputs": []
    },
    {
      "cell_type": "code",
      "metadata": {
        "id": "pzlPWYxhzGug"
      },
      "source": [
        "from sklearn.manifold import TSNE\n",
        "import matplotlib.pyplot as plt\n",
        "%matplotlib inline\n",
        "from pylab import rcParams"
      ],
      "execution_count": 58,
      "outputs": []
    },
    {
      "cell_type": "markdown",
      "metadata": {
        "id": "QTvICnmfA83g"
      },
      "source": [
        "\n",
        "\n",
        "# Retrieve dataset and URL, extract"
      ]
    },
    {
      "cell_type": "code",
      "metadata": {
        "colab": {
          "base_uri": "https://localhost:8080/"
        },
        "id": "sBQFdkiYPTng",
        "outputId": "ad9dd217-cb0c-46ea-f5b9-4f47d580e393"
      },
      "source": [
        "print(\"Downloading dataset...\")\n",
        "urlretrieve(\"http://files.grouplens.org/datasets/movielens/ml-100k.zip\", \"movielens.zip\")\n",
        "zip_ref = zipfile.ZipFile('movielens.zip', \"r\")\n",
        "zip_ref.extractall()\n",
        "print(zip_ref.read('ml-100k/u.info'))"
      ],
      "execution_count": 59,
      "outputs": [
        {
          "output_type": "stream",
          "text": [
            "Downloading dataset...\n",
            "b'943 users\\n1682 items\\n100000 ratings\\n'\n"
          ],
          "name": "stdout"
        }
      ]
    },
    {
      "cell_type": "markdown",
      "metadata": {
        "id": "-HXqrh3KBSFg"
      },
      "source": [
        "# Analyse Dataset."
      ]
    },
    {
      "cell_type": "code",
      "metadata": {
        "colab": {
          "base_uri": "https://localhost:8080/",
          "height": 141
        },
        "id": "7tJQ7u1oPV1q",
        "outputId": "7d9df90a-f8cc-4360-f55c-7ae57e2b4955"
      },
      "source": [
        "info = pd.read_csv(\"/content/ml-100k/u.info\", sep=\" \", header=None)\n",
        "info.columns=['Counts', 'Type']\n",
        "info"
      ],
      "execution_count": 60,
      "outputs": [
        {
          "output_type": "execute_result",
          "data": {
            "text/html": [
              "<div>\n",
              "<style scoped>\n",
              "    .dataframe tbody tr th:only-of-type {\n",
              "        vertical-align: middle;\n",
              "    }\n",
              "\n",
              "    .dataframe tbody tr th {\n",
              "        vertical-align: top;\n",
              "    }\n",
              "\n",
              "    .dataframe thead th {\n",
              "        text-align: right;\n",
              "    }\n",
              "</style>\n",
              "<table border=\"1\" class=\"dataframe\">\n",
              "  <thead>\n",
              "    <tr style=\"text-align: right;\">\n",
              "      <th></th>\n",
              "      <th>Counts</th>\n",
              "      <th>Type</th>\n",
              "    </tr>\n",
              "  </thead>\n",
              "  <tbody>\n",
              "    <tr>\n",
              "      <th>0</th>\n",
              "      <td>943</td>\n",
              "      <td>users</td>\n",
              "    </tr>\n",
              "    <tr>\n",
              "      <th>1</th>\n",
              "      <td>1682</td>\n",
              "      <td>items</td>\n",
              "    </tr>\n",
              "    <tr>\n",
              "      <th>2</th>\n",
              "      <td>100000</td>\n",
              "      <td>ratings</td>\n",
              "    </tr>\n",
              "  </tbody>\n",
              "</table>\n",
              "</div>"
            ],
            "text/plain": [
              "   Counts     Type\n",
              "0     943    users\n",
              "1    1682    items\n",
              "2  100000  ratings"
            ]
          },
          "metadata": {
            "tags": []
          },
          "execution_count": 60
        }
      ]
    },
    {
      "cell_type": "code",
      "metadata": {
        "id": "4XGqF7FlPXVv",
        "colab": {
          "base_uri": "https://localhost:8080/"
        },
        "outputId": "ddc0a3b4-e02a-4a9a-d9d0-bc2cefaf3601"
      },
      "source": [
        "genre = pd.read_csv('/content/ml-100k/u.genre', sep=\"|\", encoding='latin-1', header=None)\n",
        "genre.drop(genre.columns[1], axis=1, inplace=True)\n",
        "genre.columns = ['Genres']\n",
        "genre_list = list(genre['Genres'])\n",
        "genre_list"
      ],
      "execution_count": 61,
      "outputs": [
        {
          "output_type": "execute_result",
          "data": {
            "text/plain": [
              "['unknown',\n",
              " 'Action',\n",
              " 'Adventure',\n",
              " 'Animation',\n",
              " \"Children's\",\n",
              " 'Comedy',\n",
              " 'Crime',\n",
              " 'Documentary',\n",
              " 'Drama',\n",
              " 'Fantasy',\n",
              " 'Film-Noir',\n",
              " 'Horror',\n",
              " 'Musical',\n",
              " 'Mystery',\n",
              " 'Romance',\n",
              " 'Sci-Fi',\n",
              " 'Thriller',\n",
              " 'War',\n",
              " 'Western']"
            ]
          },
          "metadata": {
            "tags": []
          },
          "execution_count": 61
        }
      ]
    },
    {
      "cell_type": "markdown",
      "metadata": {
        "id": "7UHWKC6sEk_o"
      },
      "source": [
        "# Remove delimiters,etc"
      ]
    },
    {
      "cell_type": "code",
      "metadata": {
        "id": "BCDihWh6PbyB",
        "colab": {
          "base_uri": "https://localhost:8080/",
          "height": 373
        },
        "outputId": "ba0d8052-ad56-4883-b9a5-abfefe0b36fd"
      },
      "source": [
        "item = pd.read_csv('/content/ml-100k/u.item', sep=\"|\", encoding='latin-1', header=None)\n",
        "item.columns = ['movie id', 'movie title' ,'release date','video release date', 'IMDb URL', 'unknown', 'Action', \n",
        "                'Adventure', 'Animation', 'Children\\'s', 'Comedy', 'Crime', 'Documentary', 'Drama', 'Fantasy', 'Film-Noir', \n",
        "                'Horror', 'Musical', 'Mystery', 'Romance', 'Sci-Fi', 'Thriller', 'War', 'Western']\n",
        "item.head()"
      ],
      "execution_count": 62,
      "outputs": [
        {
          "output_type": "execute_result",
          "data": {
            "text/html": [
              "<div>\n",
              "<style scoped>\n",
              "    .dataframe tbody tr th:only-of-type {\n",
              "        vertical-align: middle;\n",
              "    }\n",
              "\n",
              "    .dataframe tbody tr th {\n",
              "        vertical-align: top;\n",
              "    }\n",
              "\n",
              "    .dataframe thead th {\n",
              "        text-align: right;\n",
              "    }\n",
              "</style>\n",
              "<table border=\"1\" class=\"dataframe\">\n",
              "  <thead>\n",
              "    <tr style=\"text-align: right;\">\n",
              "      <th></th>\n",
              "      <th>movie id</th>\n",
              "      <th>movie title</th>\n",
              "      <th>release date</th>\n",
              "      <th>video release date</th>\n",
              "      <th>IMDb URL</th>\n",
              "      <th>unknown</th>\n",
              "      <th>Action</th>\n",
              "      <th>Adventure</th>\n",
              "      <th>Animation</th>\n",
              "      <th>Children's</th>\n",
              "      <th>Comedy</th>\n",
              "      <th>Crime</th>\n",
              "      <th>Documentary</th>\n",
              "      <th>Drama</th>\n",
              "      <th>Fantasy</th>\n",
              "      <th>Film-Noir</th>\n",
              "      <th>Horror</th>\n",
              "      <th>Musical</th>\n",
              "      <th>Mystery</th>\n",
              "      <th>Romance</th>\n",
              "      <th>Sci-Fi</th>\n",
              "      <th>Thriller</th>\n",
              "      <th>War</th>\n",
              "      <th>Western</th>\n",
              "    </tr>\n",
              "  </thead>\n",
              "  <tbody>\n",
              "    <tr>\n",
              "      <th>0</th>\n",
              "      <td>1</td>\n",
              "      <td>Toy Story (1995)</td>\n",
              "      <td>01-Jan-1995</td>\n",
              "      <td>NaN</td>\n",
              "      <td>http://us.imdb.com/M/title-exact?Toy%20Story%2...</td>\n",
              "      <td>0</td>\n",
              "      <td>0</td>\n",
              "      <td>0</td>\n",
              "      <td>1</td>\n",
              "      <td>1</td>\n",
              "      <td>1</td>\n",
              "      <td>0</td>\n",
              "      <td>0</td>\n",
              "      <td>0</td>\n",
              "      <td>0</td>\n",
              "      <td>0</td>\n",
              "      <td>0</td>\n",
              "      <td>0</td>\n",
              "      <td>0</td>\n",
              "      <td>0</td>\n",
              "      <td>0</td>\n",
              "      <td>0</td>\n",
              "      <td>0</td>\n",
              "      <td>0</td>\n",
              "    </tr>\n",
              "    <tr>\n",
              "      <th>1</th>\n",
              "      <td>2</td>\n",
              "      <td>GoldenEye (1995)</td>\n",
              "      <td>01-Jan-1995</td>\n",
              "      <td>NaN</td>\n",
              "      <td>http://us.imdb.com/M/title-exact?GoldenEye%20(...</td>\n",
              "      <td>0</td>\n",
              "      <td>1</td>\n",
              "      <td>1</td>\n",
              "      <td>0</td>\n",
              "      <td>0</td>\n",
              "      <td>0</td>\n",
              "      <td>0</td>\n",
              "      <td>0</td>\n",
              "      <td>0</td>\n",
              "      <td>0</td>\n",
              "      <td>0</td>\n",
              "      <td>0</td>\n",
              "      <td>0</td>\n",
              "      <td>0</td>\n",
              "      <td>0</td>\n",
              "      <td>0</td>\n",
              "      <td>1</td>\n",
              "      <td>0</td>\n",
              "      <td>0</td>\n",
              "    </tr>\n",
              "    <tr>\n",
              "      <th>2</th>\n",
              "      <td>3</td>\n",
              "      <td>Four Rooms (1995)</td>\n",
              "      <td>01-Jan-1995</td>\n",
              "      <td>NaN</td>\n",
              "      <td>http://us.imdb.com/M/title-exact?Four%20Rooms%...</td>\n",
              "      <td>0</td>\n",
              "      <td>0</td>\n",
              "      <td>0</td>\n",
              "      <td>0</td>\n",
              "      <td>0</td>\n",
              "      <td>0</td>\n",
              "      <td>0</td>\n",
              "      <td>0</td>\n",
              "      <td>0</td>\n",
              "      <td>0</td>\n",
              "      <td>0</td>\n",
              "      <td>0</td>\n",
              "      <td>0</td>\n",
              "      <td>0</td>\n",
              "      <td>0</td>\n",
              "      <td>0</td>\n",
              "      <td>1</td>\n",
              "      <td>0</td>\n",
              "      <td>0</td>\n",
              "    </tr>\n",
              "    <tr>\n",
              "      <th>3</th>\n",
              "      <td>4</td>\n",
              "      <td>Get Shorty (1995)</td>\n",
              "      <td>01-Jan-1995</td>\n",
              "      <td>NaN</td>\n",
              "      <td>http://us.imdb.com/M/title-exact?Get%20Shorty%...</td>\n",
              "      <td>0</td>\n",
              "      <td>1</td>\n",
              "      <td>0</td>\n",
              "      <td>0</td>\n",
              "      <td>0</td>\n",
              "      <td>1</td>\n",
              "      <td>0</td>\n",
              "      <td>0</td>\n",
              "      <td>1</td>\n",
              "      <td>0</td>\n",
              "      <td>0</td>\n",
              "      <td>0</td>\n",
              "      <td>0</td>\n",
              "      <td>0</td>\n",
              "      <td>0</td>\n",
              "      <td>0</td>\n",
              "      <td>0</td>\n",
              "      <td>0</td>\n",
              "      <td>0</td>\n",
              "    </tr>\n",
              "    <tr>\n",
              "      <th>4</th>\n",
              "      <td>5</td>\n",
              "      <td>Copycat (1995)</td>\n",
              "      <td>01-Jan-1995</td>\n",
              "      <td>NaN</td>\n",
              "      <td>http://us.imdb.com/M/title-exact?Copycat%20(1995)</td>\n",
              "      <td>0</td>\n",
              "      <td>0</td>\n",
              "      <td>0</td>\n",
              "      <td>0</td>\n",
              "      <td>0</td>\n",
              "      <td>0</td>\n",
              "      <td>1</td>\n",
              "      <td>0</td>\n",
              "      <td>1</td>\n",
              "      <td>0</td>\n",
              "      <td>0</td>\n",
              "      <td>0</td>\n",
              "      <td>0</td>\n",
              "      <td>0</td>\n",
              "      <td>0</td>\n",
              "      <td>0</td>\n",
              "      <td>1</td>\n",
              "      <td>0</td>\n",
              "      <td>0</td>\n",
              "    </tr>\n",
              "  </tbody>\n",
              "</table>\n",
              "</div>"
            ],
            "text/plain": [
              "   movie id        movie title release date  ...  Thriller War  Western\n",
              "0         1   Toy Story (1995)  01-Jan-1995  ...         0   0        0\n",
              "1         2   GoldenEye (1995)  01-Jan-1995  ...         1   0        0\n",
              "2         3  Four Rooms (1995)  01-Jan-1995  ...         1   0        0\n",
              "3         4  Get Shorty (1995)  01-Jan-1995  ...         0   0        0\n",
              "4         5     Copycat (1995)  01-Jan-1995  ...         1   0        0\n",
              "\n",
              "[5 rows x 24 columns]"
            ]
          },
          "metadata": {
            "tags": []
          },
          "execution_count": 62
        }
      ]
    },
    {
      "cell_type": "code",
      "metadata": {
        "id": "iQ8ZKeVKw10i"
      },
      "source": [
        "data = pd.read_csv('/content/ml-100k/u.data', sep=\"\\t\", header=None)"
      ],
      "execution_count": 63,
      "outputs": []
    },
    {
      "cell_type": "code",
      "metadata": {
        "id": "tDNp_xETPaCq",
        "colab": {
          "base_uri": "https://localhost:8080/",
          "height": 202
        },
        "outputId": "674c877e-b48b-408b-feb0-78f846fe3f84"
      },
      "source": [
        "data.columns = ['user_id', 'movie_id', 'rating', 'unix_timestamp']\n",
        "data.head()"
      ],
      "execution_count": 64,
      "outputs": [
        {
          "output_type": "execute_result",
          "data": {
            "text/html": [
              "<div>\n",
              "<style scoped>\n",
              "    .dataframe tbody tr th:only-of-type {\n",
              "        vertical-align: middle;\n",
              "    }\n",
              "\n",
              "    .dataframe tbody tr th {\n",
              "        vertical-align: top;\n",
              "    }\n",
              "\n",
              "    .dataframe thead th {\n",
              "        text-align: right;\n",
              "    }\n",
              "</style>\n",
              "<table border=\"1\" class=\"dataframe\">\n",
              "  <thead>\n",
              "    <tr style=\"text-align: right;\">\n",
              "      <th></th>\n",
              "      <th>user_id</th>\n",
              "      <th>movie_id</th>\n",
              "      <th>rating</th>\n",
              "      <th>unix_timestamp</th>\n",
              "    </tr>\n",
              "  </thead>\n",
              "  <tbody>\n",
              "    <tr>\n",
              "      <th>0</th>\n",
              "      <td>196</td>\n",
              "      <td>242</td>\n",
              "      <td>3</td>\n",
              "      <td>881250949</td>\n",
              "    </tr>\n",
              "    <tr>\n",
              "      <th>1</th>\n",
              "      <td>186</td>\n",
              "      <td>302</td>\n",
              "      <td>3</td>\n",
              "      <td>891717742</td>\n",
              "    </tr>\n",
              "    <tr>\n",
              "      <th>2</th>\n",
              "      <td>22</td>\n",
              "      <td>377</td>\n",
              "      <td>1</td>\n",
              "      <td>878887116</td>\n",
              "    </tr>\n",
              "    <tr>\n",
              "      <th>3</th>\n",
              "      <td>244</td>\n",
              "      <td>51</td>\n",
              "      <td>2</td>\n",
              "      <td>880606923</td>\n",
              "    </tr>\n",
              "    <tr>\n",
              "      <th>4</th>\n",
              "      <td>166</td>\n",
              "      <td>346</td>\n",
              "      <td>1</td>\n",
              "      <td>886397596</td>\n",
              "    </tr>\n",
              "  </tbody>\n",
              "</table>\n",
              "</div>"
            ],
            "text/plain": [
              "   user_id  movie_id  rating  unix_timestamp\n",
              "0      196       242       3       881250949\n",
              "1      186       302       3       891717742\n",
              "2       22       377       1       878887116\n",
              "3      244        51       2       880606923\n",
              "4      166       346       1       886397596"
            ]
          },
          "metadata": {
            "tags": []
          },
          "execution_count": 64
        }
      ]
    },
    {
      "cell_type": "code",
      "metadata": {
        "id": "R3Ehjnr_w5Go"
      },
      "source": [
        "#Load the User data\n",
        "user = pd.read_csv('/content/ml-100k/u.user', sep=\"|\", encoding='latin-1', header=None)"
      ],
      "execution_count": 65,
      "outputs": []
    },
    {
      "cell_type": "code",
      "metadata": {
        "id": "YRk9GuDkPdb6",
        "colab": {
          "base_uri": "https://localhost:8080/",
          "height": 202
        },
        "outputId": "7450810e-aba3-4f9e-85e6-cc8bf2861989"
      },
      "source": [
        "user.columns = ['user id', 'age', 'gender', 'occupation', 'zip code']\n",
        "user.head()"
      ],
      "execution_count": 66,
      "outputs": [
        {
          "output_type": "execute_result",
          "data": {
            "text/html": [
              "<div>\n",
              "<style scoped>\n",
              "    .dataframe tbody tr th:only-of-type {\n",
              "        vertical-align: middle;\n",
              "    }\n",
              "\n",
              "    .dataframe tbody tr th {\n",
              "        vertical-align: top;\n",
              "    }\n",
              "\n",
              "    .dataframe thead th {\n",
              "        text-align: right;\n",
              "    }\n",
              "</style>\n",
              "<table border=\"1\" class=\"dataframe\">\n",
              "  <thead>\n",
              "    <tr style=\"text-align: right;\">\n",
              "      <th></th>\n",
              "      <th>user id</th>\n",
              "      <th>age</th>\n",
              "      <th>gender</th>\n",
              "      <th>occupation</th>\n",
              "      <th>zip code</th>\n",
              "    </tr>\n",
              "  </thead>\n",
              "  <tbody>\n",
              "    <tr>\n",
              "      <th>0</th>\n",
              "      <td>1</td>\n",
              "      <td>24</td>\n",
              "      <td>M</td>\n",
              "      <td>technician</td>\n",
              "      <td>85711</td>\n",
              "    </tr>\n",
              "    <tr>\n",
              "      <th>1</th>\n",
              "      <td>2</td>\n",
              "      <td>53</td>\n",
              "      <td>F</td>\n",
              "      <td>other</td>\n",
              "      <td>94043</td>\n",
              "    </tr>\n",
              "    <tr>\n",
              "      <th>2</th>\n",
              "      <td>3</td>\n",
              "      <td>23</td>\n",
              "      <td>M</td>\n",
              "      <td>writer</td>\n",
              "      <td>32067</td>\n",
              "    </tr>\n",
              "    <tr>\n",
              "      <th>3</th>\n",
              "      <td>4</td>\n",
              "      <td>24</td>\n",
              "      <td>M</td>\n",
              "      <td>technician</td>\n",
              "      <td>43537</td>\n",
              "    </tr>\n",
              "    <tr>\n",
              "      <th>4</th>\n",
              "      <td>5</td>\n",
              "      <td>33</td>\n",
              "      <td>F</td>\n",
              "      <td>other</td>\n",
              "      <td>15213</td>\n",
              "    </tr>\n",
              "  </tbody>\n",
              "</table>\n",
              "</div>"
            ],
            "text/plain": [
              "   user id  age gender  occupation zip code\n",
              "0        1   24      M  technician    85711\n",
              "1        2   53      F       other    94043\n",
              "2        3   23      M      writer    32067\n",
              "3        4   24      M  technician    43537\n",
              "4        5   33      F       other    15213"
            ]
          },
          "metadata": {
            "tags": []
          },
          "execution_count": 66
        }
      ]
    },
    {
      "cell_type": "markdown",
      "metadata": {
        "id": "vZ4uwzD3BW1q"
      },
      "source": [
        "Specify the columns for users and ratings"
      ]
    },
    {
      "cell_type": "code",
      "metadata": {
        "id": "HTIkHeM-PfE7"
      },
      "source": [
        "# Load each data set (users, movies, and ratings).\n",
        "users_cols = ['user_id', 'age', 'sex', 'occupation', 'zip_code']\n",
        "users = pd.read_csv('ml-100k/u.user', sep='|', names=users_cols, encoding='latin-1')"
      ],
      "execution_count": 67,
      "outputs": []
    },
    {
      "cell_type": "code",
      "metadata": {
        "id": "Xt5nmdkfw-1D"
      },
      "source": [
        "ratings_cols = ['user_id', 'movie_id', 'rating', 'unix_timestamp']\n",
        "ratings = pd.read_csv('ml-100k/u.data', sep='\\t', names=ratings_cols, encoding='latin-1')"
      ],
      "execution_count": 68,
      "outputs": []
    },
    {
      "cell_type": "code",
      "metadata": {
        "id": "eb6VWxupPghp"
      },
      "source": [
        "#different genre columns\n",
        "genre_cols = [\n",
        "    \"genre_unknown\", \"Action\", \"Adventure\", \"Animation\", \"Children\", \"Comedy\",\n",
        "    \"Crime\", \"Documentary\", \"Drama\", \"Fantasy\", \"Film-Noir\", \"Horror\",\n",
        "    \"Musical\", \"Mystery\", \"Romance\", \"Sci-Fi\", \"Thriller\", \"War\", \"Western\"\n",
        "]\n",
        "#different movie columns, with genres appended\n",
        "movies_cols = [\n",
        "    'movie_id', 'title', 'release_date', \"video_release_date\", \"imdb_url\"\n",
        "] + genre_cols\n",
        "\n",
        "movies = pd.read_csv(\n",
        "    'ml-100k/u.item', sep='|', names=movies_cols, encoding='latin-1')"
      ],
      "execution_count": 69,
      "outputs": []
    },
    {
      "cell_type": "code",
      "metadata": {
        "id": "i7NckqTLPkSq",
        "colab": {
          "base_uri": "https://localhost:8080/"
        },
        "outputId": "00772967-da92-482c-eada-dad3ed582d88"
      },
      "source": [
        "movies.columns"
      ],
      "execution_count": 70,
      "outputs": [
        {
          "output_type": "execute_result",
          "data": {
            "text/plain": [
              "Index(['movie_id', 'title', 'release_date', 'video_release_date', 'imdb_url',\n",
              "       'genre_unknown', 'Action', 'Adventure', 'Animation', 'Children',\n",
              "       'Comedy', 'Crime', 'Documentary', 'Drama', 'Fantasy', 'Film-Noir',\n",
              "       'Horror', 'Musical', 'Mystery', 'Romance', 'Sci-Fi', 'Thriller', 'War',\n",
              "       'Western'],\n",
              "      dtype='object')"
            ]
          },
          "metadata": {
            "tags": []
          },
          "execution_count": 70
        }
      ]
    },
    {
      "cell_type": "code",
      "metadata": {
        "id": "xSWtTw8MPmMP"
      },
      "source": [
        "# ids must start from index 0, split release date, change ratings to float, etc\n",
        "users[\"user_id\"]=users[\"user_id\"].apply(lambda x: int(x-1))"
      ],
      "execution_count": 71,
      "outputs": []
    },
    {
      "cell_type": "code",
      "metadata": {
        "id": "QUWTcAwXZFWQ"
      },
      "source": [
        "ratings[\"user_id\"]=ratings[\"user_id\"].apply(lambda x: int(x-1))\n",
        "ratings[\"movie_id\"]=ratings[\"movie_id\"].apply(lambda x: int(x-1))\n",
        "ratings[\"rating\"]=ratings[\"rating\"].apply(lambda x: float(x))"
      ],
      "execution_count": 72,
      "outputs": []
    },
    {
      "cell_type": "code",
      "metadata": {
        "id": "bZfmKoQnZE-2"
      },
      "source": [
        "movies[\"movie_id\"]=movies[\"movie_id\"].apply(lambda x: int(x-1))\n",
        "movies[\"year\"]=movies['release_date'].apply(lambda x: str(x).split('-')[-1])"
      ],
      "execution_count": 73,
      "outputs": []
    },
    {
      "cell_type": "markdown",
      "metadata": {
        "id": "qCa6mHYMM7BG"
      },
      "source": [
        "# Merge all these columns  for one final dataframe\n"
      ]
    },
    {
      "cell_type": "code",
      "metadata": {
        "id": "sIJ8rHfZPoyk"
      },
      "source": [
        "movielens=ratings.merge(movies, on='movie_id').merge(users, on='user_id')"
      ],
      "execution_count": 74,
      "outputs": []
    },
    {
      "cell_type": "code",
      "metadata": {
        "id": "wMAAc-l9PqcT",
        "colab": {
          "base_uri": "https://localhost:8080/",
          "height": 0
        },
        "outputId": "db817e5f-a15f-4435-af95-ba6dcadfecf5"
      },
      "source": [
        "movielens.head()"
      ],
      "execution_count": 75,
      "outputs": [
        {
          "output_type": "execute_result",
          "data": {
            "text/html": [
              "<div>\n",
              "<style scoped>\n",
              "    .dataframe tbody tr th:only-of-type {\n",
              "        vertical-align: middle;\n",
              "    }\n",
              "\n",
              "    .dataframe tbody tr th {\n",
              "        vertical-align: top;\n",
              "    }\n",
              "\n",
              "    .dataframe thead th {\n",
              "        text-align: right;\n",
              "    }\n",
              "</style>\n",
              "<table border=\"1\" class=\"dataframe\">\n",
              "  <thead>\n",
              "    <tr style=\"text-align: right;\">\n",
              "      <th></th>\n",
              "      <th>user_id</th>\n",
              "      <th>movie_id</th>\n",
              "      <th>rating</th>\n",
              "      <th>unix_timestamp</th>\n",
              "      <th>title</th>\n",
              "      <th>release_date</th>\n",
              "      <th>video_release_date</th>\n",
              "      <th>imdb_url</th>\n",
              "      <th>genre_unknown</th>\n",
              "      <th>Action</th>\n",
              "      <th>Adventure</th>\n",
              "      <th>Animation</th>\n",
              "      <th>Children</th>\n",
              "      <th>Comedy</th>\n",
              "      <th>Crime</th>\n",
              "      <th>Documentary</th>\n",
              "      <th>Drama</th>\n",
              "      <th>Fantasy</th>\n",
              "      <th>Film-Noir</th>\n",
              "      <th>Horror</th>\n",
              "      <th>Musical</th>\n",
              "      <th>Mystery</th>\n",
              "      <th>Romance</th>\n",
              "      <th>Sci-Fi</th>\n",
              "      <th>Thriller</th>\n",
              "      <th>War</th>\n",
              "      <th>Western</th>\n",
              "      <th>year</th>\n",
              "      <th>age</th>\n",
              "      <th>sex</th>\n",
              "      <th>occupation</th>\n",
              "      <th>zip_code</th>\n",
              "    </tr>\n",
              "  </thead>\n",
              "  <tbody>\n",
              "    <tr>\n",
              "      <th>0</th>\n",
              "      <td>195</td>\n",
              "      <td>241</td>\n",
              "      <td>3.0</td>\n",
              "      <td>881250949</td>\n",
              "      <td>Kolya (1996)</td>\n",
              "      <td>24-Jan-1997</td>\n",
              "      <td>NaN</td>\n",
              "      <td>http://us.imdb.com/M/title-exact?Kolya%20(1996)</td>\n",
              "      <td>0</td>\n",
              "      <td>0</td>\n",
              "      <td>0</td>\n",
              "      <td>0</td>\n",
              "      <td>0</td>\n",
              "      <td>1</td>\n",
              "      <td>0</td>\n",
              "      <td>0</td>\n",
              "      <td>0</td>\n",
              "      <td>0</td>\n",
              "      <td>0</td>\n",
              "      <td>0</td>\n",
              "      <td>0</td>\n",
              "      <td>0</td>\n",
              "      <td>0</td>\n",
              "      <td>0</td>\n",
              "      <td>0</td>\n",
              "      <td>0</td>\n",
              "      <td>0</td>\n",
              "      <td>1997</td>\n",
              "      <td>49</td>\n",
              "      <td>M</td>\n",
              "      <td>writer</td>\n",
              "      <td>55105</td>\n",
              "    </tr>\n",
              "    <tr>\n",
              "      <th>1</th>\n",
              "      <td>195</td>\n",
              "      <td>256</td>\n",
              "      <td>2.0</td>\n",
              "      <td>881251577</td>\n",
              "      <td>Men in Black (1997)</td>\n",
              "      <td>04-Jul-1997</td>\n",
              "      <td>NaN</td>\n",
              "      <td>http://us.imdb.com/M/title-exact?Men+in+Black+...</td>\n",
              "      <td>0</td>\n",
              "      <td>1</td>\n",
              "      <td>1</td>\n",
              "      <td>0</td>\n",
              "      <td>0</td>\n",
              "      <td>1</td>\n",
              "      <td>0</td>\n",
              "      <td>0</td>\n",
              "      <td>0</td>\n",
              "      <td>0</td>\n",
              "      <td>0</td>\n",
              "      <td>0</td>\n",
              "      <td>0</td>\n",
              "      <td>0</td>\n",
              "      <td>0</td>\n",
              "      <td>1</td>\n",
              "      <td>0</td>\n",
              "      <td>0</td>\n",
              "      <td>0</td>\n",
              "      <td>1997</td>\n",
              "      <td>49</td>\n",
              "      <td>M</td>\n",
              "      <td>writer</td>\n",
              "      <td>55105</td>\n",
              "    </tr>\n",
              "    <tr>\n",
              "      <th>2</th>\n",
              "      <td>195</td>\n",
              "      <td>110</td>\n",
              "      <td>4.0</td>\n",
              "      <td>881251793</td>\n",
              "      <td>Truth About Cats &amp; Dogs, The (1996)</td>\n",
              "      <td>26-Apr-1996</td>\n",
              "      <td>NaN</td>\n",
              "      <td>http://us.imdb.com/M/title-exact?Truth%20About...</td>\n",
              "      <td>0</td>\n",
              "      <td>0</td>\n",
              "      <td>0</td>\n",
              "      <td>0</td>\n",
              "      <td>0</td>\n",
              "      <td>1</td>\n",
              "      <td>0</td>\n",
              "      <td>0</td>\n",
              "      <td>0</td>\n",
              "      <td>0</td>\n",
              "      <td>0</td>\n",
              "      <td>0</td>\n",
              "      <td>0</td>\n",
              "      <td>0</td>\n",
              "      <td>1</td>\n",
              "      <td>0</td>\n",
              "      <td>0</td>\n",
              "      <td>0</td>\n",
              "      <td>0</td>\n",
              "      <td>1996</td>\n",
              "      <td>49</td>\n",
              "      <td>M</td>\n",
              "      <td>writer</td>\n",
              "      <td>55105</td>\n",
              "    </tr>\n",
              "    <tr>\n",
              "      <th>3</th>\n",
              "      <td>195</td>\n",
              "      <td>24</td>\n",
              "      <td>4.0</td>\n",
              "      <td>881251955</td>\n",
              "      <td>Birdcage, The (1996)</td>\n",
              "      <td>08-Mar-1996</td>\n",
              "      <td>NaN</td>\n",
              "      <td>http://us.imdb.com/M/title-exact?Birdcage,%20T...</td>\n",
              "      <td>0</td>\n",
              "      <td>0</td>\n",
              "      <td>0</td>\n",
              "      <td>0</td>\n",
              "      <td>0</td>\n",
              "      <td>1</td>\n",
              "      <td>0</td>\n",
              "      <td>0</td>\n",
              "      <td>0</td>\n",
              "      <td>0</td>\n",
              "      <td>0</td>\n",
              "      <td>0</td>\n",
              "      <td>0</td>\n",
              "      <td>0</td>\n",
              "      <td>0</td>\n",
              "      <td>0</td>\n",
              "      <td>0</td>\n",
              "      <td>0</td>\n",
              "      <td>0</td>\n",
              "      <td>1996</td>\n",
              "      <td>49</td>\n",
              "      <td>M</td>\n",
              "      <td>writer</td>\n",
              "      <td>55105</td>\n",
              "    </tr>\n",
              "    <tr>\n",
              "      <th>4</th>\n",
              "      <td>195</td>\n",
              "      <td>381</td>\n",
              "      <td>4.0</td>\n",
              "      <td>881251843</td>\n",
              "      <td>Adventures of Priscilla, Queen of the Desert, ...</td>\n",
              "      <td>01-Jan-1994</td>\n",
              "      <td>NaN</td>\n",
              "      <td>http://us.imdb.com/M/title-exact?Adventures%20...</td>\n",
              "      <td>0</td>\n",
              "      <td>0</td>\n",
              "      <td>0</td>\n",
              "      <td>0</td>\n",
              "      <td>0</td>\n",
              "      <td>1</td>\n",
              "      <td>0</td>\n",
              "      <td>0</td>\n",
              "      <td>1</td>\n",
              "      <td>0</td>\n",
              "      <td>0</td>\n",
              "      <td>0</td>\n",
              "      <td>0</td>\n",
              "      <td>0</td>\n",
              "      <td>0</td>\n",
              "      <td>0</td>\n",
              "      <td>0</td>\n",
              "      <td>0</td>\n",
              "      <td>0</td>\n",
              "      <td>1994</td>\n",
              "      <td>49</td>\n",
              "      <td>M</td>\n",
              "      <td>writer</td>\n",
              "      <td>55105</td>\n",
              "    </tr>\n",
              "  </tbody>\n",
              "</table>\n",
              "</div>"
            ],
            "text/plain": [
              "   user_id  movie_id  rating  unix_timestamp  ... age sex  occupation zip_code\n",
              "0      195       241     3.0       881250949  ...  49   M      writer    55105\n",
              "1      195       256     2.0       881251577  ...  49   M      writer    55105\n",
              "2      195       110     4.0       881251793  ...  49   M      writer    55105\n",
              "3      195        24     4.0       881251955  ...  49   M      writer    55105\n",
              "4      195       381     4.0       881251843  ...  49   M      writer    55105\n",
              "\n",
              "[5 rows x 32 columns]"
            ]
          },
          "metadata": {
            "tags": []
          },
          "execution_count": 75
        }
      ]
    },
    {
      "cell_type": "code",
      "metadata": {
        "id": "mk1nC9b8PsFd",
        "colab": {
          "base_uri": "https://localhost:8080/"
        },
        "outputId": "f812801e-a4e7-497d-9b81-6a8cd6e6c440"
      },
      "source": [
        "movielens.columns"
      ],
      "execution_count": 76,
      "outputs": [
        {
          "output_type": "execute_result",
          "data": {
            "text/plain": [
              "Index(['user_id', 'movie_id', 'rating', 'unix_timestamp', 'title',\n",
              "       'release_date', 'video_release_date', 'imdb_url', 'genre_unknown',\n",
              "       'Action', 'Adventure', 'Animation', 'Children', 'Comedy', 'Crime',\n",
              "       'Documentary', 'Drama', 'Fantasy', 'Film-Noir', 'Horror', 'Musical',\n",
              "       'Mystery', 'Romance', 'Sci-Fi', 'Thriller', 'War', 'Western', 'year',\n",
              "       'age', 'sex', 'occupation', 'zip_code'],\n",
              "      dtype='object')"
            ]
          },
          "metadata": {
            "tags": []
          },
          "execution_count": 76
        }
      ]
    },
    {
      "cell_type": "markdown",
      "metadata": {
        "id": "t8SJA6HIXZfz"
      },
      "source": [
        "# Explanation 2 by Sreenivas Jayanth Yadhati (AM.EN.U4CSE17328)"
      ]
    },
    {
      "cell_type": "markdown",
      "metadata": {
        "id": "s2IVUS7dMmIr"
      },
      "source": [
        "# Split into training and test sets"
      ]
    },
    {
      "cell_type": "code",
      "metadata": {
        "id": "gcuUunLbx8lq"
      },
      "source": [
        "train, test = train_test_split(movielens, test_size=0.1)"
      ],
      "execution_count": 77,
      "outputs": []
    },
    {
      "cell_type": "markdown",
      "metadata": {
        "id": "ONu_Y513nAhq"
      },
      "source": [
        "Number of rows"
      ]
    },
    {
      "cell_type": "code",
      "metadata": {
        "id": "Jc1zFOJMyWAz"
      },
      "source": [
        "ROW_COUNT=train.shape[0]"
      ],
      "execution_count": 78,
      "outputs": []
    },
    {
      "cell_type": "code",
      "metadata": {
        "id": "z2gQeHIZybr8"
      },
      "source": [
        "#specifying embedding size, and assign all non unique user ids and movie ids\n",
        "EMBEDDING_SIZE=10\n",
        "NUM_USERS=movielens['user_id'].nunique()\n",
        "NUM_MOVIES=movielens['movie_id'].nunique()"
      ],
      "execution_count": 79,
      "outputs": []
    },
    {
      "cell_type": "code",
      "metadata": {
        "id": "IP2L6ZVDyc97",
        "colab": {
          "base_uri": "https://localhost:8080/",
          "height": 0
        },
        "outputId": "07861f83-54c4-45fa-904c-e6eaac477a0b"
      },
      "source": [
        "train.head()"
      ],
      "execution_count": 80,
      "outputs": [
        {
          "output_type": "execute_result",
          "data": {
            "text/html": [
              "<div>\n",
              "<style scoped>\n",
              "    .dataframe tbody tr th:only-of-type {\n",
              "        vertical-align: middle;\n",
              "    }\n",
              "\n",
              "    .dataframe tbody tr th {\n",
              "        vertical-align: top;\n",
              "    }\n",
              "\n",
              "    .dataframe thead th {\n",
              "        text-align: right;\n",
              "    }\n",
              "</style>\n",
              "<table border=\"1\" class=\"dataframe\">\n",
              "  <thead>\n",
              "    <tr style=\"text-align: right;\">\n",
              "      <th></th>\n",
              "      <th>user_id</th>\n",
              "      <th>movie_id</th>\n",
              "      <th>rating</th>\n",
              "      <th>unix_timestamp</th>\n",
              "      <th>title</th>\n",
              "      <th>release_date</th>\n",
              "      <th>video_release_date</th>\n",
              "      <th>imdb_url</th>\n",
              "      <th>genre_unknown</th>\n",
              "      <th>Action</th>\n",
              "      <th>Adventure</th>\n",
              "      <th>Animation</th>\n",
              "      <th>Children</th>\n",
              "      <th>Comedy</th>\n",
              "      <th>Crime</th>\n",
              "      <th>Documentary</th>\n",
              "      <th>Drama</th>\n",
              "      <th>Fantasy</th>\n",
              "      <th>Film-Noir</th>\n",
              "      <th>Horror</th>\n",
              "      <th>Musical</th>\n",
              "      <th>Mystery</th>\n",
              "      <th>Romance</th>\n",
              "      <th>Sci-Fi</th>\n",
              "      <th>Thriller</th>\n",
              "      <th>War</th>\n",
              "      <th>Western</th>\n",
              "      <th>year</th>\n",
              "      <th>age</th>\n",
              "      <th>sex</th>\n",
              "      <th>occupation</th>\n",
              "      <th>zip_code</th>\n",
              "    </tr>\n",
              "  </thead>\n",
              "  <tbody>\n",
              "    <tr>\n",
              "      <th>35657</th>\n",
              "      <td>362</td>\n",
              "      <td>216</td>\n",
              "      <td>2.0</td>\n",
              "      <td>891498286</td>\n",
              "      <td>Bram Stoker's Dracula (1992)</td>\n",
              "      <td>01-Jan-1992</td>\n",
              "      <td>NaN</td>\n",
              "      <td>http://us.imdb.com/M/title-exact?Bram%20Stoker...</td>\n",
              "      <td>0</td>\n",
              "      <td>0</td>\n",
              "      <td>0</td>\n",
              "      <td>0</td>\n",
              "      <td>0</td>\n",
              "      <td>0</td>\n",
              "      <td>0</td>\n",
              "      <td>0</td>\n",
              "      <td>0</td>\n",
              "      <td>0</td>\n",
              "      <td>0</td>\n",
              "      <td>1</td>\n",
              "      <td>0</td>\n",
              "      <td>0</td>\n",
              "      <td>1</td>\n",
              "      <td>0</td>\n",
              "      <td>0</td>\n",
              "      <td>0</td>\n",
              "      <td>0</td>\n",
              "      <td>1992</td>\n",
              "      <td>20</td>\n",
              "      <td>M</td>\n",
              "      <td>student</td>\n",
              "      <td>87501</td>\n",
              "    </tr>\n",
              "    <tr>\n",
              "      <th>81815</th>\n",
              "      <td>346</td>\n",
              "      <td>194</td>\n",
              "      <td>4.0</td>\n",
              "      <td>881653603</td>\n",
              "      <td>Terminator, The (1984)</td>\n",
              "      <td>01-Jan-1984</td>\n",
              "      <td>NaN</td>\n",
              "      <td>http://us.imdb.com/M/title-exact?Terminator,%2...</td>\n",
              "      <td>0</td>\n",
              "      <td>1</td>\n",
              "      <td>0</td>\n",
              "      <td>0</td>\n",
              "      <td>0</td>\n",
              "      <td>0</td>\n",
              "      <td>0</td>\n",
              "      <td>0</td>\n",
              "      <td>0</td>\n",
              "      <td>0</td>\n",
              "      <td>0</td>\n",
              "      <td>0</td>\n",
              "      <td>0</td>\n",
              "      <td>0</td>\n",
              "      <td>0</td>\n",
              "      <td>1</td>\n",
              "      <td>1</td>\n",
              "      <td>0</td>\n",
              "      <td>0</td>\n",
              "      <td>1984</td>\n",
              "      <td>18</td>\n",
              "      <td>M</td>\n",
              "      <td>student</td>\n",
              "      <td>90210</td>\n",
              "    </tr>\n",
              "    <tr>\n",
              "      <th>29685</th>\n",
              "      <td>787</td>\n",
              "      <td>809</td>\n",
              "      <td>3.0</td>\n",
              "      <td>880870773</td>\n",
              "      <td>Shadow, The (1994)</td>\n",
              "      <td>01-Jan-1994</td>\n",
              "      <td>NaN</td>\n",
              "      <td>http://us.imdb.com/M/title-exact?Shadow,%20The...</td>\n",
              "      <td>0</td>\n",
              "      <td>1</td>\n",
              "      <td>0</td>\n",
              "      <td>0</td>\n",
              "      <td>0</td>\n",
              "      <td>0</td>\n",
              "      <td>0</td>\n",
              "      <td>0</td>\n",
              "      <td>0</td>\n",
              "      <td>0</td>\n",
              "      <td>0</td>\n",
              "      <td>0</td>\n",
              "      <td>0</td>\n",
              "      <td>0</td>\n",
              "      <td>0</td>\n",
              "      <td>0</td>\n",
              "      <td>0</td>\n",
              "      <td>0</td>\n",
              "      <td>0</td>\n",
              "      <td>1994</td>\n",
              "      <td>51</td>\n",
              "      <td>M</td>\n",
              "      <td>administrator</td>\n",
              "      <td>05779</td>\n",
              "    </tr>\n",
              "    <tr>\n",
              "      <th>73507</th>\n",
              "      <td>127</td>\n",
              "      <td>415</td>\n",
              "      <td>3.0</td>\n",
              "      <td>879967367</td>\n",
              "      <td>Old Yeller (1957)</td>\n",
              "      <td>01-Jan-1957</td>\n",
              "      <td>NaN</td>\n",
              "      <td>http://us.imdb.com/M/title-exact?Old%20Yeller%...</td>\n",
              "      <td>0</td>\n",
              "      <td>0</td>\n",
              "      <td>0</td>\n",
              "      <td>0</td>\n",
              "      <td>1</td>\n",
              "      <td>0</td>\n",
              "      <td>0</td>\n",
              "      <td>0</td>\n",
              "      <td>1</td>\n",
              "      <td>0</td>\n",
              "      <td>0</td>\n",
              "      <td>0</td>\n",
              "      <td>0</td>\n",
              "      <td>0</td>\n",
              "      <td>0</td>\n",
              "      <td>0</td>\n",
              "      <td>0</td>\n",
              "      <td>0</td>\n",
              "      <td>0</td>\n",
              "      <td>1957</td>\n",
              "      <td>24</td>\n",
              "      <td>F</td>\n",
              "      <td>marketing</td>\n",
              "      <td>20009</td>\n",
              "    </tr>\n",
              "    <tr>\n",
              "      <th>34298</th>\n",
              "      <td>421</td>\n",
              "      <td>123</td>\n",
              "      <td>3.0</td>\n",
              "      <td>875129839</td>\n",
              "      <td>Lone Star (1996)</td>\n",
              "      <td>21-Jun-1996</td>\n",
              "      <td>NaN</td>\n",
              "      <td>http://us.imdb.com/M/title-exact?Lone%20Star%2...</td>\n",
              "      <td>0</td>\n",
              "      <td>0</td>\n",
              "      <td>0</td>\n",
              "      <td>0</td>\n",
              "      <td>0</td>\n",
              "      <td>0</td>\n",
              "      <td>0</td>\n",
              "      <td>0</td>\n",
              "      <td>1</td>\n",
              "      <td>0</td>\n",
              "      <td>0</td>\n",
              "      <td>0</td>\n",
              "      <td>0</td>\n",
              "      <td>1</td>\n",
              "      <td>0</td>\n",
              "      <td>0</td>\n",
              "      <td>0</td>\n",
              "      <td>0</td>\n",
              "      <td>0</td>\n",
              "      <td>1996</td>\n",
              "      <td>26</td>\n",
              "      <td>M</td>\n",
              "      <td>entertainment</td>\n",
              "      <td>94533</td>\n",
              "    </tr>\n",
              "  </tbody>\n",
              "</table>\n",
              "</div>"
            ],
            "text/plain": [
              "       user_id  movie_id  rating  ...  sex     occupation zip_code\n",
              "35657      362       216     2.0  ...    M        student    87501\n",
              "81815      346       194     4.0  ...    M        student    90210\n",
              "29685      787       809     3.0  ...    M  administrator    05779\n",
              "73507      127       415     3.0  ...    F      marketing    20009\n",
              "34298      421       123     3.0  ...    M  entertainment    94533\n",
              "\n",
              "[5 rows x 32 columns]"
            ]
          },
          "metadata": {
            "tags": []
          },
          "execution_count": 80
        }
      ]
    },
    {
      "cell_type": "code",
      "metadata": {
        "id": "mvyXjFgjye3M"
      },
      "source": [
        "UNIQUE_MOVIE_IDS = movielens['movie_id'].unique()"
      ],
      "execution_count": 81,
      "outputs": []
    },
    {
      "cell_type": "markdown",
      "metadata": {
        "id": "DKL0yKfTKKjW"
      },
      "source": [
        "# Create the Neural Network.\n",
        "\n",
        "The dot product of the user embedding and item embedding vectors is taken.  Subsequently, the Neural Network Layers are created using the “Dense” func-tion  of  the  Keras  Library.The  dropout  function  is  implemented  to  reduceoverfitting.  The model is set for training for 50 epochs, and the “earlystop-ping”  parameter  is  set  for  stopping  the  training  if  validation  loss  doesn’tchange for 10 consecutive epochs .Other parameters are also finalized,  likethe Adam optimizer for Stochastic Gradient Descent"
      ]
    },
    {
      "cell_type": "code",
      "metadata": {
        "id": "qzVtAbuyyhHE"
      },
      "source": [
        "def EmbeddingNetwork(EMBEDDING_SIZE, NUM_MOVIES, NUM_USERS, ROW_COUNT):\n",
        "    movie_input=keras.Input(shape=(1,), name='movie_id')\n",
        "  # Add Embedding Layer for movies\n",
        "    movie_embed_layer=layers.Embedding(output_dim=EMBEDDING_SIZE, input_dim=NUM_MOVIES, input_length=ROW_COUNT, name='movie_embedding_layer')(movie_input)\n",
        "    movie_vector=layers.Flatten(name='FlattenMovie')(movie_embed_layer)\n",
        "#Model Input for movies\n",
        "    movie_model=keras.Model(inputs=movie_input, outputs=movie_vector)\n",
        "    user_input=keras.Input(shape=(1,), name='user_id')\n",
        "  #add embedding layer for user\n",
        "    user_embed_layer=layers.Embedding(output_dim=EMBEDDING_SIZE, input_dim=NUM_USERS, input_length=ROW_COUNT, name='user_embedding_layer')(user_input)\n",
        "    user_vector=layers.Flatten(name='FlattenUser')(user_embed_layer)\n",
        "  #Model input froM user\n",
        "    user_model=keras.Model(inputs=user_input, outputs=user_vector)\n",
        "  #Take the dot Product \n",
        "    merged=layers.Dot(name = 'dot_product_layer', normalize = True, axes = 2)([movie_embed_layer, user_embed_layer])\n",
        "    merged_dropout=layers.Dropout(0.2)(merged)\n",
        "    dense_1=layers.Dense(70,name='Layer_1')(merged)\n",
        "    dropout_1=layers.Dropout(0.2,name='Dropout_1')(dense_1)\n",
        "    dense_2=layers.Dense(50,name='Layer_2')(dropout_1)\n",
        "    dropout_2=layers.Dropout(0.2,name='Dropout_2')(dense_2)\n",
        "    dense_3=keras.layers.Dense(20,name='Layer_3')(dropout_2)\n",
        "    dropout_3=keras.layers.Dropout(0.2,name='Dropout_3')(dense_3)\n",
        "    dense_4=keras.layers.Dense(10,name='Layer_4', activation='relu')(dropout_3)\n",
        "    #output layer\n",
        "    result=layers.Dense(1, name='result', activation=\"relu\") (dense_4)\n",
        "    adam=keras.optimizers.Adam(lr=0.001)\n",
        "    model=keras.Model([movie_input, user_input], result)\n",
        "    model.compile(optimizer=adam,loss= 'mean_absolute_error',metrics=[\"accuracy\"])\n",
        "    return model, movie_model, user_model"
      ],
      "execution_count": 82,
      "outputs": []
    },
    {
      "cell_type": "code",
      "metadata": {
        "id": "Bdl2AHebyiqr",
        "colab": {
          "base_uri": "https://localhost:8080/"
        },
        "outputId": "5b7446f1-3790-46c5-bf09-9b31380c8dd1"
      },
      "source": [
        "model, movie_model, user_model = EmbeddingNetwork(EMBEDDING_SIZE, NUM_MOVIES, NUM_USERS, ROW_COUNT)"
      ],
      "execution_count": 83,
      "outputs": [
        {
          "output_type": "stream",
          "text": [
            "/usr/local/lib/python3.7/dist-packages/tensorflow/python/keras/optimizer_v2/optimizer_v2.py:375: UserWarning: The `lr` argument is deprecated, use `learning_rate` instead.\n",
            "  \"The `lr` argument is deprecated, use `learning_rate` instead.\")\n"
          ],
          "name": "stderr"
        }
      ]
    },
    {
      "cell_type": "code",
      "metadata": {
        "colab": {
          "base_uri": "https://localhost:8080/"
        },
        "id": "7qE_kxPiylWW",
        "outputId": "65d8e30d-2671-47e2-ab07-44448ea06986"
      },
      "source": [
        "callbacks = [keras.callbacks.EarlyStopping('val_loss', patience=10),\n",
        "             keras.callbacks.ModelCheckpoint('besttest.h5', save_best_only=True)]\n",
        "\n",
        "history = model.fit([train.movie_id, train.user_id],train.rating, batch_size=100,\n",
        "                              epochs =50, validation_data = ([test.movie_id, test.user_id],test.rating),\n",
        "                              verbose = 1, \n",
        "                              callbacks = callbacks)"
      ],
      "execution_count": 84,
      "outputs": [
        {
          "output_type": "stream",
          "text": [
            "Epoch 1/50\n",
            "900/900 [==============================] - 3s 3ms/step - loss: 1.0577 - accuracy: 0.0602 - val_loss: 0.9508 - val_accuracy: 0.0623\n",
            "Epoch 2/50\n",
            "900/900 [==============================] - 2s 2ms/step - loss: 0.9490 - accuracy: 0.0610 - val_loss: 0.9308 - val_accuracy: 0.0623\n",
            "Epoch 3/50\n",
            "900/900 [==============================] - 2s 3ms/step - loss: 0.9306 - accuracy: 0.0610 - val_loss: 0.9193 - val_accuracy: 0.0623\n",
            "Epoch 4/50\n",
            "900/900 [==============================] - 2s 3ms/step - loss: 0.9176 - accuracy: 0.0610 - val_loss: 0.9161 - val_accuracy: 0.0623\n",
            "Epoch 5/50\n",
            "900/900 [==============================] - 2s 2ms/step - loss: 0.8790 - accuracy: 0.0610 - val_loss: 0.8255 - val_accuracy: 0.0623\n",
            "Epoch 6/50\n",
            "900/900 [==============================] - 2s 3ms/step - loss: 0.7484 - accuracy: 0.0610 - val_loss: 0.7763 - val_accuracy: 0.0623\n",
            "Epoch 7/50\n",
            "900/900 [==============================] - 2s 3ms/step - loss: 0.6923 - accuracy: 0.0610 - val_loss: 0.7628 - val_accuracy: 0.0623\n",
            "Epoch 8/50\n",
            "900/900 [==============================] - 2s 3ms/step - loss: 0.6611 - accuracy: 0.0610 - val_loss: 0.7659 - val_accuracy: 0.0623\n",
            "Epoch 9/50\n",
            "900/900 [==============================] - 2s 3ms/step - loss: 0.6422 - accuracy: 0.0609 - val_loss: 0.7629 - val_accuracy: 0.0623\n",
            "Epoch 10/50\n",
            "900/900 [==============================] - 2s 3ms/step - loss: 0.6283 - accuracy: 0.0608 - val_loss: 0.7579 - val_accuracy: 0.0623\n",
            "Epoch 11/50\n",
            "900/900 [==============================] - 2s 3ms/step - loss: 0.6172 - accuracy: 0.0607 - val_loss: 0.7586 - val_accuracy: 0.0623\n",
            "Epoch 12/50\n",
            "900/900 [==============================] - 2s 3ms/step - loss: 0.6062 - accuracy: 0.0606 - val_loss: 0.7621 - val_accuracy: 0.0623\n",
            "Epoch 13/50\n",
            "900/900 [==============================] - 2s 3ms/step - loss: 0.5995 - accuracy: 0.0604 - val_loss: 0.7593 - val_accuracy: 0.0623\n",
            "Epoch 14/50\n",
            "900/900 [==============================] - 2s 3ms/step - loss: 0.5928 - accuracy: 0.0603 - val_loss: 0.7619 - val_accuracy: 0.0623\n",
            "Epoch 15/50\n",
            "900/900 [==============================] - 2s 2ms/step - loss: 0.5873 - accuracy: 0.0601 - val_loss: 0.7682 - val_accuracy: 0.0623\n",
            "Epoch 16/50\n",
            "900/900 [==============================] - 2s 2ms/step - loss: 0.5829 - accuracy: 0.0602 - val_loss: 0.7579 - val_accuracy: 0.0623\n",
            "Epoch 17/50\n",
            "900/900 [==============================] - 2s 3ms/step - loss: 0.5773 - accuracy: 0.0599 - val_loss: 0.7603 - val_accuracy: 0.0623\n",
            "Epoch 18/50\n",
            "900/900 [==============================] - 2s 3ms/step - loss: 0.5741 - accuracy: 0.0602 - val_loss: 0.7510 - val_accuracy: 0.0623\n",
            "Epoch 19/50\n",
            "900/900 [==============================] - 2s 3ms/step - loss: 0.5712 - accuracy: 0.0598 - val_loss: 0.7506 - val_accuracy: 0.0623\n",
            "Epoch 20/50\n",
            "900/900 [==============================] - 2s 3ms/step - loss: 0.5656 - accuracy: 0.0597 - val_loss: 0.7540 - val_accuracy: 0.0623\n",
            "Epoch 21/50\n",
            "900/900 [==============================] - 2s 3ms/step - loss: 0.5610 - accuracy: 0.0598 - val_loss: 0.7514 - val_accuracy: 0.0623\n",
            "Epoch 22/50\n",
            "900/900 [==============================] - 2s 2ms/step - loss: 0.5580 - accuracy: 0.0596 - val_loss: 0.7544 - val_accuracy: 0.0623\n",
            "Epoch 23/50\n",
            "900/900 [==============================] - 2s 2ms/step - loss: 0.5544 - accuracy: 0.0595 - val_loss: 0.7534 - val_accuracy: 0.0622\n",
            "Epoch 24/50\n",
            "900/900 [==============================] - 2s 3ms/step - loss: 0.5511 - accuracy: 0.0594 - val_loss: 0.7615 - val_accuracy: 0.0622\n",
            "Epoch 25/50\n",
            "900/900 [==============================] - 2s 3ms/step - loss: 0.5475 - accuracy: 0.0594 - val_loss: 0.7599 - val_accuracy: 0.0622\n",
            "Epoch 26/50\n",
            "900/900 [==============================] - 2s 3ms/step - loss: 0.5455 - accuracy: 0.0595 - val_loss: 0.7482 - val_accuracy: 0.0623\n",
            "Epoch 27/50\n",
            "900/900 [==============================] - 2s 3ms/step - loss: 0.5417 - accuracy: 0.0595 - val_loss: 0.7524 - val_accuracy: 0.0623\n",
            "Epoch 28/50\n",
            "900/900 [==============================] - 2s 2ms/step - loss: 0.5402 - accuracy: 0.0593 - val_loss: 0.7574 - val_accuracy: 0.0622\n",
            "Epoch 29/50\n",
            "900/900 [==============================] - 2s 3ms/step - loss: 0.5381 - accuracy: 0.0594 - val_loss: 0.7607 - val_accuracy: 0.0620\n",
            "Epoch 30/50\n",
            "900/900 [==============================] - 2s 2ms/step - loss: 0.5345 - accuracy: 0.0592 - val_loss: 0.7523 - val_accuracy: 0.0623\n",
            "Epoch 31/50\n",
            "900/900 [==============================] - 2s 2ms/step - loss: 0.5338 - accuracy: 0.0594 - val_loss: 0.7551 - val_accuracy: 0.0621\n",
            "Epoch 32/50\n",
            "900/900 [==============================] - 2s 3ms/step - loss: 0.5326 - accuracy: 0.0591 - val_loss: 0.7606 - val_accuracy: 0.0621\n",
            "Epoch 33/50\n",
            "900/900 [==============================] - 2s 2ms/step - loss: 0.5282 - accuracy: 0.0593 - val_loss: 0.7575 - val_accuracy: 0.0622\n",
            "Epoch 34/50\n",
            "900/900 [==============================] - 2s 3ms/step - loss: 0.5278 - accuracy: 0.0591 - val_loss: 0.7550 - val_accuracy: 0.0622\n",
            "Epoch 35/50\n",
            "900/900 [==============================] - 2s 2ms/step - loss: 0.5269 - accuracy: 0.0591 - val_loss: 0.7609 - val_accuracy: 0.0621\n",
            "Epoch 36/50\n",
            "900/900 [==============================] - 2s 3ms/step - loss: 0.5252 - accuracy: 0.0591 - val_loss: 0.7559 - val_accuracy: 0.0621\n"
          ],
          "name": "stdout"
        }
      ]
    },
    {
      "cell_type": "markdown",
      "metadata": {
        "id": "XLFAXj4xKiLr"
      },
      "source": [
        "# View the summary of the model"
      ]
    },
    {
      "cell_type": "code",
      "metadata": {
        "colab": {
          "base_uri": "https://localhost:8080/"
        },
        "id": "RaZQeDsLy7Nh",
        "outputId": "c729a207-a05c-422e-9eb7-4e4006d7af5f"
      },
      "source": [
        "#print model summary\n",
        "model.summary()"
      ],
      "execution_count": 85,
      "outputs": [
        {
          "output_type": "stream",
          "text": [
            "Model: \"model_7\"\n",
            "__________________________________________________________________________________________________\n",
            "Layer (type)                    Output Shape         Param #     Connected to                     \n",
            "==================================================================================================\n",
            "movie_id (InputLayer)           [(None, 1)]          0                                            \n",
            "__________________________________________________________________________________________________\n",
            "user_id (InputLayer)            [(None, 1)]          0                                            \n",
            "__________________________________________________________________________________________________\n",
            "movie_embedding_layer (Embeddin (None, 1, 10)        16820       movie_id[0][0]                   \n",
            "__________________________________________________________________________________________________\n",
            "user_embedding_layer (Embedding (None, 1, 10)        9430        user_id[0][0]                    \n",
            "__________________________________________________________________________________________________\n",
            "dot_product_layer (Dot)         (None, 1, 1)         0           movie_embedding_layer[0][0]      \n",
            "                                                                 user_embedding_layer[0][0]       \n",
            "__________________________________________________________________________________________________\n",
            "Layer_1 (Dense)                 (None, 1, 70)        140         dot_product_layer[0][0]          \n",
            "__________________________________________________________________________________________________\n",
            "Dropout_1 (Dropout)             (None, 1, 70)        0           Layer_1[0][0]                    \n",
            "__________________________________________________________________________________________________\n",
            "Layer_2 (Dense)                 (None, 1, 50)        3550        Dropout_1[0][0]                  \n",
            "__________________________________________________________________________________________________\n",
            "Dropout_2 (Dropout)             (None, 1, 50)        0           Layer_2[0][0]                    \n",
            "__________________________________________________________________________________________________\n",
            "Layer_3 (Dense)                 (None, 1, 20)        1020        Dropout_2[0][0]                  \n",
            "__________________________________________________________________________________________________\n",
            "Dropout_3 (Dropout)             (None, 1, 20)        0           Layer_3[0][0]                    \n",
            "__________________________________________________________________________________________________\n",
            "Layer_4 (Dense)                 (None, 1, 10)        210         Dropout_3[0][0]                  \n",
            "__________________________________________________________________________________________________\n",
            "result (Dense)                  (None, 1, 1)         11          Layer_4[0][0]                    \n",
            "==================================================================================================\n",
            "Total params: 31,181\n",
            "Trainable params: 31,181\n",
            "Non-trainable params: 0\n",
            "__________________________________________________________________________________________________\n"
          ],
          "name": "stdout"
        }
      ]
    },
    {
      "cell_type": "markdown",
      "metadata": {
        "id": "Fed7D-T9KnAs"
      },
      "source": [
        "# Detailed model plot "
      ]
    },
    {
      "cell_type": "code",
      "metadata": {
        "colab": {
          "base_uri": "https://localhost:8080/",
          "height": 1000
        },
        "id": "iNy-XhcPy9WQ",
        "outputId": "02de242c-4d5a-4a69-e9d2-0b210bc0b448"
      },
      "source": [
        "keras.utils.plot_model(model, show_shapes=True)"
      ],
      "execution_count": 86,
      "outputs": [
        {
          "output_type": "execute_result",
          "data": {
            "image/png": "[encoded data removed]",
            "text/plain": [
              "<IPython.core.display.Image object>"
            ]
          },
          "metadata": {
            "tags": []
          },
          "execution_count": 86
        }
      ]
    },
    {
      "cell_type": "code",
      "metadata": {
        "id": "ZF2lKWYey_HV"
      },
      "source": [
        "rcParams['figure.figsize'] = 10, 5"
      ],
      "execution_count": 87,
      "outputs": []
    },
    {
      "cell_type": "code",
      "metadata": {
        "colab": {
          "base_uri": "https://localhost:8080/",
          "height": 350
        },
        "id": "tu7TVFQCzA3s",
        "outputId": "82cde1cb-bb81-49de-b872-5da48045369a"
      },
      "source": [
        "import matplotlib.pyplot as plt\n",
        "plt.plot(history.history['loss'])\n",
        "plt.title('loss')\n",
        "plt.ylabel('loss')\n",
        "plt.xlabel('epochs')\n",
        "plt.legend(['train'], loc='upper right')\n",
        "plt.show()"
      ],
      "execution_count": 104,
      "outputs": [
        {
          "output_type": "display_data",
          "data": {
            "image/png": "[encoded data removed]",
            "text/plain": [
              "<Figure size 720x360 with 1 Axes>"
            ]
          },
          "metadata": {
            "tags": [],
            "needs_background": "light"
          }
        }
      ]
    },
    {
      "cell_type": "markdown",
      "metadata": {
        "id": "wgo1qmM0XvDD"
      },
      "source": [
        "# Explanation 3 by Vikyath S (AM.EN.U4CSE17261)"
      ]
    },
    {
      "cell_type": "markdown",
      "metadata": {
        "id": "vVlwt68SYya6"
      },
      "source": [
        "# t-SNE Implementation"
      ]
    },
    {
      "cell_type": "markdown",
      "metadata": {
        "id": "N6rQ_r8W3HuG"
      },
      "source": [
        "Initialize an empty database and the embedding map."
      ]
    },
    {
      "cell_type": "code",
      "metadata": {
        "id": "Z-g2iQcfzFlM"
      },
      "source": [
        "MOVIE_EMBEDDINGS_DATABASE = []\n",
        "EMBEDDING_MAP = collections.defaultdict()\n",
        "\n",
        "for umovie_id in UNIQUE_MOVIE_IDS:\n",
        "    emb = movie_model.predict(np.array([umovie_id]))\n",
        "    val = list(emb.reshape(1,-1))[0]\n",
        "    MOVIE_EMBEDDINGS_DATABASE.insert(umovie_id, val)\n",
        "    EMBEDDING_MAP[umovie_id] = val"
      ],
      "execution_count": 89,
      "outputs": []
    },
    {
      "cell_type": "markdown",
      "metadata": {
        "id": "K_2f6R8q2hvM"
      },
      "source": [
        "It is important to visualize the movie data embeddings generated from movieID, in order to verify them.  For this, we shall use the T-Distributed Stochas-tic Neighbour EmbeddingTool.  Via this tool,  the higher dimensional datais reduced to two dimensions for proper visualization.  Along with this,theembeddings which are the most similar will be clustered together, while themore  dissimilar  embeddings  will  be  farther  in  distance.   The  “perplexity”parameter can be between 5 and50, and can be set accordingly.  40 is chosenas perplexity."
      ]
    },
    {
      "cell_type": "code",
      "metadata": {
        "id": "kMANys8szH_f"
      },
      "source": [
        "def plot_tsne(model, MOVIE_EMBEDDINGS_DATABASE, size = NUM_MOVIES):\n",
        "    tsne_model = TSNE(perplexity=40, n_components=2, init='pca', n_iter=2500, random_state=23)\n",
        "    new_values = tsne_model.fit_transform(MOVIE_EMBEDDINGS_DATABASE[:size])\n",
        "    x = []\n",
        "    y = []\n",
        "    for value in new_values:\n",
        "        x.append(value[0])\n",
        "        y.append(value[1])\n",
        "    labels = list(range(0,size))\n",
        "    plt.figure(figsize=(16, 16)) \n",
        "    for i in range(len(x)):\n",
        "        plt.scatter(x[i],y[i])\n",
        "    plt.show()"
      ],
      "execution_count": 90,
      "outputs": []
    },
    {
      "cell_type": "markdown",
      "metadata": {
        "id": "t56hkWZiKzC1"
      },
      "source": [
        "## Plot TSNE Model"
      ]
    },
    {
      "cell_type": "code",
      "metadata": {
        "colab": {
          "base_uri": "https://localhost:8080/",
          "height": 918
        },
        "id": "PCKZA2LUzO5K",
        "outputId": "fe3d7793-0be0-4bf7-b11f-2cffa54ba99e"
      },
      "source": [
        "plot_tsne(model, MOVIE_EMBEDDINGS_DATABASE)"
      ],
      "execution_count": 91,
      "outputs": [
        {
          "output_type": "display_data",
          "data": {
            "image/png": "[encoded data removed]",
            "text/plain": [
              "<Figure size 1152x1152 with 1 Axes>"
            ]
          },
          "metadata": {
            "tags": [],
            "needs_background": "light"
          }
        }
      ]
    },
    {
      "cell_type": "code",
      "metadata": {
        "colab": {
          "base_uri": "https://localhost:8080/",
          "height": 918
        },
        "id": "ZDnObBkBGS39",
        "outputId": "7f1798f8-958d-4cb7-8cef-5a88d0096c07"
      },
      "source": [
        "plot_tsne(model, MOVIE_EMBEDDINGS_DATABASE, 200)"
      ],
      "execution_count": 99,
      "outputs": [
        {
          "output_type": "display_data",
          "data": {
            "image/png": "[encoded data removed]",
            "text/plain": [
              "<Figure size 1152x1152 with 1 Axes>"
            ]
          },
          "metadata": {
            "tags": [],
            "needs_background": "light"
          }
        }
      ]
    },
    {
      "cell_type": "markdown",
      "metadata": {
        "id": "ujcajbLyX4SJ"
      },
      "source": [
        "# Explanation 4 by Vishnu Priya (AM.EN.U4CSE17241)"
      ]
    },
    {
      "cell_type": "markdown",
      "metadata": {
        "id": "vL7bKiuwt_BZ"
      },
      "source": [
        "# KNN for closest neighbors\n",
        "\n",
        "By passing the User ID, the user embeddings are generated.  These embeddings are used to look up the most similar movies.  Via the KNN approach,the closest embedded movies are shown as recommendation results"
      ]
    },
    {
      "cell_type": "code",
      "metadata": {
        "id": "2rKt7TF6zbSt"
      },
      "source": [
        "knn_train_ids = UNIQUE_MOVIE_IDS\n",
        "\n",
        "from sklearn.neighbors import KNeighborsClassifier\n",
        "clf = KNeighborsClassifier(n_neighbors=11)\n",
        "clf.fit(MOVIE_EMBEDDINGS_DATABASE, knn_train_ids)\n",
        "\n",
        "def recommend_movies(embedding):\n",
        "    distances, indices = clf.kneighbors(embedding.reshape(1, -1),  n_neighbors=10)\n",
        "    indices = indices.reshape(10,1)\n",
        "    df_indices = pd.DataFrame(indices, columns = ['movie_id'])\n",
        "    return df_indices.merge(movies,on='movie_id',how='inner',suffixes=['_u', '_m'])['title']"
      ],
      "execution_count": 92,
      "outputs": []
    },
    {
      "cell_type": "code",
      "metadata": {
        "id": "Aj4pPoRSzdym"
      },
      "source": [
        "REC_USER_ID = 150"
      ],
      "execution_count": 93,
      "outputs": []
    },
    {
      "cell_type": "code",
      "metadata": {
        "id": "2LXqMDC0zfjX"
      },
      "source": [
        "user_embedding=user_model.predict([REC_USER_ID]).reshape(1,-1)[0]"
      ],
      "execution_count": 94,
      "outputs": []
    },
    {
      "cell_type": "code",
      "metadata": {
        "colab": {
          "base_uri": "https://localhost:8080/"
        },
        "id": "Y6WE_cmOzg_-",
        "outputId": "40ed5e9b-d030-4ff3-eee5-f135e863f5dd"
      },
      "source": [
        "recommend_movies(user_embedding)"
      ],
      "execution_count": 95,
      "outputs": [
        {
          "output_type": "execute_result",
          "data": {
            "text/plain": [
              "0    Winnie the Pooh and the Blustery Day (1968)\n",
              "1                          On Golden Pond (1981)\n",
              "2                             Chasing Amy (1997)\n",
              "3                     Room with a View, A (1986)\n",
              "4                    Beauty and the Beast (1991)\n",
              "5                          Lion King, The (1994)\n",
              "6                               Blob, The (1958)\n",
              "7                        Frighteners, The (1996)\n",
              "8                            Broken Arrow (1996)\n",
              "9                              Unforgiven (1992)\n",
              "Name: title, dtype: object"
            ]
          },
          "metadata": {
            "tags": []
          },
          "execution_count": 95
        }
      ]
    },
    {
      "cell_type": "code",
      "metadata": {
        "id": "qNWqdoi2iJRK"
      },
      "source": [
        "REC_USER_ID=355"
      ],
      "execution_count": 96,
      "outputs": []
    },
    {
      "cell_type": "code",
      "metadata": {
        "colab": {
          "base_uri": "https://localhost:8080/"
        },
        "id": "-4egCyJNzkm3",
        "outputId": "0093c6ce-1069-49ed-a939-a8d0d94186a2"
      },
      "source": [
        "user_embedding=user_model.predict([REC_USER_ID]).reshape(1,-1)[0]\n",
        "recommend_movies(user_embedding)"
      ],
      "execution_count": 97,
      "outputs": [
        {
          "output_type": "execute_result",
          "data": {
            "text/plain": [
              "0               Stranger, The (1994)\n",
              "1                Men in Black (1997)\n",
              "2            Crude Oasis, The (1995)\n",
              "3          Warriors of Virtue (1997)\n",
              "4       Dream With the Fishes (1997)\n",
              "5    Ghost and Mrs. Muir, The (1947)\n",
              "6               Fly Away Home (1996)\n",
              "7                       Mondo (1996)\n",
              "8                     Species (1995)\n",
              "9                      Ransom (1996)\n",
              "Name: title, dtype: object"
            ]
          },
          "metadata": {
            "tags": []
          },
          "execution_count": 97
        }
      ]
    },
    {
      "cell_type": "code",
      "metadata": {
        "id": "liYACA7jjuTu"
      },
      "source": [
        "model.save('my_model.h5')"
      ],
      "execution_count": 101,
      "outputs": []
    }
  ]
}