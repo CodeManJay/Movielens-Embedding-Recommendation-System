{
  "nbformat": 4,
  "nbformat_minor": 0,
  "metadata": {
    "colab": {
      "name": "Recommendation System Final.ipynb",
      "provenance": [],
      "authorship_tag": "ABX9TyPcBJAXOMJKDtIuA46LwDCM",
      "include_colab_link": true
    },
    "kernelspec": {
      "name": "python3",
      "display_name": "Python 3"
    },
    "language_info": {
      "name": "python"
    }
  },
  "cells": [
    {
      "cell_type": "markdown",
      "metadata": {
        "id": "view-in-github",
        "colab_type": "text"
      },
      "source": [
        "<a href=\"https://colab.research.google.com/github/CodeManJay/Movielens-Embedding-Recommendation-System/blob/main/MovieLens_Recommender_System_Final.ipynb\" target=\"_parent\"><img src=\"https://colab.research.google.com/assets/colab-badge.svg\" alt=\"Open In Colab\"/></a>"
      ]
    },
    {
      "cell_type": "markdown",
      "metadata": {
        "id": "HxqbhXDLA51D"
      },
      "source": [
        "# Import all the necessary or Important libraries for this project.\n",
        "\n",
        "\n",
        "\n"
      ]
    },
    {
      "cell_type": "code",
      "metadata": {
        "id": "wnz4uxeYPLoA"
      },
      "source": [
        "from tensorflow import keras\n",
        "from tensorflow.keras import layers\n",
        "from tensorflow.keras import backend as K\n",
        "import tensorflow as tf\n",
        "import pandas as pd\n",
        "import numpy as np"
      ],
      "execution_count": null,
      "outputs": []
    },
    {
      "cell_type": "code",
      "metadata": {
        "id": "xOJhmPU7PN06"
      },
      "source": [
        "from sklearn.model_selection import GridSearchCV , KFold , cross_val_score\n",
        "from sklearn.model_selection import train_test_split, KFold\n",
        "from sklearn.metrics import mean_absolute_error \n",
        "from sklearn.neighbors import NearestNeighbors  \n",
        "from sklearn.model_selection import StratifiedKFold\n",
        "from sklearn.metrics import accuracy_score,precision_score,recall_score,f1_score"
      ],
      "execution_count": null,
      "outputs": []
    },
    {
      "cell_type": "code",
      "metadata": {
        "id": "dzNh4n47PPij"
      },
      "source": [
        "from keras.models import Model\n",
        "%matplotlib inline"
      ],
      "execution_count": null,
      "outputs": []
    },
    {
      "cell_type": "code",
      "metadata": {
        "id": "FBJUyS4kPRXg"
      },
      "source": [
        "from urllib.request import urlretrieve\n",
        "import collections\n",
        "import zipfile"
      ],
      "execution_count": null,
      "outputs": []
    },
    {
      "cell_type": "markdown",
      "metadata": {
        "id": "QTvICnmfA83g"
      },
      "source": [
        "\n",
        "\n",
        "# Retrieve dataset and URL, extract"
      ]
    },
    {
      "cell_type": "code",
      "metadata": {
        "colab": {
          "base_uri": "https://localhost:8080/"
        },
        "id": "sBQFdkiYPTng",
        "outputId": "c09488a2-1cd9-4377-bbc0-eb2f6a14a93d"
      },
      "source": [
        "print(\"Downloading dataset...\")\n",
        "urlretrieve(\"http://files.grouplens.org/datasets/movielens/ml-100k.zip\", \"movielens.zip\")\n",
        "zip_ref = zipfile.ZipFile('movielens.zip', \"r\")\n",
        "zip_ref.extractall()\n",
        "print(zip_ref.read('ml-100k/u.info'))"
      ],
      "execution_count": null,
      "outputs": [
        {
          "output_type": "stream",
          "text": [
            "Downloading dataset...\n",
            "b'943 users\\n1682 items\\n100000 ratings\\n'\n"
          ],
          "name": "stdout"
        }
      ]
    },
    {
      "cell_type": "markdown",
      "metadata": {
        "id": "-HXqrh3KBSFg"
      },
      "source": [
        "# Analyse Dataset."
      ]
    },
    {
      "cell_type": "code",
      "metadata": {
        "colab": {
          "base_uri": "https://localhost:8080/",
          "height": 137
        },
        "id": "7tJQ7u1oPV1q",
        "outputId": "bb69f681-9301-4f17-9056-d80d3b2c6ae6"
      },
      "source": [
        "info = pd.read_csv(\"/content/ml-100k/u.info\", sep=\" \", header=None)\n",
        "info.columns=['Counts', 'Type']\n",
        "info"
      ],
      "execution_count": null,
      "outputs": [
        {
          "output_type": "execute_result",
          "data": {
            "text/html": [
              "<div>\n",
              "<style scoped>\n",
              "    .dataframe tbody tr th:only-of-type {\n",
              "        vertical-align: middle;\n",
              "    }\n",
              "\n",
              "    .dataframe tbody tr th {\n",
              "        vertical-align: top;\n",
              "    }\n",
              "\n",
              "    .dataframe thead th {\n",
              "        text-align: right;\n",
              "    }\n",
              "</style>\n",
              "<table border=\"1\" class=\"dataframe\">\n",
              "  <thead>\n",
              "    <tr style=\"text-align: right;\">\n",
              "      <th></th>\n",
              "      <th>Counts</th>\n",
              "      <th>Type</th>\n",
              "    </tr>\n",
              "  </thead>\n",
              "  <tbody>\n",
              "    <tr>\n",
              "      <th>0</th>\n",
              "      <td>943</td>\n",
              "      <td>users</td>\n",
              "    </tr>\n",
              "    <tr>\n",
              "      <th>1</th>\n",
              "      <td>1682</td>\n",
              "      <td>items</td>\n",
              "    </tr>\n",
              "    <tr>\n",
              "      <th>2</th>\n",
              "      <td>100000</td>\n",
              "      <td>ratings</td>\n",
              "    </tr>\n",
              "  </tbody>\n",
              "</table>\n",
              "</div>"
            ],
            "text/plain": [
              "   Counts     Type\n",
              "0     943    users\n",
              "1    1682    items\n",
              "2  100000  ratings"
            ]
          },
          "metadata": {
            "tags": []
          },
          "execution_count": 117
        }
      ]
    },
    {
      "cell_type": "code",
      "metadata": {
        "id": "4XGqF7FlPXVv",
        "colab": {
          "base_uri": "https://localhost:8080/"
        },
        "outputId": "bf91b4e4-702a-4fca-8d5d-56ddb7a2d712"
      },
      "source": [
        "genre = pd.read_csv('/content/ml-100k/u.genre', sep=\"|\", encoding='latin-1', header=None)\n",
        "genre.drop(genre.columns[1], axis=1, inplace=True)\n",
        "genre.columns = ['Genres']\n",
        "genre_list = list(genre['Genres'])\n",
        "genre_list"
      ],
      "execution_count": null,
      "outputs": [
        {
          "output_type": "execute_result",
          "data": {
            "text/plain": [
              "['unknown',\n",
              " 'Action',\n",
              " 'Adventure',\n",
              " 'Animation',\n",
              " \"Children's\",\n",
              " 'Comedy',\n",
              " 'Crime',\n",
              " 'Documentary',\n",
              " 'Drama',\n",
              " 'Fantasy',\n",
              " 'Film-Noir',\n",
              " 'Horror',\n",
              " 'Musical',\n",
              " 'Mystery',\n",
              " 'Romance',\n",
              " 'Sci-Fi',\n",
              " 'Thriller',\n",
              " 'War',\n",
              " 'Western']"
            ]
          },
          "metadata": {
            "tags": []
          },
          "execution_count": 118
        }
      ]
    },
    {
      "cell_type": "markdown",
      "metadata": {
        "id": "7UHWKC6sEk_o"
      },
      "source": [
        "# Remove delimiters,etc"
      ]
    },
    {
      "cell_type": "code",
      "metadata": {
        "id": "tDNp_xETPaCq",
        "colab": {
          "base_uri": "https://localhost:8080/",
          "height": 196
        },
        "outputId": "94cdde0f-b0f7-4130-a0e0-d5ba8533171d"
      },
      "source": [
        "data = pd.read_csv('/content/ml-100k/u.data', sep=\"\\t\", header=None)\n",
        "data.columns = ['user_id', 'movie_id', 'rating', 'unix_timestamp']\n",
        "data.head()"
      ],
      "execution_count": null,
      "outputs": [
        {
          "output_type": "execute_result",
          "data": {
            "text/html": [
              "<div>\n",
              "<style scoped>\n",
              "    .dataframe tbody tr th:only-of-type {\n",
              "        vertical-align: middle;\n",
              "    }\n",
              "\n",
              "    .dataframe tbody tr th {\n",
              "        vertical-align: top;\n",
              "    }\n",
              "\n",
              "    .dataframe thead th {\n",
              "        text-align: right;\n",
              "    }\n",
              "</style>\n",
              "<table border=\"1\" class=\"dataframe\">\n",
              "  <thead>\n",
              "    <tr style=\"text-align: right;\">\n",
              "      <th></th>\n",
              "      <th>user_id</th>\n",
              "      <th>movie_id</th>\n",
              "      <th>rating</th>\n",
              "      <th>unix_timestamp</th>\n",
              "    </tr>\n",
              "  </thead>\n",
              "  <tbody>\n",
              "    <tr>\n",
              "      <th>0</th>\n",
              "      <td>196</td>\n",
              "      <td>242</td>\n",
              "      <td>3</td>\n",
              "      <td>881250949</td>\n",
              "    </tr>\n",
              "    <tr>\n",
              "      <th>1</th>\n",
              "      <td>186</td>\n",
              "      <td>302</td>\n",
              "      <td>3</td>\n",
              "      <td>891717742</td>\n",
              "    </tr>\n",
              "    <tr>\n",
              "      <th>2</th>\n",
              "      <td>22</td>\n",
              "      <td>377</td>\n",
              "      <td>1</td>\n",
              "      <td>878887116</td>\n",
              "    </tr>\n",
              "    <tr>\n",
              "      <th>3</th>\n",
              "      <td>244</td>\n",
              "      <td>51</td>\n",
              "      <td>2</td>\n",
              "      <td>880606923</td>\n",
              "    </tr>\n",
              "    <tr>\n",
              "      <th>4</th>\n",
              "      <td>166</td>\n",
              "      <td>346</td>\n",
              "      <td>1</td>\n",
              "      <td>886397596</td>\n",
              "    </tr>\n",
              "  </tbody>\n",
              "</table>\n",
              "</div>"
            ],
            "text/plain": [
              "   user_id  movie_id  rating  unix_timestamp\n",
              "0      196       242       3       881250949\n",
              "1      186       302       3       891717742\n",
              "2       22       377       1       878887116\n",
              "3      244        51       2       880606923\n",
              "4      166       346       1       886397596"
            ]
          },
          "metadata": {
            "tags": []
          },
          "execution_count": 119
        }
      ]
    },
    {
      "cell_type": "code",
      "metadata": {
        "id": "BCDihWh6PbyB",
        "colab": {
          "base_uri": "https://localhost:8080/",
          "height": 367
        },
        "outputId": "026b56f9-c5e7-4673-82d8-eceb2769d8e2"
      },
      "source": [
        "item = pd.read_csv('/content/ml-100k/u.item', sep=\"|\", encoding='latin-1', header=None)\n",
        "item.columns = ['movie id', 'movie title' ,'release date','video release date', 'IMDb URL', 'unknown', 'Action', \n",
        "                'Adventure', 'Animation', 'Children\\'s', 'Comedy', 'Crime', 'Documentary', 'Drama', 'Fantasy', 'Film-Noir', \n",
        "                'Horror', 'Musical', 'Mystery', 'Romance', 'Sci-Fi', 'Thriller', 'War', 'Western']\n",
        "item.head()"
      ],
      "execution_count": null,
      "outputs": [
        {
          "output_type": "execute_result",
          "data": {
            "text/html": [
              "<div>\n",
              "<style scoped>\n",
              "    .dataframe tbody tr th:only-of-type {\n",
              "        vertical-align: middle;\n",
              "    }\n",
              "\n",
              "    .dataframe tbody tr th {\n",
              "        vertical-align: top;\n",
              "    }\n",
              "\n",
              "    .dataframe thead th {\n",
              "        text-align: right;\n",
              "    }\n",
              "</style>\n",
              "<table border=\"1\" class=\"dataframe\">\n",
              "  <thead>\n",
              "    <tr style=\"text-align: right;\">\n",
              "      <th></th>\n",
              "      <th>movie id</th>\n",
              "      <th>movie title</th>\n",
              "      <th>release date</th>\n",
              "      <th>video release date</th>\n",
              "      <th>IMDb URL</th>\n",
              "      <th>unknown</th>\n",
              "      <th>Action</th>\n",
              "      <th>Adventure</th>\n",
              "      <th>Animation</th>\n",
              "      <th>Children's</th>\n",
              "      <th>Comedy</th>\n",
              "      <th>Crime</th>\n",
              "      <th>Documentary</th>\n",
              "      <th>Drama</th>\n",
              "      <th>Fantasy</th>\n",
              "      <th>Film-Noir</th>\n",
              "      <th>Horror</th>\n",
              "      <th>Musical</th>\n",
              "      <th>Mystery</th>\n",
              "      <th>Romance</th>\n",
              "      <th>Sci-Fi</th>\n",
              "      <th>Thriller</th>\n",
              "      <th>War</th>\n",
              "      <th>Western</th>\n",
              "    </tr>\n",
              "  </thead>\n",
              "  <tbody>\n",
              "    <tr>\n",
              "      <th>0</th>\n",
              "      <td>1</td>\n",
              "      <td>Toy Story (1995)</td>\n",
              "      <td>01-Jan-1995</td>\n",
              "      <td>NaN</td>\n",
              "      <td>http://us.imdb.com/M/title-exact?Toy%20Story%2...</td>\n",
              "      <td>0</td>\n",
              "      <td>0</td>\n",
              "      <td>0</td>\n",
              "      <td>1</td>\n",
              "      <td>1</td>\n",
              "      <td>1</td>\n",
              "      <td>0</td>\n",
              "      <td>0</td>\n",
              "      <td>0</td>\n",
              "      <td>0</td>\n",
              "      <td>0</td>\n",
              "      <td>0</td>\n",
              "      <td>0</td>\n",
              "      <td>0</td>\n",
              "      <td>0</td>\n",
              "      <td>0</td>\n",
              "      <td>0</td>\n",
              "      <td>0</td>\n",
              "      <td>0</td>\n",
              "    </tr>\n",
              "    <tr>\n",
              "      <th>1</th>\n",
              "      <td>2</td>\n",
              "      <td>GoldenEye (1995)</td>\n",
              "      <td>01-Jan-1995</td>\n",
              "      <td>NaN</td>\n",
              "      <td>http://us.imdb.com/M/title-exact?GoldenEye%20(...</td>\n",
              "      <td>0</td>\n",
              "      <td>1</td>\n",
              "      <td>1</td>\n",
              "      <td>0</td>\n",
              "      <td>0</td>\n",
              "      <td>0</td>\n",
              "      <td>0</td>\n",
              "      <td>0</td>\n",
              "      <td>0</td>\n",
              "      <td>0</td>\n",
              "      <td>0</td>\n",
              "      <td>0</td>\n",
              "      <td>0</td>\n",
              "      <td>0</td>\n",
              "      <td>0</td>\n",
              "      <td>0</td>\n",
              "      <td>1</td>\n",
              "      <td>0</td>\n",
              "      <td>0</td>\n",
              "    </tr>\n",
              "    <tr>\n",
              "      <th>2</th>\n",
              "      <td>3</td>\n",
              "      <td>Four Rooms (1995)</td>\n",
              "      <td>01-Jan-1995</td>\n",
              "      <td>NaN</td>\n",
              "      <td>http://us.imdb.com/M/title-exact?Four%20Rooms%...</td>\n",
              "      <td>0</td>\n",
              "      <td>0</td>\n",
              "      <td>0</td>\n",
              "      <td>0</td>\n",
              "      <td>0</td>\n",
              "      <td>0</td>\n",
              "      <td>0</td>\n",
              "      <td>0</td>\n",
              "      <td>0</td>\n",
              "      <td>0</td>\n",
              "      <td>0</td>\n",
              "      <td>0</td>\n",
              "      <td>0</td>\n",
              "      <td>0</td>\n",
              "      <td>0</td>\n",
              "      <td>0</td>\n",
              "      <td>1</td>\n",
              "      <td>0</td>\n",
              "      <td>0</td>\n",
              "    </tr>\n",
              "    <tr>\n",
              "      <th>3</th>\n",
              "      <td>4</td>\n",
              "      <td>Get Shorty (1995)</td>\n",
              "      <td>01-Jan-1995</td>\n",
              "      <td>NaN</td>\n",
              "      <td>http://us.imdb.com/M/title-exact?Get%20Shorty%...</td>\n",
              "      <td>0</td>\n",
              "      <td>1</td>\n",
              "      <td>0</td>\n",
              "      <td>0</td>\n",
              "      <td>0</td>\n",
              "      <td>1</td>\n",
              "      <td>0</td>\n",
              "      <td>0</td>\n",
              "      <td>1</td>\n",
              "      <td>0</td>\n",
              "      <td>0</td>\n",
              "      <td>0</td>\n",
              "      <td>0</td>\n",
              "      <td>0</td>\n",
              "      <td>0</td>\n",
              "      <td>0</td>\n",
              "      <td>0</td>\n",
              "      <td>0</td>\n",
              "      <td>0</td>\n",
              "    </tr>\n",
              "    <tr>\n",
              "      <th>4</th>\n",
              "      <td>5</td>\n",
              "      <td>Copycat (1995)</td>\n",
              "      <td>01-Jan-1995</td>\n",
              "      <td>NaN</td>\n",
              "      <td>http://us.imdb.com/M/title-exact?Copycat%20(1995)</td>\n",
              "      <td>0</td>\n",
              "      <td>0</td>\n",
              "      <td>0</td>\n",
              "      <td>0</td>\n",
              "      <td>0</td>\n",
              "      <td>0</td>\n",
              "      <td>1</td>\n",
              "      <td>0</td>\n",
              "      <td>1</td>\n",
              "      <td>0</td>\n",
              "      <td>0</td>\n",
              "      <td>0</td>\n",
              "      <td>0</td>\n",
              "      <td>0</td>\n",
              "      <td>0</td>\n",
              "      <td>0</td>\n",
              "      <td>1</td>\n",
              "      <td>0</td>\n",
              "      <td>0</td>\n",
              "    </tr>\n",
              "  </tbody>\n",
              "</table>\n",
              "</div>"
            ],
            "text/plain": [
              "   movie id        movie title release date  ...  Thriller War  Western\n",
              "0         1   Toy Story (1995)  01-Jan-1995  ...         0   0        0\n",
              "1         2   GoldenEye (1995)  01-Jan-1995  ...         1   0        0\n",
              "2         3  Four Rooms (1995)  01-Jan-1995  ...         1   0        0\n",
              "3         4  Get Shorty (1995)  01-Jan-1995  ...         0   0        0\n",
              "4         5     Copycat (1995)  01-Jan-1995  ...         1   0        0\n",
              "\n",
              "[5 rows x 24 columns]"
            ]
          },
          "metadata": {
            "tags": []
          },
          "execution_count": 120
        }
      ]
    },
    {
      "cell_type": "code",
      "metadata": {
        "id": "YRk9GuDkPdb6",
        "colab": {
          "base_uri": "https://localhost:8080/",
          "height": 196
        },
        "outputId": "3d08cfae-38c1-479e-9e74-0c3cf609ba0e"
      },
      "source": [
        "#Load the User data\n",
        "user = pd.read_csv('/content/ml-100k/u.user', sep=\"|\", encoding='latin-1', header=None)\n",
        "user.columns = ['user id', 'age', 'gender', 'occupation', 'zip code']\n",
        "user.head()"
      ],
      "execution_count": null,
      "outputs": [
        {
          "output_type": "execute_result",
          "data": {
            "text/html": [
              "<div>\n",
              "<style scoped>\n",
              "    .dataframe tbody tr th:only-of-type {\n",
              "        vertical-align: middle;\n",
              "    }\n",
              "\n",
              "    .dataframe tbody tr th {\n",
              "        vertical-align: top;\n",
              "    }\n",
              "\n",
              "    .dataframe thead th {\n",
              "        text-align: right;\n",
              "    }\n",
              "</style>\n",
              "<table border=\"1\" class=\"dataframe\">\n",
              "  <thead>\n",
              "    <tr style=\"text-align: right;\">\n",
              "      <th></th>\n",
              "      <th>user id</th>\n",
              "      <th>age</th>\n",
              "      <th>gender</th>\n",
              "      <th>occupation</th>\n",
              "      <th>zip code</th>\n",
              "    </tr>\n",
              "  </thead>\n",
              "  <tbody>\n",
              "    <tr>\n",
              "      <th>0</th>\n",
              "      <td>1</td>\n",
              "      <td>24</td>\n",
              "      <td>M</td>\n",
              "      <td>technician</td>\n",
              "      <td>85711</td>\n",
              "    </tr>\n",
              "    <tr>\n",
              "      <th>1</th>\n",
              "      <td>2</td>\n",
              "      <td>53</td>\n",
              "      <td>F</td>\n",
              "      <td>other</td>\n",
              "      <td>94043</td>\n",
              "    </tr>\n",
              "    <tr>\n",
              "      <th>2</th>\n",
              "      <td>3</td>\n",
              "      <td>23</td>\n",
              "      <td>M</td>\n",
              "      <td>writer</td>\n",
              "      <td>32067</td>\n",
              "    </tr>\n",
              "    <tr>\n",
              "      <th>3</th>\n",
              "      <td>4</td>\n",
              "      <td>24</td>\n",
              "      <td>M</td>\n",
              "      <td>technician</td>\n",
              "      <td>43537</td>\n",
              "    </tr>\n",
              "    <tr>\n",
              "      <th>4</th>\n",
              "      <td>5</td>\n",
              "      <td>33</td>\n",
              "      <td>F</td>\n",
              "      <td>other</td>\n",
              "      <td>15213</td>\n",
              "    </tr>\n",
              "  </tbody>\n",
              "</table>\n",
              "</div>"
            ],
            "text/plain": [
              "   user id  age gender  occupation zip code\n",
              "0        1   24      M  technician    85711\n",
              "1        2   53      F       other    94043\n",
              "2        3   23      M      writer    32067\n",
              "3        4   24      M  technician    43537\n",
              "4        5   33      F       other    15213"
            ]
          },
          "metadata": {
            "tags": []
          },
          "execution_count": 121
        }
      ]
    },
    {
      "cell_type": "markdown",
      "metadata": {
        "id": "vZ4uwzD3BW1q"
      },
      "source": [
        "Specify the columns for users and ratings"
      ]
    },
    {
      "cell_type": "code",
      "metadata": {
        "id": "HTIkHeM-PfE7"
      },
      "source": [
        "# Load each data set (users, movies, and ratings).\n",
        "users_cols = ['user_id', 'age', 'sex', 'occupation', 'zip_code']\n",
        "users = pd.read_csv('ml-100k/u.user', sep='|', names=users_cols, encoding='latin-1')\n",
        "ratings_cols = ['user_id', 'movie_id', 'rating', 'unix_timestamp']\n",
        "ratings = pd.read_csv('ml-100k/u.data', sep='\\t', names=ratings_cols, encoding='latin-1')"
      ],
      "execution_count": null,
      "outputs": []
    },
    {
      "cell_type": "code",
      "metadata": {
        "id": "eb6VWxupPghp"
      },
      "source": [
        "#different genre columns\n",
        "genre_cols = [\n",
        "    \"genre_unknown\", \"Action\", \"Adventure\", \"Animation\", \"Children\", \"Comedy\",\n",
        "    \"Crime\", \"Documentary\", \"Drama\", \"Fantasy\", \"Film-Noir\", \"Horror\",\n",
        "    \"Musical\", \"Mystery\", \"Romance\", \"Sci-Fi\", \"Thriller\", \"War\", \"Western\"\n",
        "]\n",
        "#different movie columns, with genres appended\n",
        "movies_cols = [\n",
        "    'movie_id', 'title', 'release_date', \"video_release_date\", \"imdb_url\"\n",
        "] + genre_cols\n",
        "\n",
        "movies = pd.read_csv(\n",
        "    'ml-100k/u.item', sep='|', names=movies_cols, encoding='latin-1')"
      ],
      "execution_count": null,
      "outputs": []
    },
    {
      "cell_type": "code",
      "metadata": {
        "id": "i7NckqTLPkSq",
        "colab": {
          "base_uri": "https://localhost:8080/"
        },
        "outputId": "55f14f7b-3c17-4abe-8658-2927c845b140"
      },
      "source": [
        "movies.columns"
      ],
      "execution_count": null,
      "outputs": [
        {
          "output_type": "execute_result",
          "data": {
            "text/plain": [
              "Index(['movie_id', 'title', 'release_date', 'video_release_date', 'imdb_url',\n",
              "       'genre_unknown', 'Action', 'Adventure', 'Animation', 'Children',\n",
              "       'Comedy', 'Crime', 'Documentary', 'Drama', 'Fantasy', 'Film-Noir',\n",
              "       'Horror', 'Musical', 'Mystery', 'Romance', 'Sci-Fi', 'Thriller', 'War',\n",
              "       'Western'],\n",
              "      dtype='object')"
            ]
          },
          "metadata": {
            "tags": []
          },
          "execution_count": 124
        }
      ]
    },
    {
      "cell_type": "code",
      "metadata": {
        "id": "xSWtTw8MPmMP"
      },
      "source": [
        "# ids must start from index 0, split release date, change ratings to float, etc\n",
        "users[\"user_id\"]=users[\"user_id\"].apply(lambda x: int(x-1))"
      ],
      "execution_count": null,
      "outputs": []
    },
    {
      "cell_type": "code",
      "metadata": {
        "id": "QUWTcAwXZFWQ"
      },
      "source": [
        "ratings[\"user_id\"]=ratings[\"user_id\"].apply(lambda x: int(x-1))\n",
        "ratings[\"movie_id\"]=ratings[\"movie_id\"].apply(lambda x: int(x-1))\n",
        "ratings[\"rating\"]=ratings[\"rating\"].apply(lambda x: float(x))"
      ],
      "execution_count": null,
      "outputs": []
    },
    {
      "cell_type": "code",
      "metadata": {
        "id": "bZfmKoQnZE-2"
      },
      "source": [
        "movies[\"movie_id\"]=movies[\"movie_id\"].apply(lambda x: int(x-1))\n",
        "movies[\"year\"]=movies['release_date'].apply(lambda x: str(x).split('-')[-1])"
      ],
      "execution_count": null,
      "outputs": []
    },
    {
      "cell_type": "markdown",
      "metadata": {
        "id": "qCa6mHYMM7BG"
      },
      "source": [
        "# Merge all these columns  for one final dataframe\n"
      ]
    },
    {
      "cell_type": "code",
      "metadata": {
        "id": "sIJ8rHfZPoyk"
      },
      "source": [
        "movielens=ratings.merge(movies, on='movie_id').merge(users, on='user_id')"
      ],
      "execution_count": null,
      "outputs": []
    },
    {
      "cell_type": "code",
      "metadata": {
        "id": "wMAAc-l9PqcT",
        "colab": {
          "base_uri": "https://localhost:8080/",
          "height": 417
        },
        "outputId": "15022d42-26eb-4f92-8414-d2cfff28bd9c"
      },
      "source": [
        "movielens.head()"
      ],
      "execution_count": null,
      "outputs": [
        {
          "output_type": "execute_result",
          "data": {
            "text/html": [
              "<div>\n",
              "<style scoped>\n",
              "    .dataframe tbody tr th:only-of-type {\n",
              "        vertical-align: middle;\n",
              "    }\n",
              "\n",
              "    .dataframe tbody tr th {\n",
              "        vertical-align: top;\n",
              "    }\n",
              "\n",
              "    .dataframe thead th {\n",
              "        text-align: right;\n",
              "    }\n",
              "</style>\n",
              "<table border=\"1\" class=\"dataframe\">\n",
              "  <thead>\n",
              "    <tr style=\"text-align: right;\">\n",
              "      <th></th>\n",
              "      <th>user_id</th>\n",
              "      <th>movie_id</th>\n",
              "      <th>rating</th>\n",
              "      <th>unix_timestamp</th>\n",
              "      <th>title</th>\n",
              "      <th>release_date</th>\n",
              "      <th>video_release_date</th>\n",
              "      <th>imdb_url</th>\n",
              "      <th>genre_unknown</th>\n",
              "      <th>Action</th>\n",
              "      <th>Adventure</th>\n",
              "      <th>Animation</th>\n",
              "      <th>Children</th>\n",
              "      <th>Comedy</th>\n",
              "      <th>Crime</th>\n",
              "      <th>Documentary</th>\n",
              "      <th>Drama</th>\n",
              "      <th>Fantasy</th>\n",
              "      <th>Film-Noir</th>\n",
              "      <th>Horror</th>\n",
              "      <th>Musical</th>\n",
              "      <th>Mystery</th>\n",
              "      <th>Romance</th>\n",
              "      <th>Sci-Fi</th>\n",
              "      <th>Thriller</th>\n",
              "      <th>War</th>\n",
              "      <th>Western</th>\n",
              "      <th>year</th>\n",
              "      <th>age</th>\n",
              "      <th>sex</th>\n",
              "      <th>occupation</th>\n",
              "      <th>zip_code</th>\n",
              "    </tr>\n",
              "  </thead>\n",
              "  <tbody>\n",
              "    <tr>\n",
              "      <th>0</th>\n",
              "      <td>195</td>\n",
              "      <td>241</td>\n",
              "      <td>3.0</td>\n",
              "      <td>881250949</td>\n",
              "      <td>Kolya (1996)</td>\n",
              "      <td>24-Jan-1997</td>\n",
              "      <td>NaN</td>\n",
              "      <td>http://us.imdb.com/M/title-exact?Kolya%20(1996)</td>\n",
              "      <td>0</td>\n",
              "      <td>0</td>\n",
              "      <td>0</td>\n",
              "      <td>0</td>\n",
              "      <td>0</td>\n",
              "      <td>1</td>\n",
              "      <td>0</td>\n",
              "      <td>0</td>\n",
              "      <td>0</td>\n",
              "      <td>0</td>\n",
              "      <td>0</td>\n",
              "      <td>0</td>\n",
              "      <td>0</td>\n",
              "      <td>0</td>\n",
              "      <td>0</td>\n",
              "      <td>0</td>\n",
              "      <td>0</td>\n",
              "      <td>0</td>\n",
              "      <td>0</td>\n",
              "      <td>1997</td>\n",
              "      <td>49</td>\n",
              "      <td>M</td>\n",
              "      <td>writer</td>\n",
              "      <td>55105</td>\n",
              "    </tr>\n",
              "    <tr>\n",
              "      <th>1</th>\n",
              "      <td>195</td>\n",
              "      <td>256</td>\n",
              "      <td>2.0</td>\n",
              "      <td>881251577</td>\n",
              "      <td>Men in Black (1997)</td>\n",
              "      <td>04-Jul-1997</td>\n",
              "      <td>NaN</td>\n",
              "      <td>http://us.imdb.com/M/title-exact?Men+in+Black+...</td>\n",
              "      <td>0</td>\n",
              "      <td>1</td>\n",
              "      <td>1</td>\n",
              "      <td>0</td>\n",
              "      <td>0</td>\n",
              "      <td>1</td>\n",
              "      <td>0</td>\n",
              "      <td>0</td>\n",
              "      <td>0</td>\n",
              "      <td>0</td>\n",
              "      <td>0</td>\n",
              "      <td>0</td>\n",
              "      <td>0</td>\n",
              "      <td>0</td>\n",
              "      <td>0</td>\n",
              "      <td>1</td>\n",
              "      <td>0</td>\n",
              "      <td>0</td>\n",
              "      <td>0</td>\n",
              "      <td>1997</td>\n",
              "      <td>49</td>\n",
              "      <td>M</td>\n",
              "      <td>writer</td>\n",
              "      <td>55105</td>\n",
              "    </tr>\n",
              "    <tr>\n",
              "      <th>2</th>\n",
              "      <td>195</td>\n",
              "      <td>110</td>\n",
              "      <td>4.0</td>\n",
              "      <td>881251793</td>\n",
              "      <td>Truth About Cats &amp; Dogs, The (1996)</td>\n",
              "      <td>26-Apr-1996</td>\n",
              "      <td>NaN</td>\n",
              "      <td>http://us.imdb.com/M/title-exact?Truth%20About...</td>\n",
              "      <td>0</td>\n",
              "      <td>0</td>\n",
              "      <td>0</td>\n",
              "      <td>0</td>\n",
              "      <td>0</td>\n",
              "      <td>1</td>\n",
              "      <td>0</td>\n",
              "      <td>0</td>\n",
              "      <td>0</td>\n",
              "      <td>0</td>\n",
              "      <td>0</td>\n",
              "      <td>0</td>\n",
              "      <td>0</td>\n",
              "      <td>0</td>\n",
              "      <td>1</td>\n",
              "      <td>0</td>\n",
              "      <td>0</td>\n",
              "      <td>0</td>\n",
              "      <td>0</td>\n",
              "      <td>1996</td>\n",
              "      <td>49</td>\n",
              "      <td>M</td>\n",
              "      <td>writer</td>\n",
              "      <td>55105</td>\n",
              "    </tr>\n",
              "    <tr>\n",
              "      <th>3</th>\n",
              "      <td>195</td>\n",
              "      <td>24</td>\n",
              "      <td>4.0</td>\n",
              "      <td>881251955</td>\n",
              "      <td>Birdcage, The (1996)</td>\n",
              "      <td>08-Mar-1996</td>\n",
              "      <td>NaN</td>\n",
              "      <td>http://us.imdb.com/M/title-exact?Birdcage,%20T...</td>\n",
              "      <td>0</td>\n",
              "      <td>0</td>\n",
              "      <td>0</td>\n",
              "      <td>0</td>\n",
              "      <td>0</td>\n",
              "      <td>1</td>\n",
              "      <td>0</td>\n",
              "      <td>0</td>\n",
              "      <td>0</td>\n",
              "      <td>0</td>\n",
              "      <td>0</td>\n",
              "      <td>0</td>\n",
              "      <td>0</td>\n",
              "      <td>0</td>\n",
              "      <td>0</td>\n",
              "      <td>0</td>\n",
              "      <td>0</td>\n",
              "      <td>0</td>\n",
              "      <td>0</td>\n",
              "      <td>1996</td>\n",
              "      <td>49</td>\n",
              "      <td>M</td>\n",
              "      <td>writer</td>\n",
              "      <td>55105</td>\n",
              "    </tr>\n",
              "    <tr>\n",
              "      <th>4</th>\n",
              "      <td>195</td>\n",
              "      <td>381</td>\n",
              "      <td>4.0</td>\n",
              "      <td>881251843</td>\n",
              "      <td>Adventures of Priscilla, Queen of the Desert, ...</td>\n",
              "      <td>01-Jan-1994</td>\n",
              "      <td>NaN</td>\n",
              "      <td>http://us.imdb.com/M/title-exact?Adventures%20...</td>\n",
              "      <td>0</td>\n",
              "      <td>0</td>\n",
              "      <td>0</td>\n",
              "      <td>0</td>\n",
              "      <td>0</td>\n",
              "      <td>1</td>\n",
              "      <td>0</td>\n",
              "      <td>0</td>\n",
              "      <td>1</td>\n",
              "      <td>0</td>\n",
              "      <td>0</td>\n",
              "      <td>0</td>\n",
              "      <td>0</td>\n",
              "      <td>0</td>\n",
              "      <td>0</td>\n",
              "      <td>0</td>\n",
              "      <td>0</td>\n",
              "      <td>0</td>\n",
              "      <td>0</td>\n",
              "      <td>1994</td>\n",
              "      <td>49</td>\n",
              "      <td>M</td>\n",
              "      <td>writer</td>\n",
              "      <td>55105</td>\n",
              "    </tr>\n",
              "  </tbody>\n",
              "</table>\n",
              "</div>"
            ],
            "text/plain": [
              "   user_id  movie_id  rating  unix_timestamp  ... age sex  occupation zip_code\n",
              "0      195       241     3.0       881250949  ...  49   M      writer    55105\n",
              "1      195       256     2.0       881251577  ...  49   M      writer    55105\n",
              "2      195       110     4.0       881251793  ...  49   M      writer    55105\n",
              "3      195        24     4.0       881251955  ...  49   M      writer    55105\n",
              "4      195       381     4.0       881251843  ...  49   M      writer    55105\n",
              "\n",
              "[5 rows x 32 columns]"
            ]
          },
          "metadata": {
            "tags": []
          },
          "execution_count": 129
        }
      ]
    },
    {
      "cell_type": "code",
      "metadata": {
        "id": "mk1nC9b8PsFd",
        "colab": {
          "base_uri": "https://localhost:8080/"
        },
        "outputId": "3d9be26d-f673-4fd4-9f02-89afd0382275"
      },
      "source": [
        "movielens.columns"
      ],
      "execution_count": null,
      "outputs": [
        {
          "output_type": "execute_result",
          "data": {
            "text/plain": [
              "Index(['user_id', 'movie_id', 'rating', 'unix_timestamp', 'title',\n",
              "       'release_date', 'video_release_date', 'imdb_url', 'genre_unknown',\n",
              "       'Action', 'Adventure', 'Animation', 'Children', 'Comedy', 'Crime',\n",
              "       'Documentary', 'Drama', 'Fantasy', 'Film-Noir', 'Horror', 'Musical',\n",
              "       'Mystery', 'Romance', 'Sci-Fi', 'Thriller', 'War', 'Western', 'year',\n",
              "       'age', 'sex', 'occupation', 'zip_code'],\n",
              "      dtype='object')"
            ]
          },
          "metadata": {
            "tags": []
          },
          "execution_count": 130
        }
      ]
    },
    {
      "cell_type": "code",
      "metadata": {
        "id": "nwfPJ-IiPt5v"
      },
      "source": [
        "min_rating=min(movielens[\"rating\"])\n",
        "max_rating=max(movielens[\"rating\"])"
      ],
      "execution_count": null,
      "outputs": []
    },
    {
      "cell_type": "markdown",
      "metadata": {
        "id": "s2IVUS7dMmIr"
      },
      "source": [
        "# Split into training and test sets"
      ]
    },
    {
      "cell_type": "code",
      "metadata": {
        "id": "gcuUunLbx8lq"
      },
      "source": [
        "train, test = train_test_split(movielens, test_size=0.1)"
      ],
      "execution_count": null,
      "outputs": []
    },
    {
      "cell_type": "code",
      "metadata": {
        "id": "Jc1zFOJMyWAz"
      },
      "source": [
        "ROW_COUNT=train.shape[0]"
      ],
      "execution_count": null,
      "outputs": []
    },
    {
      "cell_type": "code",
      "metadata": {
        "id": "z2gQeHIZybr8"
      },
      "source": [
        "#specifying embedding size, and assign all non unique user ids and movie ids\n",
        "EMBEDDING_SIZE=10\n",
        "NUM_USERS=movielens['user_id'].nunique()\n",
        "NUM_MOVIES=movielens['movie_id'].nunique()"
      ],
      "execution_count": null,
      "outputs": []
    },
    {
      "cell_type": "code",
      "metadata": {
        "id": "IP2L6ZVDyc97",
        "colab": {
          "base_uri": "https://localhost:8080/",
          "height": 400
        },
        "outputId": "2707cbc3-1ff1-4350-a56e-acd503a845c8"
      },
      "source": [
        "train.head()"
      ],
      "execution_count": null,
      "outputs": [
        {
          "output_type": "execute_result",
          "data": {
            "text/html": [
              "<div>\n",
              "<style scoped>\n",
              "    .dataframe tbody tr th:only-of-type {\n",
              "        vertical-align: middle;\n",
              "    }\n",
              "\n",
              "    .dataframe tbody tr th {\n",
              "        vertical-align: top;\n",
              "    }\n",
              "\n",
              "    .dataframe thead th {\n",
              "        text-align: right;\n",
              "    }\n",
              "</style>\n",
              "<table border=\"1\" class=\"dataframe\">\n",
              "  <thead>\n",
              "    <tr style=\"text-align: right;\">\n",
              "      <th></th>\n",
              "      <th>user_id</th>\n",
              "      <th>movie_id</th>\n",
              "      <th>rating</th>\n",
              "      <th>unix_timestamp</th>\n",
              "      <th>title</th>\n",
              "      <th>release_date</th>\n",
              "      <th>video_release_date</th>\n",
              "      <th>imdb_url</th>\n",
              "      <th>genre_unknown</th>\n",
              "      <th>Action</th>\n",
              "      <th>Adventure</th>\n",
              "      <th>Animation</th>\n",
              "      <th>Children</th>\n",
              "      <th>Comedy</th>\n",
              "      <th>Crime</th>\n",
              "      <th>Documentary</th>\n",
              "      <th>Drama</th>\n",
              "      <th>Fantasy</th>\n",
              "      <th>Film-Noir</th>\n",
              "      <th>Horror</th>\n",
              "      <th>Musical</th>\n",
              "      <th>Mystery</th>\n",
              "      <th>Romance</th>\n",
              "      <th>Sci-Fi</th>\n",
              "      <th>Thriller</th>\n",
              "      <th>War</th>\n",
              "      <th>Western</th>\n",
              "      <th>year</th>\n",
              "      <th>age</th>\n",
              "      <th>sex</th>\n",
              "      <th>occupation</th>\n",
              "      <th>zip_code</th>\n",
              "    </tr>\n",
              "  </thead>\n",
              "  <tbody>\n",
              "    <tr>\n",
              "      <th>50917</th>\n",
              "      <td>915</td>\n",
              "      <td>236</td>\n",
              "      <td>3.0</td>\n",
              "      <td>880843419</td>\n",
              "      <td>Jerry Maguire (1996)</td>\n",
              "      <td>13-Dec-1996</td>\n",
              "      <td>NaN</td>\n",
              "      <td>http://us.imdb.com/M/title-exact?Jerry%20Magui...</td>\n",
              "      <td>0</td>\n",
              "      <td>0</td>\n",
              "      <td>0</td>\n",
              "      <td>0</td>\n",
              "      <td>0</td>\n",
              "      <td>0</td>\n",
              "      <td>0</td>\n",
              "      <td>0</td>\n",
              "      <td>1</td>\n",
              "      <td>0</td>\n",
              "      <td>0</td>\n",
              "      <td>0</td>\n",
              "      <td>0</td>\n",
              "      <td>0</td>\n",
              "      <td>1</td>\n",
              "      <td>0</td>\n",
              "      <td>0</td>\n",
              "      <td>0</td>\n",
              "      <td>0</td>\n",
              "      <td>1996</td>\n",
              "      <td>27</td>\n",
              "      <td>M</td>\n",
              "      <td>engineer</td>\n",
              "      <td>N2L5N</td>\n",
              "    </tr>\n",
              "    <tr>\n",
              "      <th>7852</th>\n",
              "      <td>770</td>\n",
              "      <td>172</td>\n",
              "      <td>4.0</td>\n",
              "      <td>880659894</td>\n",
              "      <td>Princess Bride, The (1987)</td>\n",
              "      <td>01-Jan-1987</td>\n",
              "      <td>NaN</td>\n",
              "      <td>http://us.imdb.com/M/title-exact?Princess%20Br...</td>\n",
              "      <td>0</td>\n",
              "      <td>1</td>\n",
              "      <td>1</td>\n",
              "      <td>0</td>\n",
              "      <td>0</td>\n",
              "      <td>1</td>\n",
              "      <td>0</td>\n",
              "      <td>0</td>\n",
              "      <td>0</td>\n",
              "      <td>0</td>\n",
              "      <td>0</td>\n",
              "      <td>0</td>\n",
              "      <td>0</td>\n",
              "      <td>0</td>\n",
              "      <td>1</td>\n",
              "      <td>0</td>\n",
              "      <td>0</td>\n",
              "      <td>0</td>\n",
              "      <td>0</td>\n",
              "      <td>1987</td>\n",
              "      <td>26</td>\n",
              "      <td>M</td>\n",
              "      <td>student</td>\n",
              "      <td>15232</td>\n",
              "    </tr>\n",
              "    <tr>\n",
              "      <th>23788</th>\n",
              "      <td>268</td>\n",
              "      <td>237</td>\n",
              "      <td>5.0</td>\n",
              "      <td>891448850</td>\n",
              "      <td>Raising Arizona (1987)</td>\n",
              "      <td>01-Jan-1987</td>\n",
              "      <td>NaN</td>\n",
              "      <td>http://us.imdb.com/M/title-exact?Raising%20Ari...</td>\n",
              "      <td>0</td>\n",
              "      <td>0</td>\n",
              "      <td>0</td>\n",
              "      <td>0</td>\n",
              "      <td>0</td>\n",
              "      <td>1</td>\n",
              "      <td>0</td>\n",
              "      <td>0</td>\n",
              "      <td>0</td>\n",
              "      <td>0</td>\n",
              "      <td>0</td>\n",
              "      <td>0</td>\n",
              "      <td>0</td>\n",
              "      <td>0</td>\n",
              "      <td>0</td>\n",
              "      <td>0</td>\n",
              "      <td>0</td>\n",
              "      <td>0</td>\n",
              "      <td>0</td>\n",
              "      <td>1987</td>\n",
              "      <td>31</td>\n",
              "      <td>F</td>\n",
              "      <td>librarian</td>\n",
              "      <td>43201</td>\n",
              "    </tr>\n",
              "    <tr>\n",
              "      <th>21043</th>\n",
              "      <td>404</td>\n",
              "      <td>1383</td>\n",
              "      <td>1.0</td>\n",
              "      <td>885549746</td>\n",
              "      <td>Squeeze (1996)</td>\n",
              "      <td>13-Jun-1997</td>\n",
              "      <td>NaN</td>\n",
              "      <td>http://us.imdb.com/M/title-exact?Squeeze%20%28...</td>\n",
              "      <td>0</td>\n",
              "      <td>0</td>\n",
              "      <td>0</td>\n",
              "      <td>0</td>\n",
              "      <td>0</td>\n",
              "      <td>0</td>\n",
              "      <td>0</td>\n",
              "      <td>0</td>\n",
              "      <td>1</td>\n",
              "      <td>0</td>\n",
              "      <td>0</td>\n",
              "      <td>0</td>\n",
              "      <td>0</td>\n",
              "      <td>0</td>\n",
              "      <td>0</td>\n",
              "      <td>0</td>\n",
              "      <td>0</td>\n",
              "      <td>0</td>\n",
              "      <td>0</td>\n",
              "      <td>1997</td>\n",
              "      <td>22</td>\n",
              "      <td>F</td>\n",
              "      <td>healthcare</td>\n",
              "      <td>10019</td>\n",
              "    </tr>\n",
              "    <tr>\n",
              "      <th>49590</th>\n",
              "      <td>626</td>\n",
              "      <td>401</td>\n",
              "      <td>3.0</td>\n",
              "      <td>879530866</td>\n",
              "      <td>Ghost (1990)</td>\n",
              "      <td>01-Jan-1990</td>\n",
              "      <td>NaN</td>\n",
              "      <td>http://us.imdb.com/M/title-exact?Ghost%20(1990)</td>\n",
              "      <td>0</td>\n",
              "      <td>0</td>\n",
              "      <td>0</td>\n",
              "      <td>0</td>\n",
              "      <td>0</td>\n",
              "      <td>1</td>\n",
              "      <td>0</td>\n",
              "      <td>0</td>\n",
              "      <td>0</td>\n",
              "      <td>0</td>\n",
              "      <td>0</td>\n",
              "      <td>0</td>\n",
              "      <td>0</td>\n",
              "      <td>0</td>\n",
              "      <td>1</td>\n",
              "      <td>0</td>\n",
              "      <td>1</td>\n",
              "      <td>0</td>\n",
              "      <td>0</td>\n",
              "      <td>1990</td>\n",
              "      <td>24</td>\n",
              "      <td>M</td>\n",
              "      <td>engineer</td>\n",
              "      <td>08034</td>\n",
              "    </tr>\n",
              "  </tbody>\n",
              "</table>\n",
              "</div>"
            ],
            "text/plain": [
              "       user_id  movie_id  rating  unix_timestamp  ... age sex  occupation zip_code\n",
              "50917      915       236     3.0       880843419  ...  27   M    engineer    N2L5N\n",
              "7852       770       172     4.0       880659894  ...  26   M     student    15232\n",
              "23788      268       237     5.0       891448850  ...  31   F   librarian    43201\n",
              "21043      404      1383     1.0       885549746  ...  22   F  healthcare    10019\n",
              "49590      626       401     3.0       879530866  ...  24   M    engineer    08034\n",
              "\n",
              "[5 rows x 32 columns]"
            ]
          },
          "metadata": {
            "tags": []
          },
          "execution_count": 135
        }
      ]
    },
    {
      "cell_type": "code",
      "metadata": {
        "id": "mvyXjFgjye3M"
      },
      "source": [
        "UNIQUE_MOVIE_IDS = movielens['movie_id'].unique()"
      ],
      "execution_count": null,
      "outputs": []
    },
    {
      "cell_type": "markdown",
      "metadata": {
        "id": "DKL0yKfTKKjW"
      },
      "source": [
        "# Create the Neural Network.\n",
        "\n",
        "Define the Embedding Layers, etc and apply dropout feature to reduce overfitting."
      ]
    },
    {
      "cell_type": "code",
      "metadata": {
        "id": "qzVtAbuyyhHE"
      },
      "source": [
        "\n",
        "def EmbeddingRec(EMBEDDING_SIZE, NUM_MOVIES, NUM_USERS, ROW_COUNT):\n",
        "    movie_input=keras.Input(shape=(1,), name='movie_id')\n",
        "\n",
        "  # Add Embedding Layer\n",
        "    movie_emb=layers.Embedding(output_dim=EMBEDDING_SIZE, input_dim=NUM_MOVIES, input_length=ROW_COUNT, name='movie_embedding_layer')(movie_input)\n",
        "    movie_vec=layers.Flatten(name='FlattenMovie')(movie_emb)\n",
        "\n",
        "  #Model Input for movies\n",
        "    movie_model=keras.Model(inputs=movie_input, outputs=movie_vec)\n",
        "    \n",
        "    user_input=keras.Input(shape=(1,), name='user_id')\n",
        "\n",
        "    user_emb=layers.Embedding(output_dim=EMBEDDING_SIZE, input_dim=NUM_USERS, input_length=ROW_COUNT, name='user_embedding_layer')(user_input)\n",
        "    user_vec=layers.Flatten(name='FlattenUser')(user_emb)\n",
        "\n",
        "  #Model input froM user\n",
        "\n",
        "    user_model=keras.Model(inputs=user_input, outputs=user_vec)\n",
        "  \n",
        "  #Take the dot Product \n",
        "    merged=layers.Dot(name = 'dot_product_layer', normalize = True, axes = 2)([movie_emb, user_emb])\n",
        "    merged_dropout=layers.Dropout(0.2)(merged)\n",
        " \n",
        "    dense_1=layers.Dense(70,name='Layer_1')(merged)\n",
        "    dropout_1=layers.Dropout(0.2,name='Dropout_1')(dense_1)\n",
        "\n",
        "    dense_2=layers.Dense(50,name='Layer_2')(dropout_1)\n",
        "    dropout_2=layers.Dropout(0.2,name='Dropout_2')(dense_2)\n",
        "\n",
        "    dense_3=keras.layers.Dense(20,name='Layer_3')(dropout_2)\n",
        "    dropout_3=keras.layers.Dropout(0.2,name='Dropout_3')(dense_3)\n",
        "\n",
        "    dense_4=keras.layers.Dense(10,name='Layer_4', activation='relu')(dropout_3)\n",
        "\n",
        "    #output layer\n",
        "    result=layers.Dense(1, name='result', activation=\"relu\") (dense_4)\n",
        "\n",
        "    adam=keras.optimizers.Adam(lr=0.001)\n",
        "    model=keras.Model([movie_input, user_input], result)\n",
        "    model.compile(optimizer=adam,loss= 'mean_absolute_error',metrics=[\"accuracy\"])\n",
        "    return model, movie_model, user_model"
      ],
      "execution_count": null,
      "outputs": []
    },
    {
      "cell_type": "code",
      "metadata": {
        "id": "Bdl2AHebyiqr"
      },
      "source": [
        "model, movie_model, user_model = EmbeddingRec(EMBEDDING_SIZE, NUM_MOVIES, NUM_USERS, ROW_COUNT)"
      ],
      "execution_count": null,
      "outputs": []
    },
    {
      "cell_type": "code",
      "metadata": {
        "colab": {
          "base_uri": "https://localhost:8080/"
        },
        "id": "7qE_kxPiylWW",
        "outputId": "5eb50849-2d29-4e77-8543-c07078f40934"
      },
      "source": [
        "callbacks = [keras.callbacks.EarlyStopping('val_loss', patience=10),\n",
        "             keras.callbacks.ModelCheckpoint('besttest.h5', save_best_only=True)]\n",
        "\n",
        "history = model.fit([train.movie_id, train.user_id],train.rating, batch_size=100,\n",
        "                              epochs =50, validation_data = ([test.movie_id, test.user_id],test.rating),\n",
        "                              verbose = 1, \n",
        "                              callbacks = callbacks)"
      ],
      "execution_count": null,
      "outputs": [
        {
          "output_type": "stream",
          "text": [
            "Epoch 1/50\n",
            "900/900 [==============================] - 3s 3ms/step - loss: 1.3460 - accuracy: 0.0558 - val_loss: 0.9308 - val_accuracy: 0.0607\n",
            "Epoch 2/50\n",
            "900/900 [==============================] - 2s 2ms/step - loss: 0.9599 - accuracy: 0.0608 - val_loss: 0.9412 - val_accuracy: 0.0607\n",
            "Epoch 3/50\n",
            "900/900 [==============================] - 2s 2ms/step - loss: 0.9351 - accuracy: 0.0609 - val_loss: 0.9232 - val_accuracy: 0.0607\n",
            "Epoch 4/50\n",
            "900/900 [==============================] - 2s 2ms/step - loss: 0.9216 - accuracy: 0.0612 - val_loss: 0.9166 - val_accuracy: 0.0607\n",
            "Epoch 5/50\n",
            "900/900 [==============================] - 2s 2ms/step - loss: 0.9067 - accuracy: 0.0612 - val_loss: 0.9046 - val_accuracy: 0.0607\n",
            "Epoch 6/50\n",
            "900/900 [==============================] - 2s 2ms/step - loss: 0.8789 - accuracy: 0.0611 - val_loss: 0.8089 - val_accuracy: 0.0607\n",
            "Epoch 7/50\n",
            "900/900 [==============================] - 2s 2ms/step - loss: 0.7242 - accuracy: 0.0616 - val_loss: 0.7798 - val_accuracy: 0.0607\n",
            "Epoch 8/50\n",
            "900/900 [==============================] - 2s 2ms/step - loss: 0.6817 - accuracy: 0.0612 - val_loss: 0.7735 - val_accuracy: 0.0607\n",
            "Epoch 9/50\n",
            "900/900 [==============================] - 2s 2ms/step - loss: 0.6580 - accuracy: 0.0632 - val_loss: 0.7730 - val_accuracy: 0.0607\n",
            "Epoch 10/50\n",
            "900/900 [==============================] - 2s 2ms/step - loss: 0.6383 - accuracy: 0.0607 - val_loss: 0.7714 - val_accuracy: 0.0607\n",
            "Epoch 11/50\n",
            "900/900 [==============================] - 2s 2ms/step - loss: 0.6263 - accuracy: 0.0599 - val_loss: 0.7653 - val_accuracy: 0.0607\n",
            "Epoch 12/50\n",
            "900/900 [==============================] - 2s 2ms/step - loss: 0.6120 - accuracy: 0.0608 - val_loss: 0.7741 - val_accuracy: 0.0607\n",
            "Epoch 13/50\n",
            "900/900 [==============================] - 2s 2ms/step - loss: 0.6030 - accuracy: 0.0616 - val_loss: 0.7702 - val_accuracy: 0.0607\n",
            "Epoch 14/50\n",
            "900/900 [==============================] - 2s 2ms/step - loss: 0.5950 - accuracy: 0.0608 - val_loss: 0.7706 - val_accuracy: 0.0607\n",
            "Epoch 15/50\n",
            "900/900 [==============================] - 2s 2ms/step - loss: 0.5861 - accuracy: 0.0601 - val_loss: 0.7690 - val_accuracy: 0.0607\n",
            "Epoch 16/50\n",
            "900/900 [==============================] - 2s 2ms/step - loss: 0.5842 - accuracy: 0.0604 - val_loss: 0.7717 - val_accuracy: 0.0607\n",
            "Epoch 17/50\n",
            "900/900 [==============================] - 2s 2ms/step - loss: 0.5767 - accuracy: 0.0612 - val_loss: 0.7764 - val_accuracy: 0.0605\n",
            "Epoch 18/50\n",
            "900/900 [==============================] - 2s 2ms/step - loss: 0.5764 - accuracy: 0.0617 - val_loss: 0.7688 - val_accuracy: 0.0607\n",
            "Epoch 19/50\n",
            "900/900 [==============================] - 2s 2ms/step - loss: 0.5698 - accuracy: 0.0606 - val_loss: 0.7747 - val_accuracy: 0.0607\n",
            "Epoch 20/50\n",
            "900/900 [==============================] - 2s 2ms/step - loss: 0.5684 - accuracy: 0.0614 - val_loss: 0.7775 - val_accuracy: 0.0606\n",
            "Epoch 21/50\n",
            "900/900 [==============================] - 2s 2ms/step - loss: 0.5610 - accuracy: 0.0590 - val_loss: 0.7708 - val_accuracy: 0.0607\n"
          ],
          "name": "stdout"
        }
      ]
    },
    {
      "cell_type": "markdown",
      "metadata": {
        "id": "XLFAXj4xKiLr"
      },
      "source": [
        "# View the summary of the model"
      ]
    },
    {
      "cell_type": "code",
      "metadata": {
        "colab": {
          "base_uri": "https://localhost:8080/"
        },
        "id": "RaZQeDsLy7Nh",
        "outputId": "97da2f6e-a85a-4078-e845-57ff8d1e1991"
      },
      "source": [
        "#print model summary\n",
        "model.summary()"
      ],
      "execution_count": null,
      "outputs": [
        {
          "output_type": "stream",
          "text": [
            "Model: \"model_2\"\n",
            "__________________________________________________________________________________________________\n",
            "Layer (type)                    Output Shape         Param #     Connected to                     \n",
            "==================================================================================================\n",
            "movie_id (InputLayer)           [(None, 1)]          0                                            \n",
            "__________________________________________________________________________________________________\n",
            "user_id (InputLayer)            [(None, 1)]          0                                            \n",
            "__________________________________________________________________________________________________\n",
            "movie_embedding_layer (Embeddin (None, 1, 10)        16820       movie_id[0][0]                   \n",
            "__________________________________________________________________________________________________\n",
            "user_embedding_layer (Embedding (None, 1, 10)        9430        user_id[0][0]                    \n",
            "__________________________________________________________________________________________________\n",
            "dot_product_layer (Dot)         (None, 1, 1)         0           movie_embedding_layer[0][0]      \n",
            "                                                                 user_embedding_layer[0][0]       \n",
            "__________________________________________________________________________________________________\n",
            "Layer_1 (Dense)                 (None, 1, 70)        140         dot_product_layer[0][0]          \n",
            "__________________________________________________________________________________________________\n",
            "Dropout_1 (Dropout)             (None, 1, 70)        0           Layer_1[0][0]                    \n",
            "__________________________________________________________________________________________________\n",
            "Layer_2 (Dense)                 (None, 1, 50)        3550        Dropout_1[0][0]                  \n",
            "__________________________________________________________________________________________________\n",
            "Dropout_2 (Dropout)             (None, 1, 50)        0           Layer_2[0][0]                    \n",
            "__________________________________________________________________________________________________\n",
            "Layer_3 (Dense)                 (None, 1, 20)        1020        Dropout_2[0][0]                  \n",
            "__________________________________________________________________________________________________\n",
            "Dropout_3 (Dropout)             (None, 1, 20)        0           Layer_3[0][0]                    \n",
            "__________________________________________________________________________________________________\n",
            "Layer_4 (Dense)                 (None, 1, 10)        210         Dropout_3[0][0]                  \n",
            "__________________________________________________________________________________________________\n",
            "result (Dense)                  (None, 1, 1)         11          Layer_4[0][0]                    \n",
            "==================================================================================================\n",
            "Total params: 31,181\n",
            "Trainable params: 31,181\n",
            "Non-trainable params: 0\n",
            "__________________________________________________________________________________________________\n"
          ],
          "name": "stdout"
        }
      ]
    },
    {
      "cell_type": "markdown",
      "metadata": {
        "id": "Fed7D-T9KnAs"
      },
      "source": [
        "# Detailed model plot"
      ]
    },
    {
      "cell_type": "code",
      "metadata": {
        "colab": {
          "base_uri": "https://localhost:8080/",
          "height": 1000
        },
        "id": "iNy-XhcPy9WQ",
        "outputId": "0e92f0cc-c976-4fab-dad1-05929263f6b8"
      },
      "source": [
        "keras.utils.plot_model(model, show_shapes=True)"
      ],
      "execution_count": null,
      "outputs": [
        {
          "output_type": "execute_result",
          "data": {
            "image/png": "[encoded data removed]",
            "text/plain": [
              "<IPython.core.display.Image object>"
            ]
          },
          "metadata": {
            "tags": []
          },
          "execution_count": 92
        }
      ]
    },
    {
      "cell_type": "code",
      "metadata": {
        "id": "ZF2lKWYey_HV"
      },
      "source": [
        "from pylab import rcParams\n",
        "rcParams['figure.figsize'] = 10, 5"
      ],
      "execution_count": null,
      "outputs": []
    },
    {
      "cell_type": "code",
      "metadata": {
        "colab": {
          "base_uri": "https://localhost:8080/",
          "height": 350
        },
        "id": "tu7TVFQCzA3s",
        "outputId": "e83868cb-3d24-4daa-b5f4-de3bedd12238"
      },
      "source": [
        "import matplotlib.pyplot as plt\n",
        "plt.plot(history.history['loss'],'g')\n",
        "plt.title('model loss')\n",
        "plt.ylabel('loss')\n",
        "plt.xlabel('epochs')\n",
        "plt.legend(['train'], loc='upper right')\n",
        "plt.grid(True)\n",
        "plt.show()"
      ],
      "execution_count": null,
      "outputs": [
        {
          "output_type": "display_data",
          "data": {
            "image/png": "[encoded data removed]",
            "text/plain": [
              "<Figure size 720x360 with 1 Axes>"
            ]
          },
          "metadata": {
            "tags": [],
            "needs_background": "light"
          }
        }
      ]
    },
    {
      "cell_type": "code",
      "metadata": {
        "id": "NnwZxFCCzCFh"
      },
      "source": [
        "REC_USER_ID = 200\n",
        "TEST_MOVIE_ID = 123"
      ],
      "execution_count": null,
      "outputs": []
    },
    {
      "cell_type": "code",
      "metadata": {
        "id": "OISHVndTzEW8"
      },
      "source": [
        "MOVIE_EMBEDDINGS_DATABASE = []\n",
        "EMBEDDING_MAP = collections.defaultdict()"
      ],
      "execution_count": null,
      "outputs": []
    },
    {
      "cell_type": "code",
      "metadata": {
        "id": "Z-g2iQcfzFlM"
      },
      "source": [
        "for _id in UNIQUE_MOVIE_IDS:\n",
        "    emb = movie_model.predict(np.array([_id]))\n",
        "    val = list(emb.reshape(1,-1))[0]\n",
        "    MOVIE_EMBEDDINGS_DATABASE.insert(_id, val)\n",
        "    EMBEDDING_MAP[_id] = val"
      ],
      "execution_count": null,
      "outputs": []
    },
    {
      "cell_type": "code",
      "metadata": {
        "id": "pzlPWYxhzGug"
      },
      "source": [
        "from sklearn.manifold import TSNE\n",
        "import matplotlib.pyplot as plt\n",
        "%matplotlib inline"
      ],
      "execution_count": null,
      "outputs": []
    },
    {
      "cell_type": "code",
      "metadata": {
        "id": "kMANys8szH_f"
      },
      "source": [
        "def plot_tsne(model, MOVIE_EMBEDDINGS_DATABASE, size = NUM_MOVIES):\n",
        "    tsne_model = TSNE(perplexity=40, n_components=2, init='pca', n_iter=2500, random_state=23)\n",
        "    new_values = tsne_model.fit_transform(MOVIE_EMBEDDINGS_DATABASE[:size])\n",
        "    x = []\n",
        "    y = []\n",
        "    for value in new_values:\n",
        "        x.append(value[0])\n",
        "        y.append(value[1])\n",
        "    labels = list(range(0,size))\n",
        "    plt.figure(figsize=(16, 16)) \n",
        "    for i in range(len(x)):\n",
        "        plt.scatter(x[i],y[i])\n",
        "    plt.show()"
      ],
      "execution_count": null,
      "outputs": []
    },
    {
      "cell_type": "markdown",
      "metadata": {
        "id": "t56hkWZiKzC1"
      },
      "source": [
        "## Plot TSNE Model"
      ]
    },
    {
      "cell_type": "code",
      "metadata": {
        "colab": {
          "base_uri": "https://localhost:8080/",
          "height": 918
        },
        "id": "PCKZA2LUzO5K",
        "outputId": "7cffee88-9d29-472c-8c9c-10d374a0c33b"
      },
      "source": [
        "plot_tsne(model, MOVIE_EMBEDDINGS_DATABASE)"
      ],
      "execution_count": null,
      "outputs": [
        {
          "output_type": "display_data",
          "data": {
            "image/png": "[encoded data removed]",
            "text/plain": [
              "<Figure size 1152x1152 with 1 Axes>"
            ]
          },
          "metadata": {
            "tags": [],
            "needs_background": "light"
          }
        }
      ]
    },
    {
      "cell_type": "markdown",
      "metadata": {
        "id": "GQzAPWOwLBxh"
      },
      "source": [
        "# Show 300 only on the plot"
      ]
    },
    {
      "cell_type": "code",
      "metadata": {
        "colab": {
          "base_uri": "https://localhost:8080/",
          "height": 918
        },
        "id": "Qs0lJ9cWzRLG",
        "outputId": "93b3c612-f0e6-464f-cd91-fc8a6acbe48b"
      },
      "source": [
        "plot_tsne(model, MOVIE_EMBEDDINGS_DATABASE, 300)"
      ],
      "execution_count": null,
      "outputs": [
        {
          "output_type": "display_data",
          "data": {
            "image/png": "[encoded data removed]",
            "text/plain": [
              "<Figure size 1152x1152 with 1 Axes>"
            ]
          },
          "metadata": {
            "tags": [],
            "needs_background": "light"
          }
        }
      ]
    },
    {
      "cell_type": "code",
      "metadata": {
        "colab": {
          "base_uri": "https://localhost:8080/"
        },
        "id": "fLpEVL8-zS94",
        "outputId": "737d4faf-a903-4cb5-df18-ddd8931ae808"
      },
      "source": [
        "np.average(movielens.loc[movielens['movie_id'] == 53, 'rating'], axis=0)"
      ],
      "execution_count": null,
      "outputs": [
        {
          "output_type": "execute_result",
          "data": {
            "text/plain": [
              "3.2403846153846154"
            ]
          },
          "metadata": {
            "tags": []
          },
          "execution_count": 102
        }
      ]
    },
    {
      "cell_type": "code",
      "metadata": {
        "colab": {
          "base_uri": "https://localhost:8080/"
        },
        "id": "QbtJVN2HzVq9",
        "outputId": "5c0e93c2-d388-4673-fa35-3cb09621afb1"
      },
      "source": [
        "np.average(movielens.loc[movielens['movie_id'] == 66, 'rating'], axis=0)"
      ],
      "execution_count": null,
      "outputs": [
        {
          "output_type": "execute_result",
          "data": {
            "text/plain": [
              "3.0485436893203883"
            ]
          },
          "metadata": {
            "tags": []
          },
          "execution_count": 103
        }
      ]
    },
    {
      "cell_type": "code",
      "metadata": {
        "id": "Hkkh6_xWzXBz"
      },
      "source": [
        "knn_train_label = UNIQUE_MOVIE_IDS"
      ],
      "execution_count": null,
      "outputs": []
    },
    {
      "cell_type": "markdown",
      "metadata": {
        "id": "vL7bKiuwt_BZ"
      },
      "source": [
        "# KNN for closest"
      ]
    },
    {
      "cell_type": "code",
      "metadata": {
        "id": "2rKt7TF6zbSt"
      },
      "source": [
        "from sklearn.neighbors import KNeighborsClassifier\n",
        "clf = KNeighborsClassifier(n_neighbors=11)\n",
        "clf.fit(MOVIE_EMBEDDINGS_DATABASE, knn_train_label)\n",
        "\n",
        "def recommend_movies(embedding):\n",
        "    distances, indices = clf.kneighbors(embedding.reshape(1, -1),  n_neighbors=10)\n",
        "    indices = indices.reshape(10,1)\n",
        "    df_indices = pd.DataFrame(indices, columns = ['movie_id'])\n",
        "    return df_indices.merge(movies,on='movie_id',how='inner',suffixes=['_u', '_m'])['title']"
      ],
      "execution_count": null,
      "outputs": []
    },
    {
      "cell_type": "code",
      "metadata": {
        "colab": {
          "base_uri": "https://localhost:8080/"
        },
        "id": "mae39uoqzciY",
        "outputId": "e5dcc675-ea56-400f-e63b-70c9feaf9f6c"
      },
      "source": [
        "REC_USER_ID"
      ],
      "execution_count": null,
      "outputs": [
        {
          "output_type": "execute_result",
          "data": {
            "text/plain": [
              "200"
            ]
          },
          "metadata": {
            "tags": []
          },
          "execution_count": 106
        }
      ]
    },
    {
      "cell_type": "code",
      "metadata": {
        "id": "Aj4pPoRSzdym"
      },
      "source": [
        "REC_USER_ID = 200"
      ],
      "execution_count": null,
      "outputs": []
    },
    {
      "cell_type": "code",
      "metadata": {
        "id": "2LXqMDC0zfjX"
      },
      "source": [
        "user_embedding = user_model.predict([REC_USER_ID]).reshape(1,-1)[0]"
      ],
      "execution_count": null,
      "outputs": []
    },
    {
      "cell_type": "code",
      "metadata": {
        "colab": {
          "base_uri": "https://localhost:8080/"
        },
        "id": "Y6WE_cmOzg_-",
        "outputId": "b972dda8-862b-405d-de4e-fd32ae5ba62f"
      },
      "source": [
        "recommend_movies(user_embedding)"
      ],
      "execution_count": null,
      "outputs": [
        {
          "output_type": "execute_result",
          "data": {
            "text/plain": [
              "0                                Beyond Rangoon (1995)\n",
              "1                                    Nightwatch (1997)\n",
              "2                       Man Without a Face, The (1993)\n",
              "3                                        Mirage (1995)\n",
              "4                          Beauty and the Beast (1991)\n",
              "5                                  Citizen Ruth (1996)\n",
              "6                                        Angela (1995)\n",
              "7    Wonderful, Horrible Life of Leni Riefenstahl, ...\n",
              "8           Secret Adventures of Tom Thumb, The (1993)\n",
              "9                                         T-Men (1947)\n",
              "Name: title, dtype: object"
            ]
          },
          "metadata": {
            "tags": []
          },
          "execution_count": 109
        }
      ]
    },
    {
      "cell_type": "code",
      "metadata": {
        "id": "qNWqdoi2iJRK"
      },
      "source": [
        "REC_USER_ID=355"
      ],
      "execution_count": null,
      "outputs": []
    },
    {
      "cell_type": "code",
      "metadata": {
        "colab": {
          "base_uri": "https://localhost:8080/"
        },
        "id": "-4egCyJNzkm3",
        "outputId": "0042b194-d945-4d91-d2a4-fa07f95f8563"
      },
      "source": [
        "user_embedding = user_model.predict([REC_USER_ID]).reshape(1,-1)[0]\n",
        "recommend_movies(user_embedding)"
      ],
      "execution_count": null,
      "outputs": [
        {
          "output_type": "execute_result",
          "data": {
            "text/plain": [
              "0                Good Morning (1971)\n",
              "1            To Catch a Thief (1955)\n",
              "2                   Screamers (1995)\n",
              "3    Ghost and Mrs. Muir, The (1947)\n",
              "4                      Mother (1996)\n",
              "5        Perfect Candidate, A (1996)\n",
              "6               Graduate, The (1967)\n",
              "7                        Wolf (1994)\n",
              "8         Tie That Binds, The (1995)\n",
              "9            City of Industry (1997)\n",
              "Name: title, dtype: object"
            ]
          },
          "metadata": {
            "tags": []
          },
          "execution_count": 111
        }
      ]
    },
    {
      "cell_type": "code",
      "metadata": {
        "id": "liYACA7jjuTu"
      },
      "source": [
        ""
      ],
      "execution_count": null,
      "outputs": []
    }
  ]
}