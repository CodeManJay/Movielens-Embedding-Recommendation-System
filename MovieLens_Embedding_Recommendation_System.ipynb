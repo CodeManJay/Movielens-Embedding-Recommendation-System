{
  "nbformat": 4,
  "nbformat_minor": 0,
  "metadata": {
    "colab": {
      "name": "MovieLens Embedding Recommendation System.ipynb",
      "provenance": [],
      "authorship_tag": "ABX9TyPEh331aT9eQgVTM3wcGYFT",
      "include_colab_link": true
    },
    "kernelspec": {
      "name": "python3",
      "display_name": "Python 3"
    }
  },
  "cells": [
    {
      "cell_type": "markdown",
      "metadata": {
        "id": "view-in-github",
        "colab_type": "text"
      },
      "source": [
        "<a href=\"https://colab.research.google.com/github/CodeManJay/Movielens-Embedding-Recommendation-System/blob/main/MovieLens_Embedding_Recommendation_System.ipynb\" target=\"_parent\"><img src=\"https://colab.research.google.com/assets/colab-badge.svg\" alt=\"Open In Colab\"/></a>"
      ]
    },
    {
      "cell_type": "markdown",
      "metadata": {
        "id": "OP8qMWG9Aj3i"
      },
      "source": [
        "Import all the necessary libraries for this project.\n"
      ]
    },
    {
      "cell_type": "code",
      "metadata": {
        "id": "rS0SogAZp2DV"
      },
      "source": [
        "from tensorflow import keras\n",
        "from tensorflow.keras import layers\n",
        "from tensorflow.keras import backend as K\n",
        "import tensorflow as tf\n",
        "import pandas as pd\n",
        "import numpy as np"
      ],
      "execution_count": null,
      "outputs": []
    },
    {
      "cell_type": "code",
      "metadata": {
        "id": "BUJ_SQawykR_"
      },
      "source": [
        "from sklearn.impute import SimpleImputer\n",
        "from sklearn.preprocessing import Normalizer , scale\n",
        "from sklearn.model_selection import GridSearchCV , KFold , cross_val_score\n",
        "from sklearn.metrics import mean_squared_log_error,mean_squared_error, r2_score,mean_absolute_error \n",
        "from sklearn.metrics import accuracy_score,precision_score,recall_score,f1_score\n",
        "from sklearn.neighbors import NearestNeighbors  \n",
        "from sklearn.model_selection import train_test_split, KFold\n",
        "from sklearn.model_selection import StratifiedKFold\n",
        "from sklearn.model_selection import cross_val_score"
      ],
      "execution_count": null,
      "outputs": []
    },
    {
      "cell_type": "code",
      "metadata": {
        "id": "XuIxtKCNymPx"
      },
      "source": [
        "from sklearn.preprocessing import LabelEncoder\n",
        "from keras.models import Model\n",
        "%matplotlib inline"
      ],
      "execution_count": null,
      "outputs": []
    },
    {
      "cell_type": "code",
      "metadata": {
        "id": "5_CUA6hBz_gb"
      },
      "source": [
        "from IPython.display import SVG\n",
        "from urllib.request import urlretrieve\n",
        "import zipfile\n",
        "import collections"
      ],
      "execution_count": null,
      "outputs": []
    },
    {
      "cell_type": "markdown",
      "metadata": {
        "id": "6aPJH7XCAthD"
      },
      "source": [
        "# Pre-pro"
      ]
    },
    {
      "cell_type": "code",
      "metadata": {
        "id": "ncGQ7q-B04fE",
        "colab": {
          "base_uri": "https://localhost:8080/"
        },
        "outputId": "59a5f0ad-2fcb-4447-cd1d-ef2601fcf461"
      },
      "source": [
        "print(\"Downloading movielens data...\")\n",
        "urlretrieve(\"http://files.grouplens.org/datasets/movielens/ml-100k.zip\", \"movielens.zip\")\n",
        "zip_ref = zipfile.ZipFile('movielens.zip', \"r\")\n",
        "zip_ref.extractall()\n",
        "print(\"Done. Dataset contains:\")\n",
        "print(zip_ref.read('ml-100k/u.info'))"
      ],
      "execution_count": null,
      "outputs": [
        {
          "output_type": "stream",
          "text": [
            "Downloading movielens data...\n",
            "Done. Dataset contains:\n",
            "b'943 users\\n1682 items\\n100000 ratings\\n'\n"
          ],
          "name": "stdout"
        }
      ]
    },
    {
      "cell_type": "code",
      "metadata": {
        "colab": {
          "base_uri": "https://localhost:8080/",
          "height": 137
        },
        "id": "C281279zqPN5",
        "outputId": "39d5af05-7411-4b14-893a-c7bd5787474e"
      },
      "source": [
        "info = pd.read_csv(\"/content/ml-100k/u.info\", sep=\" \", header=None)\n",
        "info.columns=['Counts', 'Type']\n",
        "info"
      ],
      "execution_count": null,
      "outputs": [
        {
          "output_type": "execute_result",
          "data": {
            "text/html": [
              "<div>\n",
              "<style scoped>\n",
              "    .dataframe tbody tr th:only-of-type {\n",
              "        vertical-align: middle;\n",
              "    }\n",
              "\n",
              "    .dataframe tbody tr th {\n",
              "        vertical-align: top;\n",
              "    }\n",
              "\n",
              "    .dataframe thead th {\n",
              "        text-align: right;\n",
              "    }\n",
              "</style>\n",
              "<table border=\"1\" class=\"dataframe\">\n",
              "  <thead>\n",
              "    <tr style=\"text-align: right;\">\n",
              "      <th></th>\n",
              "      <th>Counts</th>\n",
              "      <th>Type</th>\n",
              "    </tr>\n",
              "  </thead>\n",
              "  <tbody>\n",
              "    <tr>\n",
              "      <th>0</th>\n",
              "      <td>943</td>\n",
              "      <td>users</td>\n",
              "    </tr>\n",
              "    <tr>\n",
              "      <th>1</th>\n",
              "      <td>1682</td>\n",
              "      <td>items</td>\n",
              "    </tr>\n",
              "    <tr>\n",
              "      <th>2</th>\n",
              "      <td>100000</td>\n",
              "      <td>ratings</td>\n",
              "    </tr>\n",
              "  </tbody>\n",
              "</table>\n",
              "</div>"
            ],
            "text/plain": [
              "   Counts     Type\n",
              "0     943    users\n",
              "1    1682    items\n",
              "2  100000  ratings"
            ]
          },
          "metadata": {
            "tags": []
          },
          "execution_count": 6
        }
      ]
    },
    {
      "cell_type": "code",
      "metadata": {
        "colab": {
          "base_uri": "https://localhost:8080/"
        },
        "id": "tRO1l7i9qmU-",
        "outputId": "2eef8def-0f7b-42d9-8065-f9c2e55d6ced"
      },
      "source": [
        "genre = pd.read_csv('/content/ml-100k/u.genre', sep=\"|\", encoding='latin-1', header=None)\n",
        "genre.drop(genre.columns[1], axis=1, inplace=True)\n",
        "genre.columns = ['Genres']\n",
        "genre_list = list(genre['Genres'])\n",
        "genre_list"
      ],
      "execution_count": null,
      "outputs": [
        {
          "output_type": "execute_result",
          "data": {
            "text/plain": [
              "['unknown',\n",
              " 'Action',\n",
              " 'Adventure',\n",
              " 'Animation',\n",
              " \"Children's\",\n",
              " 'Comedy',\n",
              " 'Crime',\n",
              " 'Documentary',\n",
              " 'Drama',\n",
              " 'Fantasy',\n",
              " 'Film-Noir',\n",
              " 'Horror',\n",
              " 'Musical',\n",
              " 'Mystery',\n",
              " 'Romance',\n",
              " 'Sci-Fi',\n",
              " 'Thriller',\n",
              " 'War',\n",
              " 'Western']"
            ]
          },
          "metadata": {
            "tags": []
          },
          "execution_count": 12
        }
      ]
    },
    {
      "cell_type": "code",
      "metadata": {
        "colab": {
          "base_uri": "https://localhost:8080/",
          "height": 196
        },
        "id": "jzvGm5tfrC3W",
        "outputId": "253edb98-3e8f-4599-a051-a06e7ee7f5d3"
      },
      "source": [
        "data = pd.read_csv('/content/ml-100k/u.data', sep=\"\\t\", header=None)\n",
        "data.columns = ['user_id', 'movie_id', 'rating', 'unix_timestamp']\n",
        "data.head()"
      ],
      "execution_count": null,
      "outputs": [
        {
          "output_type": "execute_result",
          "data": {
            "text/html": [
              "<div>\n",
              "<style scoped>\n",
              "    .dataframe tbody tr th:only-of-type {\n",
              "        vertical-align: middle;\n",
              "    }\n",
              "\n",
              "    .dataframe tbody tr th {\n",
              "        vertical-align: top;\n",
              "    }\n",
              "\n",
              "    .dataframe thead th {\n",
              "        text-align: right;\n",
              "    }\n",
              "</style>\n",
              "<table border=\"1\" class=\"dataframe\">\n",
              "  <thead>\n",
              "    <tr style=\"text-align: right;\">\n",
              "      <th></th>\n",
              "      <th>user_id</th>\n",
              "      <th>movie_id</th>\n",
              "      <th>rating</th>\n",
              "      <th>unix_timestamp</th>\n",
              "    </tr>\n",
              "  </thead>\n",
              "  <tbody>\n",
              "    <tr>\n",
              "      <th>0</th>\n",
              "      <td>196</td>\n",
              "      <td>242</td>\n",
              "      <td>3</td>\n",
              "      <td>881250949</td>\n",
              "    </tr>\n",
              "    <tr>\n",
              "      <th>1</th>\n",
              "      <td>186</td>\n",
              "      <td>302</td>\n",
              "      <td>3</td>\n",
              "      <td>891717742</td>\n",
              "    </tr>\n",
              "    <tr>\n",
              "      <th>2</th>\n",
              "      <td>22</td>\n",
              "      <td>377</td>\n",
              "      <td>1</td>\n",
              "      <td>878887116</td>\n",
              "    </tr>\n",
              "    <tr>\n",
              "      <th>3</th>\n",
              "      <td>244</td>\n",
              "      <td>51</td>\n",
              "      <td>2</td>\n",
              "      <td>880606923</td>\n",
              "    </tr>\n",
              "    <tr>\n",
              "      <th>4</th>\n",
              "      <td>166</td>\n",
              "      <td>346</td>\n",
              "      <td>1</td>\n",
              "      <td>886397596</td>\n",
              "    </tr>\n",
              "  </tbody>\n",
              "</table>\n",
              "</div>"
            ],
            "text/plain": [
              "   user_id  movie_id  rating  unix_timestamp\n",
              "0      196       242       3       881250949\n",
              "1      186       302       3       891717742\n",
              "2       22       377       1       878887116\n",
              "3      244        51       2       880606923\n",
              "4      166       346       1       886397596"
            ]
          },
          "metadata": {
            "tags": []
          },
          "execution_count": 14
        }
      ]
    },
    {
      "cell_type": "code",
      "metadata": {
        "colab": {
          "base_uri": "https://localhost:8080/",
          "height": 367
        },
        "id": "WA7emUhmr5SZ",
        "outputId": "98328bdf-2586-4b95-d827-884739558f81"
      },
      "source": [
        "item = pd.read_csv('/content/ml-100k/u.item', sep=\"|\", encoding='latin-1', header=None)\n",
        "item.columns = ['movie id', 'movie title' ,'release date','video release date', 'IMDb URL', 'unknown', 'Action', \n",
        "                'Adventure', 'Animation', 'Children\\'s', 'Comedy', 'Crime', 'Documentary', 'Drama', 'Fantasy', 'Film-Noir', \n",
        "                'Horror', 'Musical', 'Mystery', 'Romance', 'Sci-Fi', 'Thriller', 'War', 'Western']\n",
        "item.head()"
      ],
      "execution_count": null,
      "outputs": [
        {
          "output_type": "execute_result",
          "data": {
            "text/html": [
              "<div>\n",
              "<style scoped>\n",
              "    .dataframe tbody tr th:only-of-type {\n",
              "        vertical-align: middle;\n",
              "    }\n",
              "\n",
              "    .dataframe tbody tr th {\n",
              "        vertical-align: top;\n",
              "    }\n",
              "\n",
              "    .dataframe thead th {\n",
              "        text-align: right;\n",
              "    }\n",
              "</style>\n",
              "<table border=\"1\" class=\"dataframe\">\n",
              "  <thead>\n",
              "    <tr style=\"text-align: right;\">\n",
              "      <th></th>\n",
              "      <th>movie id</th>\n",
              "      <th>movie title</th>\n",
              "      <th>release date</th>\n",
              "      <th>video release date</th>\n",
              "      <th>IMDb URL</th>\n",
              "      <th>unknown</th>\n",
              "      <th>Action</th>\n",
              "      <th>Adventure</th>\n",
              "      <th>Animation</th>\n",
              "      <th>Children's</th>\n",
              "      <th>Comedy</th>\n",
              "      <th>Crime</th>\n",
              "      <th>Documentary</th>\n",
              "      <th>Drama</th>\n",
              "      <th>Fantasy</th>\n",
              "      <th>Film-Noir</th>\n",
              "      <th>Horror</th>\n",
              "      <th>Musical</th>\n",
              "      <th>Mystery</th>\n",
              "      <th>Romance</th>\n",
              "      <th>Sci-Fi</th>\n",
              "      <th>Thriller</th>\n",
              "      <th>War</th>\n",
              "      <th>Western</th>\n",
              "    </tr>\n",
              "  </thead>\n",
              "  <tbody>\n",
              "    <tr>\n",
              "      <th>0</th>\n",
              "      <td>1</td>\n",
              "      <td>Toy Story (1995)</td>\n",
              "      <td>01-Jan-1995</td>\n",
              "      <td>NaN</td>\n",
              "      <td>http://us.imdb.com/M/title-exact?Toy%20Story%2...</td>\n",
              "      <td>0</td>\n",
              "      <td>0</td>\n",
              "      <td>0</td>\n",
              "      <td>1</td>\n",
              "      <td>1</td>\n",
              "      <td>1</td>\n",
              "      <td>0</td>\n",
              "      <td>0</td>\n",
              "      <td>0</td>\n",
              "      <td>0</td>\n",
              "      <td>0</td>\n",
              "      <td>0</td>\n",
              "      <td>0</td>\n",
              "      <td>0</td>\n",
              "      <td>0</td>\n",
              "      <td>0</td>\n",
              "      <td>0</td>\n",
              "      <td>0</td>\n",
              "      <td>0</td>\n",
              "    </tr>\n",
              "    <tr>\n",
              "      <th>1</th>\n",
              "      <td>2</td>\n",
              "      <td>GoldenEye (1995)</td>\n",
              "      <td>01-Jan-1995</td>\n",
              "      <td>NaN</td>\n",
              "      <td>http://us.imdb.com/M/title-exact?GoldenEye%20(...</td>\n",
              "      <td>0</td>\n",
              "      <td>1</td>\n",
              "      <td>1</td>\n",
              "      <td>0</td>\n",
              "      <td>0</td>\n",
              "      <td>0</td>\n",
              "      <td>0</td>\n",
              "      <td>0</td>\n",
              "      <td>0</td>\n",
              "      <td>0</td>\n",
              "      <td>0</td>\n",
              "      <td>0</td>\n",
              "      <td>0</td>\n",
              "      <td>0</td>\n",
              "      <td>0</td>\n",
              "      <td>0</td>\n",
              "      <td>1</td>\n",
              "      <td>0</td>\n",
              "      <td>0</td>\n",
              "    </tr>\n",
              "    <tr>\n",
              "      <th>2</th>\n",
              "      <td>3</td>\n",
              "      <td>Four Rooms (1995)</td>\n",
              "      <td>01-Jan-1995</td>\n",
              "      <td>NaN</td>\n",
              "      <td>http://us.imdb.com/M/title-exact?Four%20Rooms%...</td>\n",
              "      <td>0</td>\n",
              "      <td>0</td>\n",
              "      <td>0</td>\n",
              "      <td>0</td>\n",
              "      <td>0</td>\n",
              "      <td>0</td>\n",
              "      <td>0</td>\n",
              "      <td>0</td>\n",
              "      <td>0</td>\n",
              "      <td>0</td>\n",
              "      <td>0</td>\n",
              "      <td>0</td>\n",
              "      <td>0</td>\n",
              "      <td>0</td>\n",
              "      <td>0</td>\n",
              "      <td>0</td>\n",
              "      <td>1</td>\n",
              "      <td>0</td>\n",
              "      <td>0</td>\n",
              "    </tr>\n",
              "    <tr>\n",
              "      <th>3</th>\n",
              "      <td>4</td>\n",
              "      <td>Get Shorty (1995)</td>\n",
              "      <td>01-Jan-1995</td>\n",
              "      <td>NaN</td>\n",
              "      <td>http://us.imdb.com/M/title-exact?Get%20Shorty%...</td>\n",
              "      <td>0</td>\n",
              "      <td>1</td>\n",
              "      <td>0</td>\n",
              "      <td>0</td>\n",
              "      <td>0</td>\n",
              "      <td>1</td>\n",
              "      <td>0</td>\n",
              "      <td>0</td>\n",
              "      <td>1</td>\n",
              "      <td>0</td>\n",
              "      <td>0</td>\n",
              "      <td>0</td>\n",
              "      <td>0</td>\n",
              "      <td>0</td>\n",
              "      <td>0</td>\n",
              "      <td>0</td>\n",
              "      <td>0</td>\n",
              "      <td>0</td>\n",
              "      <td>0</td>\n",
              "    </tr>\n",
              "    <tr>\n",
              "      <th>4</th>\n",
              "      <td>5</td>\n",
              "      <td>Copycat (1995)</td>\n",
              "      <td>01-Jan-1995</td>\n",
              "      <td>NaN</td>\n",
              "      <td>http://us.imdb.com/M/title-exact?Copycat%20(1995)</td>\n",
              "      <td>0</td>\n",
              "      <td>0</td>\n",
              "      <td>0</td>\n",
              "      <td>0</td>\n",
              "      <td>0</td>\n",
              "      <td>0</td>\n",
              "      <td>1</td>\n",
              "      <td>0</td>\n",
              "      <td>1</td>\n",
              "      <td>0</td>\n",
              "      <td>0</td>\n",
              "      <td>0</td>\n",
              "      <td>0</td>\n",
              "      <td>0</td>\n",
              "      <td>0</td>\n",
              "      <td>0</td>\n",
              "      <td>1</td>\n",
              "      <td>0</td>\n",
              "      <td>0</td>\n",
              "    </tr>\n",
              "  </tbody>\n",
              "</table>\n",
              "</div>"
            ],
            "text/plain": [
              "   movie id        movie title release date  ...  Thriller War  Western\n",
              "0         1   Toy Story (1995)  01-Jan-1995  ...         0   0        0\n",
              "1         2   GoldenEye (1995)  01-Jan-1995  ...         1   0        0\n",
              "2         3  Four Rooms (1995)  01-Jan-1995  ...         1   0        0\n",
              "3         4  Get Shorty (1995)  01-Jan-1995  ...         0   0        0\n",
              "4         5     Copycat (1995)  01-Jan-1995  ...         1   0        0\n",
              "\n",
              "[5 rows x 24 columns]"
            ]
          },
          "metadata": {
            "tags": []
          },
          "execution_count": 16
        }
      ]
    },
    {
      "cell_type": "code",
      "metadata": {
        "colab": {
          "base_uri": "https://localhost:8080/",
          "height": 196
        },
        "id": "gyg6W8D5uCSg",
        "outputId": "74984043-1978-4664-a0d3-98976c89ce16"
      },
      "source": [
        "#Load the User data\n",
        "user = pd.read_csv('/content/ml-100k/u.user', sep=\"|\", encoding='latin-1', header=None)\n",
        "user.columns = ['user id', 'age', 'gender', 'occupation', 'zip code']\n",
        "user.head()"
      ],
      "execution_count": null,
      "outputs": [
        {
          "output_type": "execute_result",
          "data": {
            "text/html": [
              "<div>\n",
              "<style scoped>\n",
              "    .dataframe tbody tr th:only-of-type {\n",
              "        vertical-align: middle;\n",
              "    }\n",
              "\n",
              "    .dataframe tbody tr th {\n",
              "        vertical-align: top;\n",
              "    }\n",
              "\n",
              "    .dataframe thead th {\n",
              "        text-align: right;\n",
              "    }\n",
              "</style>\n",
              "<table border=\"1\" class=\"dataframe\">\n",
              "  <thead>\n",
              "    <tr style=\"text-align: right;\">\n",
              "      <th></th>\n",
              "      <th>user id</th>\n",
              "      <th>age</th>\n",
              "      <th>gender</th>\n",
              "      <th>occupation</th>\n",
              "      <th>zip code</th>\n",
              "    </tr>\n",
              "  </thead>\n",
              "  <tbody>\n",
              "    <tr>\n",
              "      <th>0</th>\n",
              "      <td>1</td>\n",
              "      <td>24</td>\n",
              "      <td>M</td>\n",
              "      <td>technician</td>\n",
              "      <td>85711</td>\n",
              "    </tr>\n",
              "    <tr>\n",
              "      <th>1</th>\n",
              "      <td>2</td>\n",
              "      <td>53</td>\n",
              "      <td>F</td>\n",
              "      <td>other</td>\n",
              "      <td>94043</td>\n",
              "    </tr>\n",
              "    <tr>\n",
              "      <th>2</th>\n",
              "      <td>3</td>\n",
              "      <td>23</td>\n",
              "      <td>M</td>\n",
              "      <td>writer</td>\n",
              "      <td>32067</td>\n",
              "    </tr>\n",
              "    <tr>\n",
              "      <th>3</th>\n",
              "      <td>4</td>\n",
              "      <td>24</td>\n",
              "      <td>M</td>\n",
              "      <td>technician</td>\n",
              "      <td>43537</td>\n",
              "    </tr>\n",
              "    <tr>\n",
              "      <th>4</th>\n",
              "      <td>5</td>\n",
              "      <td>33</td>\n",
              "      <td>F</td>\n",
              "      <td>other</td>\n",
              "      <td>15213</td>\n",
              "    </tr>\n",
              "  </tbody>\n",
              "</table>\n",
              "</div>"
            ],
            "text/plain": [
              "   user id  age gender  occupation zip code\n",
              "0        1   24      M  technician    85711\n",
              "1        2   53      F       other    94043\n",
              "2        3   23      M      writer    32067\n",
              "3        4   24      M  technician    43537\n",
              "4        5   33      F       other    15213"
            ]
          },
          "metadata": {
            "tags": []
          },
          "execution_count": 17
        }
      ]
    },
    {
      "cell_type": "code",
      "metadata": {
        "id": "wi47OxsRv0wq"
      },
      "source": [
        "# Load each data set (users, movies, and ratings).\n",
        "users_cols = ['user_id', 'age', 'sex', 'occupation', 'zip_code']\n",
        "users = pd.read_csv('ml-100k/u.user', sep='|', names=users_cols, encoding='latin-1')\n",
        "ratings_cols = ['user_id', 'movie_id', 'rating', 'unix_timestamp']\n",
        "ratings = pd.read_csv('ml-100k/u.data', sep='\\t', names=ratings_cols, encoding='latin-1')"
      ],
      "execution_count": null,
      "outputs": []
    },
    {
      "cell_type": "code",
      "metadata": {
        "id": "wkpy512xv5WE"
      },
      "source": [
        "#different genre columns\n",
        "genre_cols = [\n",
        "    \"genre_unknown\", \"Action\", \"Adventure\", \"Animation\", \"Children\", \"Comedy\",\n",
        "    \"Crime\", \"Documentary\", \"Drama\", \"Fantasy\", \"Film-Noir\", \"Horror\",\n",
        "    \"Musical\", \"Mystery\", \"Romance\", \"Sci-Fi\", \"Thriller\", \"War\", \"Western\"\n",
        "]\n",
        "#different movie columns, with genres appended\n",
        "movies_cols = [\n",
        "    'movie_id', 'title', 'release_date', \"video_release_date\", \"imdb_url\"\n",
        "] + genre_cols\n",
        "\n",
        "movies = pd.read_csv(\n",
        "    'ml-100k/u.item', sep='|', names=movies_cols, encoding='latin-1')"
      ],
      "execution_count": null,
      "outputs": []
    },
    {
      "cell_type": "code",
      "metadata": {
        "id": "UA9ioEqUv_-b",
        "colab": {
          "base_uri": "https://localhost:8080/"
        },
        "outputId": "b52538b3-1c39-4b43-f323-0b470aa2d99d"
      },
      "source": [
        "movies.columns"
      ],
      "execution_count": null,
      "outputs": [
        {
          "output_type": "execute_result",
          "data": {
            "text/plain": [
              "Index(['movie_id', 'title', 'release_date', 'video_release_date', 'imdb_url',\n",
              "       'genre_unknown', 'Action', 'Adventure', 'Animation', 'Children',\n",
              "       'Comedy', 'Crime', 'Documentary', 'Drama', 'Fantasy', 'Film-Noir',\n",
              "       'Horror', 'Musical', 'Mystery', 'Romance', 'Sci-Fi', 'Thriller', 'War',\n",
              "       'Western'],\n",
              "      dtype='object')"
            ]
          },
          "metadata": {
            "tags": []
          },
          "execution_count": 6
        }
      ]
    },
    {
      "cell_type": "code",
      "metadata": {
        "id": "Rzav3olcv84i"
      },
      "source": [
        "# Since the ids start at 1, we shift them to start at 0, split release date, change ratings to float, etc\n",
        "users[\"user_id\"] = users[\"user_id\"].apply(lambda x: int(x-1))\n",
        "movies[\"movie_id\"] = movies[\"movie_id\"].apply(lambda x: int(x-1))\n",
        "movies[\"year\"] = movies['release_date'].apply(lambda x: str(x).split('-')[-1])\n",
        "ratings[\"movie_id\"] = ratings[\"movie_id\"].apply(lambda x: int(x-1))\n",
        "ratings[\"user_id\"] = ratings[\"user_id\"].apply(lambda x: int(x-1))\n",
        "ratings[\"rating\"] = ratings[\"rating\"].apply(lambda x: float(x))"
      ],
      "execution_count": null,
      "outputs": []
    },
    {
      "cell_type": "code",
      "metadata": {
        "id": "lS3lAIMz05Jp"
      },
      "source": [
        "#merge all these columns  for one final dataset\n",
        "movielens = ratings.merge(movies, on='movie_id').merge(users, on='user_id')\n"
      ],
      "execution_count": null,
      "outputs": []
    },
    {
      "cell_type": "code",
      "metadata": {
        "id": "HY0GZnNt1CMN",
        "colab": {
          "base_uri": "https://localhost:8080/",
          "height": 417
        },
        "outputId": "6d291763-b89a-4eb2-b9e3-ed0db96f0e76"
      },
      "source": [
        "movielens.head()"
      ],
      "execution_count": null,
      "outputs": [
        {
          "output_type": "execute_result",
          "data": {
            "text/html": [
              "<div>\n",
              "<style scoped>\n",
              "    .dataframe tbody tr th:only-of-type {\n",
              "        vertical-align: middle;\n",
              "    }\n",
              "\n",
              "    .dataframe tbody tr th {\n",
              "        vertical-align: top;\n",
              "    }\n",
              "\n",
              "    .dataframe thead th {\n",
              "        text-align: right;\n",
              "    }\n",
              "</style>\n",
              "<table border=\"1\" class=\"dataframe\">\n",
              "  <thead>\n",
              "    <tr style=\"text-align: right;\">\n",
              "      <th></th>\n",
              "      <th>user_id</th>\n",
              "      <th>movie_id</th>\n",
              "      <th>rating</th>\n",
              "      <th>unix_timestamp</th>\n",
              "      <th>title</th>\n",
              "      <th>release_date</th>\n",
              "      <th>video_release_date</th>\n",
              "      <th>imdb_url</th>\n",
              "      <th>genre_unknown</th>\n",
              "      <th>Action</th>\n",
              "      <th>Adventure</th>\n",
              "      <th>Animation</th>\n",
              "      <th>Children</th>\n",
              "      <th>Comedy</th>\n",
              "      <th>Crime</th>\n",
              "      <th>Documentary</th>\n",
              "      <th>Drama</th>\n",
              "      <th>Fantasy</th>\n",
              "      <th>Film-Noir</th>\n",
              "      <th>Horror</th>\n",
              "      <th>Musical</th>\n",
              "      <th>Mystery</th>\n",
              "      <th>Romance</th>\n",
              "      <th>Sci-Fi</th>\n",
              "      <th>Thriller</th>\n",
              "      <th>War</th>\n",
              "      <th>Western</th>\n",
              "      <th>year</th>\n",
              "      <th>age</th>\n",
              "      <th>sex</th>\n",
              "      <th>occupation</th>\n",
              "      <th>zip_code</th>\n",
              "    </tr>\n",
              "  </thead>\n",
              "  <tbody>\n",
              "    <tr>\n",
              "      <th>0</th>\n",
              "      <td>195</td>\n",
              "      <td>241</td>\n",
              "      <td>3.0</td>\n",
              "      <td>881250949</td>\n",
              "      <td>Kolya (1996)</td>\n",
              "      <td>24-Jan-1997</td>\n",
              "      <td>NaN</td>\n",
              "      <td>http://us.imdb.com/M/title-exact?Kolya%20(1996)</td>\n",
              "      <td>0</td>\n",
              "      <td>0</td>\n",
              "      <td>0</td>\n",
              "      <td>0</td>\n",
              "      <td>0</td>\n",
              "      <td>1</td>\n",
              "      <td>0</td>\n",
              "      <td>0</td>\n",
              "      <td>0</td>\n",
              "      <td>0</td>\n",
              "      <td>0</td>\n",
              "      <td>0</td>\n",
              "      <td>0</td>\n",
              "      <td>0</td>\n",
              "      <td>0</td>\n",
              "      <td>0</td>\n",
              "      <td>0</td>\n",
              "      <td>0</td>\n",
              "      <td>0</td>\n",
              "      <td>1997</td>\n",
              "      <td>49</td>\n",
              "      <td>M</td>\n",
              "      <td>writer</td>\n",
              "      <td>55105</td>\n",
              "    </tr>\n",
              "    <tr>\n",
              "      <th>1</th>\n",
              "      <td>195</td>\n",
              "      <td>256</td>\n",
              "      <td>2.0</td>\n",
              "      <td>881251577</td>\n",
              "      <td>Men in Black (1997)</td>\n",
              "      <td>04-Jul-1997</td>\n",
              "      <td>NaN</td>\n",
              "      <td>http://us.imdb.com/M/title-exact?Men+in+Black+...</td>\n",
              "      <td>0</td>\n",
              "      <td>1</td>\n",
              "      <td>1</td>\n",
              "      <td>0</td>\n",
              "      <td>0</td>\n",
              "      <td>1</td>\n",
              "      <td>0</td>\n",
              "      <td>0</td>\n",
              "      <td>0</td>\n",
              "      <td>0</td>\n",
              "      <td>0</td>\n",
              "      <td>0</td>\n",
              "      <td>0</td>\n",
              "      <td>0</td>\n",
              "      <td>0</td>\n",
              "      <td>1</td>\n",
              "      <td>0</td>\n",
              "      <td>0</td>\n",
              "      <td>0</td>\n",
              "      <td>1997</td>\n",
              "      <td>49</td>\n",
              "      <td>M</td>\n",
              "      <td>writer</td>\n",
              "      <td>55105</td>\n",
              "    </tr>\n",
              "    <tr>\n",
              "      <th>2</th>\n",
              "      <td>195</td>\n",
              "      <td>110</td>\n",
              "      <td>4.0</td>\n",
              "      <td>881251793</td>\n",
              "      <td>Truth About Cats &amp; Dogs, The (1996)</td>\n",
              "      <td>26-Apr-1996</td>\n",
              "      <td>NaN</td>\n",
              "      <td>http://us.imdb.com/M/title-exact?Truth%20About...</td>\n",
              "      <td>0</td>\n",
              "      <td>0</td>\n",
              "      <td>0</td>\n",
              "      <td>0</td>\n",
              "      <td>0</td>\n",
              "      <td>1</td>\n",
              "      <td>0</td>\n",
              "      <td>0</td>\n",
              "      <td>0</td>\n",
              "      <td>0</td>\n",
              "      <td>0</td>\n",
              "      <td>0</td>\n",
              "      <td>0</td>\n",
              "      <td>0</td>\n",
              "      <td>1</td>\n",
              "      <td>0</td>\n",
              "      <td>0</td>\n",
              "      <td>0</td>\n",
              "      <td>0</td>\n",
              "      <td>1996</td>\n",
              "      <td>49</td>\n",
              "      <td>M</td>\n",
              "      <td>writer</td>\n",
              "      <td>55105</td>\n",
              "    </tr>\n",
              "    <tr>\n",
              "      <th>3</th>\n",
              "      <td>195</td>\n",
              "      <td>24</td>\n",
              "      <td>4.0</td>\n",
              "      <td>881251955</td>\n",
              "      <td>Birdcage, The (1996)</td>\n",
              "      <td>08-Mar-1996</td>\n",
              "      <td>NaN</td>\n",
              "      <td>http://us.imdb.com/M/title-exact?Birdcage,%20T...</td>\n",
              "      <td>0</td>\n",
              "      <td>0</td>\n",
              "      <td>0</td>\n",
              "      <td>0</td>\n",
              "      <td>0</td>\n",
              "      <td>1</td>\n",
              "      <td>0</td>\n",
              "      <td>0</td>\n",
              "      <td>0</td>\n",
              "      <td>0</td>\n",
              "      <td>0</td>\n",
              "      <td>0</td>\n",
              "      <td>0</td>\n",
              "      <td>0</td>\n",
              "      <td>0</td>\n",
              "      <td>0</td>\n",
              "      <td>0</td>\n",
              "      <td>0</td>\n",
              "      <td>0</td>\n",
              "      <td>1996</td>\n",
              "      <td>49</td>\n",
              "      <td>M</td>\n",
              "      <td>writer</td>\n",
              "      <td>55105</td>\n",
              "    </tr>\n",
              "    <tr>\n",
              "      <th>4</th>\n",
              "      <td>195</td>\n",
              "      <td>381</td>\n",
              "      <td>4.0</td>\n",
              "      <td>881251843</td>\n",
              "      <td>Adventures of Priscilla, Queen of the Desert, ...</td>\n",
              "      <td>01-Jan-1994</td>\n",
              "      <td>NaN</td>\n",
              "      <td>http://us.imdb.com/M/title-exact?Adventures%20...</td>\n",
              "      <td>0</td>\n",
              "      <td>0</td>\n",
              "      <td>0</td>\n",
              "      <td>0</td>\n",
              "      <td>0</td>\n",
              "      <td>1</td>\n",
              "      <td>0</td>\n",
              "      <td>0</td>\n",
              "      <td>1</td>\n",
              "      <td>0</td>\n",
              "      <td>0</td>\n",
              "      <td>0</td>\n",
              "      <td>0</td>\n",
              "      <td>0</td>\n",
              "      <td>0</td>\n",
              "      <td>0</td>\n",
              "      <td>0</td>\n",
              "      <td>0</td>\n",
              "      <td>0</td>\n",
              "      <td>1994</td>\n",
              "      <td>49</td>\n",
              "      <td>M</td>\n",
              "      <td>writer</td>\n",
              "      <td>55105</td>\n",
              "    </tr>\n",
              "  </tbody>\n",
              "</table>\n",
              "</div>"
            ],
            "text/plain": [
              "   user_id  movie_id  rating  unix_timestamp  ... age sex  occupation zip_code\n",
              "0      195       241     3.0       881250949  ...  49   M      writer    55105\n",
              "1      195       256     2.0       881251577  ...  49   M      writer    55105\n",
              "2      195       110     4.0       881251793  ...  49   M      writer    55105\n",
              "3      195        24     4.0       881251955  ...  49   M      writer    55105\n",
              "4      195       381     4.0       881251843  ...  49   M      writer    55105\n",
              "\n",
              "[5 rows x 32 columns]"
            ]
          },
          "metadata": {
            "tags": []
          },
          "execution_count": 9
        }
      ]
    },
    {
      "cell_type": "code",
      "metadata": {
        "id": "a8_Ss9KB1VzR",
        "colab": {
          "base_uri": "https://localhost:8080/"
        },
        "outputId": "b1faaa1c-4487-4a6f-9ef1-030e8aea2f58"
      },
      "source": [
        "movielens.columns"
      ],
      "execution_count": null,
      "outputs": [
        {
          "output_type": "execute_result",
          "data": {
            "text/plain": [
              "Index(['user_id', 'movie_id', 'rating', 'unix_timestamp', 'title',\n",
              "       'release_date', 'video_release_date', 'imdb_url', 'genre_unknown',\n",
              "       'Action', 'Adventure', 'Animation', 'Children', 'Comedy', 'Crime',\n",
              "       'Documentary', 'Drama', 'Fantasy', 'Film-Noir', 'Horror', 'Musical',\n",
              "       'Mystery', 'Romance', 'Sci-Fi', 'Thriller', 'War', 'Western', 'year',\n",
              "       'age', 'sex', 'occupation', 'zip_code'],\n",
              "      dtype='object')"
            ]
          },
          "metadata": {
            "tags": []
          },
          "execution_count": 10
        }
      ]
    },
    {
      "cell_type": "code",
      "metadata": {
        "id": "AUvMOp121ZhP"
      },
      "source": [
        "min_rating = min(movielens[\"rating\"])\n",
        "max_rating = max(movielens[\"rating\"])"
      ],
      "execution_count": null,
      "outputs": []
    },
    {
      "cell_type": "code",
      "metadata": {
        "id": "rtT7xUst1a7E"
      },
      "source": [
        "train, test = train_test_split(movielens, test_size=0.1)"
      ],
      "execution_count": null,
      "outputs": []
    },
    {
      "cell_type": "code",
      "metadata": {
        "id": "H6Kz9GtS1boL"
      },
      "source": [
        "ROW_COUNT = train.shape[0]"
      ],
      "execution_count": null,
      "outputs": []
    },
    {
      "cell_type": "code",
      "metadata": {
        "id": "gJ5R8NYm1dN1"
      },
      "source": [
        "#specifying embedding size, and assign all non unique user ids and movie ids\n",
        "EMBEDDING_SIZE = 10\n",
        "NUM_USERS = movielens['user_id'].nunique()\n",
        "NUM_MOVIES = movielens['movie_id'].nunique()"
      ],
      "execution_count": null,
      "outputs": []
    },
    {
      "cell_type": "code",
      "metadata": {
        "colab": {
          "base_uri": "https://localhost:8080/",
          "height": 517
        },
        "id": "APQzAntYun8K",
        "outputId": "d8a59cf4-bd84-4a8b-de97-dc626a11e3a2"
      },
      "source": [
        "train.head()"
      ],
      "execution_count": null,
      "outputs": [
        {
          "output_type": "execute_result",
          "data": {
            "text/html": [
              "<div>\n",
              "<style scoped>\n",
              "    .dataframe tbody tr th:only-of-type {\n",
              "        vertical-align: middle;\n",
              "    }\n",
              "\n",
              "    .dataframe tbody tr th {\n",
              "        vertical-align: top;\n",
              "    }\n",
              "\n",
              "    .dataframe thead th {\n",
              "        text-align: right;\n",
              "    }\n",
              "</style>\n",
              "<table border=\"1\" class=\"dataframe\">\n",
              "  <thead>\n",
              "    <tr style=\"text-align: right;\">\n",
              "      <th></th>\n",
              "      <th>user_id</th>\n",
              "      <th>movie_id</th>\n",
              "      <th>rating</th>\n",
              "      <th>unix_timestamp</th>\n",
              "      <th>title</th>\n",
              "      <th>release_date</th>\n",
              "      <th>video_release_date</th>\n",
              "      <th>imdb_url</th>\n",
              "      <th>genre_unknown</th>\n",
              "      <th>Action</th>\n",
              "      <th>Adventure</th>\n",
              "      <th>Animation</th>\n",
              "      <th>Children</th>\n",
              "      <th>Comedy</th>\n",
              "      <th>Crime</th>\n",
              "      <th>Documentary</th>\n",
              "      <th>Drama</th>\n",
              "      <th>Fantasy</th>\n",
              "      <th>Film-Noir</th>\n",
              "      <th>Horror</th>\n",
              "      <th>Musical</th>\n",
              "      <th>Mystery</th>\n",
              "      <th>Romance</th>\n",
              "      <th>Sci-Fi</th>\n",
              "      <th>Thriller</th>\n",
              "      <th>War</th>\n",
              "      <th>Western</th>\n",
              "      <th>year</th>\n",
              "      <th>age</th>\n",
              "      <th>sex</th>\n",
              "      <th>occupation</th>\n",
              "      <th>zip_code</th>\n",
              "    </tr>\n",
              "  </thead>\n",
              "  <tbody>\n",
              "    <tr>\n",
              "      <th>41746</th>\n",
              "      <td>918</td>\n",
              "      <td>147</td>\n",
              "      <td>3.0</td>\n",
              "      <td>875289417</td>\n",
              "      <td>Ghost and the Darkness, The (1996)</td>\n",
              "      <td>11-Oct-1996</td>\n",
              "      <td>NaN</td>\n",
              "      <td>http://us.imdb.com/M/title-exact?Ghost%20and%2...</td>\n",
              "      <td>0</td>\n",
              "      <td>1</td>\n",
              "      <td>1</td>\n",
              "      <td>0</td>\n",
              "      <td>0</td>\n",
              "      <td>0</td>\n",
              "      <td>0</td>\n",
              "      <td>0</td>\n",
              "      <td>0</td>\n",
              "      <td>0</td>\n",
              "      <td>0</td>\n",
              "      <td>0</td>\n",
              "      <td>0</td>\n",
              "      <td>0</td>\n",
              "      <td>0</td>\n",
              "      <td>0</td>\n",
              "      <td>0</td>\n",
              "      <td>0</td>\n",
              "      <td>0</td>\n",
              "      <td>1996</td>\n",
              "      <td>25</td>\n",
              "      <td>M</td>\n",
              "      <td>other</td>\n",
              "      <td>14216</td>\n",
              "    </tr>\n",
              "    <tr>\n",
              "      <th>9872</th>\n",
              "      <td>654</td>\n",
              "      <td>689</td>\n",
              "      <td>2.0</td>\n",
              "      <td>887477489</td>\n",
              "      <td>Seven Years in Tibet (1997)</td>\n",
              "      <td>01-Jan-1997</td>\n",
              "      <td>NaN</td>\n",
              "      <td>http://us.imdb.com/M/title-exact?Seven+Years+i...</td>\n",
              "      <td>0</td>\n",
              "      <td>0</td>\n",
              "      <td>0</td>\n",
              "      <td>0</td>\n",
              "      <td>0</td>\n",
              "      <td>0</td>\n",
              "      <td>0</td>\n",
              "      <td>0</td>\n",
              "      <td>1</td>\n",
              "      <td>0</td>\n",
              "      <td>0</td>\n",
              "      <td>0</td>\n",
              "      <td>0</td>\n",
              "      <td>0</td>\n",
              "      <td>0</td>\n",
              "      <td>0</td>\n",
              "      <td>0</td>\n",
              "      <td>1</td>\n",
              "      <td>0</td>\n",
              "      <td>1997</td>\n",
              "      <td>50</td>\n",
              "      <td>F</td>\n",
              "      <td>healthcare</td>\n",
              "      <td>60657</td>\n",
              "    </tr>\n",
              "    <tr>\n",
              "      <th>94126</th>\n",
              "      <td>571</td>\n",
              "      <td>283</td>\n",
              "      <td>3.0</td>\n",
              "      <td>879449840</td>\n",
              "      <td>Tin Cup (1996)</td>\n",
              "      <td>16-Aug-1996</td>\n",
              "      <td>NaN</td>\n",
              "      <td>http://us.imdb.com/M/title-exact?Tin%20Cup%20(...</td>\n",
              "      <td>0</td>\n",
              "      <td>0</td>\n",
              "      <td>0</td>\n",
              "      <td>0</td>\n",
              "      <td>0</td>\n",
              "      <td>1</td>\n",
              "      <td>0</td>\n",
              "      <td>0</td>\n",
              "      <td>0</td>\n",
              "      <td>0</td>\n",
              "      <td>0</td>\n",
              "      <td>0</td>\n",
              "      <td>0</td>\n",
              "      <td>0</td>\n",
              "      <td>1</td>\n",
              "      <td>0</td>\n",
              "      <td>0</td>\n",
              "      <td>0</td>\n",
              "      <td>0</td>\n",
              "      <td>1996</td>\n",
              "      <td>51</td>\n",
              "      <td>M</td>\n",
              "      <td>educator</td>\n",
              "      <td>20003</td>\n",
              "    </tr>\n",
              "    <tr>\n",
              "      <th>154</th>\n",
              "      <td>225</td>\n",
              "      <td>168</td>\n",
              "      <td>5.0</td>\n",
              "      <td>883888892</td>\n",
              "      <td>Wrong Trousers, The (1993)</td>\n",
              "      <td>01-Jan-1993</td>\n",
              "      <td>NaN</td>\n",
              "      <td>http://us.imdb.com/M/title-exact?Wrong%20Trous...</td>\n",
              "      <td>0</td>\n",
              "      <td>0</td>\n",
              "      <td>0</td>\n",
              "      <td>1</td>\n",
              "      <td>0</td>\n",
              "      <td>1</td>\n",
              "      <td>0</td>\n",
              "      <td>0</td>\n",
              "      <td>0</td>\n",
              "      <td>0</td>\n",
              "      <td>0</td>\n",
              "      <td>0</td>\n",
              "      <td>0</td>\n",
              "      <td>0</td>\n",
              "      <td>0</td>\n",
              "      <td>0</td>\n",
              "      <td>0</td>\n",
              "      <td>0</td>\n",
              "      <td>0</td>\n",
              "      <td>1993</td>\n",
              "      <td>28</td>\n",
              "      <td>M</td>\n",
              "      <td>student</td>\n",
              "      <td>92103</td>\n",
              "    </tr>\n",
              "    <tr>\n",
              "      <th>87410</th>\n",
              "      <td>448</td>\n",
              "      <td>639</td>\n",
              "      <td>5.0</td>\n",
              "      <td>880410734</td>\n",
              "      <td>Cook the Thief His Wife &amp; Her Lover, The (1989)</td>\n",
              "      <td>01-Jan-1989</td>\n",
              "      <td>NaN</td>\n",
              "      <td>http://us.imdb.com/M/title-exact?Cook%20the%20...</td>\n",
              "      <td>0</td>\n",
              "      <td>0</td>\n",
              "      <td>0</td>\n",
              "      <td>0</td>\n",
              "      <td>0</td>\n",
              "      <td>0</td>\n",
              "      <td>0</td>\n",
              "      <td>0</td>\n",
              "      <td>1</td>\n",
              "      <td>0</td>\n",
              "      <td>0</td>\n",
              "      <td>0</td>\n",
              "      <td>0</td>\n",
              "      <td>0</td>\n",
              "      <td>0</td>\n",
              "      <td>0</td>\n",
              "      <td>0</td>\n",
              "      <td>0</td>\n",
              "      <td>0</td>\n",
              "      <td>1989</td>\n",
              "      <td>23</td>\n",
              "      <td>M</td>\n",
              "      <td>librarian</td>\n",
              "      <td>55021</td>\n",
              "    </tr>\n",
              "  </tbody>\n",
              "</table>\n",
              "</div>"
            ],
            "text/plain": [
              "       user_id  movie_id  rating  unix_timestamp  ... age sex  occupation zip_code\n",
              "41746      918       147     3.0       875289417  ...  25   M       other    14216\n",
              "9872       654       689     2.0       887477489  ...  50   F  healthcare    60657\n",
              "94126      571       283     3.0       879449840  ...  51   M    educator    20003\n",
              "154        225       168     5.0       883888892  ...  28   M     student    92103\n",
              "87410      448       639     5.0       880410734  ...  23   M   librarian    55021\n",
              "\n",
              "[5 rows x 32 columns]"
            ]
          },
          "metadata": {
            "tags": []
          },
          "execution_count": 15
        }
      ]
    },
    {
      "cell_type": "code",
      "metadata": {
        "id": "2e5dMBgmuowG"
      },
      "source": [
        "UNIQUE_MOVIE_IDS = movielens['movie_id'].unique()"
      ],
      "execution_count": null,
      "outputs": []
    },
    {
      "cell_type": "code",
      "metadata": {
        "id": "R5VEwMTaurFk"
      },
      "source": [
        "\n",
        "def EmbeddingRec(EMBEDDING_SIZE, NUM_MOVIES, NUM_USERS, ROW_COUNT):\n",
        "    movie_input = keras.Input(shape=(1,), name='movie_id')\n",
        "\n",
        "    movie_emb = layers.Embedding(output_dim=EMBEDDING_SIZE, input_dim=NUM_MOVIES, input_length=ROW_COUNT, name='movie_emb')(movie_input)\n",
        "    movie_vec = layers.Flatten(name='FlattenMovie')(movie_emb)\n",
        "\n",
        "    movie_model = keras.Model(inputs=movie_input, outputs=movie_vec)\n",
        "    \n",
        "    user_input = keras.Input(shape=(1,), name='user_id')\n",
        "\n",
        "    user_emb = layers.Embedding(output_dim=EMBEDDING_SIZE, input_dim=NUM_USERS, input_length=ROW_COUNT, name='user_emb')(user_input)\n",
        "    user_vec = layers.Flatten(name='FlattenUser')(user_emb)\n",
        "\n",
        "    user_model = keras.Model(inputs=user_input, outputs=user_vec)\n",
        "    \n",
        "    merged = layers.Dot(name = 'dot_product', normalize = True, axes = 2)([movie_emb, user_emb])\n",
        "    merged_dropout = layers.Dropout(0.2)(merged)\n",
        " \n",
        "    dense_1 = layers.Dense(70,name='FullyConnected-1')(merged)\n",
        "    dropout_1 = layers.Dropout(0.2,name='Dropout_1')(dense_1)\n",
        "\n",
        "    dense_2 = layers.Dense(50,name='FullyConnected-2')(dropout_1)\n",
        "    dropout_2 = layers.Dropout(0.2,name='Dropout_2')(dense_2)\n",
        "\n",
        "    dense_3 = keras.layers.Dense(20,name='FullyConnected-3')(dropout_2)\n",
        "    dropout_3 = keras.layers.Dropout(0.2,name='Dropout_3')(dense_3)\n",
        "\n",
        "    dense_4 = keras.layers.Dense(10,name='FullyConnected-4', activation='relu')(dropout_3)\n",
        "\n",
        "    result = layers.Dense(1, name='result', activation=\"relu\") (dense_4)\n",
        "\n",
        "    adam = keras.optimizers.Adam(lr=0.001)\n",
        "    model = keras.Model([movie_input, user_input], result)\n",
        "    model.compile(optimizer=adam,loss= 'mean_absolute_error',metrics=[\"accuracy\"])\n",
        "    return model, movie_model, user_model"
      ],
      "execution_count": null,
      "outputs": []
    },
    {
      "cell_type": "code",
      "metadata": {
        "id": "ykTXQIRTu6GZ"
      },
      "source": [
        "model, movie_model, user_model = EmbeddingRec(EMBEDDING_SIZE, NUM_MOVIES, NUM_USERS, ROW_COUNT)"
      ],
      "execution_count": null,
      "outputs": []
    },
    {
      "cell_type": "code",
      "metadata": {
        "colab": {
          "base_uri": "https://localhost:8080/"
        },
        "id": "_Igt-vXXu8qb",
        "outputId": "3eb28e85-9383-484a-c48e-70db6191d34f"
      },
      "source": [
        "callbacks = [keras.callbacks.EarlyStopping('val_loss', patience=10),\n",
        "             keras.callbacks.ModelCheckpoint('besttest.h5', save_best_only=True)]\n",
        "\n",
        "history = model.fit([train.movie_id, train.user_id],train.rating, batch_size=100,\n",
        "                              epochs =50, validation_data = ([test.movie_id, test.user_id],test.rating),\n",
        "                              verbose = 1, \n",
        "                              callbacks = callbacks)"
      ],
      "execution_count": null,
      "outputs": [
        {
          "output_type": "stream",
          "text": [
            "Epoch 1/50\n",
            "900/900 [==============================] - 4s 3ms/step - loss: 1.3029 - accuracy: 0.0565 - val_loss: 0.9452 - val_accuracy: 0.0651\n",
            "Epoch 2/50\n",
            "900/900 [==============================] - 2s 3ms/step - loss: 0.9489 - accuracy: 0.0599 - val_loss: 0.9366 - val_accuracy: 0.0651\n",
            "Epoch 3/50\n",
            "900/900 [==============================] - 2s 3ms/step - loss: 0.9290 - accuracy: 0.0605 - val_loss: 0.9271 - val_accuracy: 0.0651\n",
            "Epoch 4/50\n",
            "900/900 [==============================] - 2s 3ms/step - loss: 0.8754 - accuracy: 0.0604 - val_loss: 0.8120 - val_accuracy: 0.0651\n",
            "Epoch 5/50\n",
            "900/900 [==============================] - 2s 3ms/step - loss: 0.7311 - accuracy: 0.0620 - val_loss: 0.7808 - val_accuracy: 0.0651\n",
            "Epoch 6/50\n",
            "900/900 [==============================] - 2s 3ms/step - loss: 0.6811 - accuracy: 0.0603 - val_loss: 0.7710 - val_accuracy: 0.0651\n",
            "Epoch 7/50\n",
            "900/900 [==============================] - 2s 3ms/step - loss: 0.6551 - accuracy: 0.0611 - val_loss: 0.7640 - val_accuracy: 0.0651\n",
            "Epoch 8/50\n",
            "900/900 [==============================] - 2s 3ms/step - loss: 0.6368 - accuracy: 0.0611 - val_loss: 0.7616 - val_accuracy: 0.0651\n",
            "Epoch 9/50\n",
            "900/900 [==============================] - 2s 3ms/step - loss: 0.6280 - accuracy: 0.0599 - val_loss: 0.7646 - val_accuracy: 0.0651\n",
            "Epoch 10/50\n",
            "900/900 [==============================] - 2s 3ms/step - loss: 0.6167 - accuracy: 0.0602 - val_loss: 0.7637 - val_accuracy: 0.0651\n",
            "Epoch 11/50\n",
            "900/900 [==============================] - 2s 3ms/step - loss: 0.6118 - accuracy: 0.0602 - val_loss: 0.7650 - val_accuracy: 0.0651\n",
            "Epoch 12/50\n",
            "900/900 [==============================] - 2s 3ms/step - loss: 0.6050 - accuracy: 0.0610 - val_loss: 0.7756 - val_accuracy: 0.0651\n",
            "Epoch 13/50\n",
            "900/900 [==============================] - 2s 3ms/step - loss: 0.5989 - accuracy: 0.0604 - val_loss: 0.7601 - val_accuracy: 0.0651\n",
            "Epoch 14/50\n",
            "900/900 [==============================] - 2s 3ms/step - loss: 0.5898 - accuracy: 0.0610 - val_loss: 0.7698 - val_accuracy: 0.0651\n",
            "Epoch 15/50\n",
            "900/900 [==============================] - 2s 3ms/step - loss: 0.5871 - accuracy: 0.0597 - val_loss: 0.7675 - val_accuracy: 0.0651\n",
            "Epoch 16/50\n",
            "900/900 [==============================] - 2s 3ms/step - loss: 0.5839 - accuracy: 0.0603 - val_loss: 0.7648 - val_accuracy: 0.0651\n",
            "Epoch 17/50\n",
            "900/900 [==============================] - 2s 3ms/step - loss: 0.5835 - accuracy: 0.0595 - val_loss: 0.7666 - val_accuracy: 0.0651\n",
            "Epoch 18/50\n",
            "900/900 [==============================] - 2s 3ms/step - loss: 0.5780 - accuracy: 0.0607 - val_loss: 0.7672 - val_accuracy: 0.0651\n",
            "Epoch 19/50\n",
            "900/900 [==============================] - 2s 3ms/step - loss: 0.5746 - accuracy: 0.0593 - val_loss: 0.7642 - val_accuracy: 0.0651\n",
            "Epoch 20/50\n",
            "900/900 [==============================] - 2s 3ms/step - loss: 0.5768 - accuracy: 0.0605 - val_loss: 0.7696 - val_accuracy: 0.0650\n",
            "Epoch 21/50\n",
            "900/900 [==============================] - 2s 3ms/step - loss: 0.5770 - accuracy: 0.0595 - val_loss: 0.7677 - val_accuracy: 0.0651\n",
            "Epoch 22/50\n",
            "900/900 [==============================] - 2s 3ms/step - loss: 0.5696 - accuracy: 0.0609 - val_loss: 0.7671 - val_accuracy: 0.0650\n",
            "Epoch 23/50\n",
            "900/900 [==============================] - 2s 3ms/step - loss: 0.5715 - accuracy: 0.0599 - val_loss: 0.7670 - val_accuracy: 0.0651\n"
          ],
          "name": "stdout"
        }
      ]
    },
    {
      "cell_type": "code",
      "metadata": {
        "colab": {
          "base_uri": "https://localhost:8080/"
        },
        "id": "K18Tlb73vAoS",
        "outputId": "bad889a4-778d-4387-9bc1-2aec9d385cbc"
      },
      "source": [
        "#predict\n",
        "user_model.predict(np.array([10]))"
      ],
      "execution_count": null,
      "outputs": [
        {
          "output_type": "execute_result",
          "data": {
            "text/plain": [
              "array([[ 0.0491951 , -0.02540869,  0.16145214, -0.10886128, -0.0358345 ,\n",
              "        -0.10731506, -0.3847047 , -0.13243157, -0.09156078, -0.0022678 ]],\n",
              "      dtype=float32)"
            ]
          },
          "metadata": {
            "tags": []
          },
          "execution_count": 20
        }
      ]
    },
    {
      "cell_type": "code",
      "metadata": {
        "colab": {
          "base_uri": "https://localhost:8080/"
        },
        "id": "ojdZdT6fvfmX",
        "outputId": "32e00cb0-92e5-4d5e-89dd-2cd7f92379aa"
      },
      "source": [
        "#print model summary\n",
        "model.summary()"
      ],
      "execution_count": null,
      "outputs": [
        {
          "output_type": "stream",
          "text": [
            "Model: \"model_2\"\n",
            "__________________________________________________________________________________________________\n",
            "Layer (type)                    Output Shape         Param #     Connected to                     \n",
            "==================================================================================================\n",
            "movie_id (InputLayer)           [(None, 1)]          0                                            \n",
            "__________________________________________________________________________________________________\n",
            "user_id (InputLayer)            [(None, 1)]          0                                            \n",
            "__________________________________________________________________________________________________\n",
            "movie_emb (Embedding)           (None, 1, 10)        16820       movie_id[0][0]                   \n",
            "__________________________________________________________________________________________________\n",
            "user_emb (Embedding)            (None, 1, 10)        9430        user_id[0][0]                    \n",
            "__________________________________________________________________________________________________\n",
            "dot_product (Dot)               (None, 1, 1)         0           movie_emb[0][0]                  \n",
            "                                                                 user_emb[0][0]                   \n",
            "__________________________________________________________________________________________________\n",
            "FullyConnected-1 (Dense)        (None, 1, 70)        140         dot_product[0][0]                \n",
            "__________________________________________________________________________________________________\n",
            "Dropout_1 (Dropout)             (None, 1, 70)        0           FullyConnected-1[0][0]           \n",
            "__________________________________________________________________________________________________\n",
            "FullyConnected-2 (Dense)        (None, 1, 50)        3550        Dropout_1[0][0]                  \n",
            "__________________________________________________________________________________________________\n",
            "Dropout_2 (Dropout)             (None, 1, 50)        0           FullyConnected-2[0][0]           \n",
            "__________________________________________________________________________________________________\n",
            "FullyConnected-3 (Dense)        (None, 1, 20)        1020        Dropout_2[0][0]                  \n",
            "__________________________________________________________________________________________________\n",
            "Dropout_3 (Dropout)             (None, 1, 20)        0           FullyConnected-3[0][0]           \n",
            "__________________________________________________________________________________________________\n",
            "FullyConnected-4 (Dense)        (None, 1, 10)        210         Dropout_3[0][0]                  \n",
            "__________________________________________________________________________________________________\n",
            "result (Dense)                  (None, 1, 1)         11          FullyConnected-4[0][0]           \n",
            "==================================================================================================\n",
            "Total params: 31,181\n",
            "Trainable params: 31,181\n",
            "Non-trainable params: 0\n",
            "__________________________________________________________________________________________________\n"
          ],
          "name": "stdout"
        }
      ]
    },
    {
      "cell_type": "code",
      "metadata": {
        "colab": {
          "base_uri": "https://localhost:8080/",
          "height": 1000
        },
        "id": "yRb_dZwJv5lM",
        "outputId": "3ae6e79b-733e-40e5-d3b3-170b57d3ce78"
      },
      "source": [
        "keras.utils.plot_model(model, show_shapes=True)"
      ],
      "execution_count": null,
      "outputs": [
        {
          "output_type": "execute_result",
          "data": {
            "image/png": "[encoded data removed]",
            "text/plain": [
              "<IPython.core.display.Image object>"
            ]
          },
          "metadata": {
            "tags": []
          },
          "execution_count": 22
        }
      ]
    },
    {
      "cell_type": "code",
      "metadata": {
        "id": "sav0VvXav-AQ"
      },
      "source": [
        "from pylab import rcParams\n",
        "rcParams['figure.figsize'] = 10, 5"
      ],
      "execution_count": null,
      "outputs": []
    },
    {
      "cell_type": "code",
      "metadata": {
        "colab": {
          "base_uri": "https://localhost:8080/",
          "height": 350
        },
        "id": "yr6KSZ05KXEu",
        "outputId": "79f10d22-26c4-447a-b19f-ebd7965f1eeb"
      },
      "source": [
        "import matplotlib.pyplot as plt\n",
        "plt.plot(history.history['loss'],'g')\n",
        "plt.plot(history.history['val_loss'],'r')\n",
        "plt.title('model loss')\n",
        "plt.ylabel('loss')\n",
        "plt.xlabel('epochs')\n",
        "plt.legend(['train','validation'], loc='upper right')\n",
        "plt.grid(True)\n",
        "plt.show()"
      ],
      "execution_count": null,
      "outputs": [
        {
          "output_type": "display_data",
          "data": {
            "image/png": "[encoded data removed]",
            "text/plain": [
              "<Figure size 720x360 with 1 Axes>"
            ]
          },
          "metadata": {
            "tags": [],
            "needs_background": "light"
          }
        }
      ]
    },
    {
      "cell_type": "code",
      "metadata": {
        "id": "fCJqpfYcwBtH"
      },
      "source": [
        "TEST_USER_ID = 200\n",
        "TEST_MOVIE_ID = 123"
      ],
      "execution_count": null,
      "outputs": []
    },
    {
      "cell_type": "code",
      "metadata": {
        "id": "pkdBzzBVwFQ8"
      },
      "source": [
        "MOVIE_EMBEDDING_LIST = []\n",
        "MOVIE_EMBED_MAP = collections.defaultdict()"
      ],
      "execution_count": null,
      "outputs": []
    },
    {
      "cell_type": "code",
      "metadata": {
        "id": "0acnYIXTwGni"
      },
      "source": [
        "for _id in UNIQUE_MOVIE_IDS:\n",
        "    emb = movie_model.predict(np.array([_id]))\n",
        "    val = list(emb.reshape(1,-1))[0]\n",
        "    MOVIE_EMBEDDING_LIST.insert(_id, val)\n",
        "    MOVIE_EMBED_MAP[_id] = val"
      ],
      "execution_count": null,
      "outputs": []
    },
    {
      "cell_type": "code",
      "metadata": {
        "id": "zICfNN0jwJLV"
      },
      "source": [
        "from sklearn.manifold import TSNE\n",
        "import matplotlib.pyplot as plt\n",
        "%matplotlib inline"
      ],
      "execution_count": null,
      "outputs": []
    },
    {
      "cell_type": "code",
      "metadata": {
        "id": "qeQxeuJNwi5z"
      },
      "source": [
        "\n",
        "def tsne_plot(model, MOVIE_EMBEDDING_LIST, size = NUM_MOVIES):\n",
        "    tsne_model = TSNE(perplexity=40, n_components=2, init='pca', n_iter=2500, random_state=23)\n",
        "    new_values = tsne_model.fit_transform(MOVIE_EMBEDDING_LIST[:size])\n",
        "    x = []\n",
        "    y = []\n",
        "    for value in new_values:\n",
        "        x.append(value[0])\n",
        "        y.append(value[1])\n",
        "    labels = list(range(0,size))\n",
        "    plt.figure(figsize=(16, 16)) \n",
        "    for i in range(len(x)):\n",
        "        plt.scatter(x[i],y[i])\n",
        "        # plt.annotate(labels[i],xy=(x[i], y[i]),xytext=(5, 2),textcoords='offset points',ha='right',va='bottom')\n",
        "    plt.show()"
      ],
      "execution_count": null,
      "outputs": []
    },
    {
      "cell_type": "code",
      "metadata": {
        "colab": {
          "base_uri": "https://localhost:8080/",
          "height": 918
        },
        "id": "ntZvFkWpwkmD",
        "outputId": "15bccc79-8dcb-4939-a523-4aea66ed5e03"
      },
      "source": [
        "tsne_plot(model, MOVIE_EMBEDDING_LIST)"
      ],
      "execution_count": null,
      "outputs": [
        {
          "output_type": "display_data",
          "data": {
            "image/png": "[encoded data removed]",
            "text/plain": [
              "<Figure size 1152x1152 with 1 Axes>"
            ]
          },
          "metadata": {
            "tags": [],
            "needs_background": "light"
          }
        }
      ]
    },
    {
      "cell_type": "code",
      "metadata": {
        "colab": {
          "base_uri": "https://localhost:8080/",
          "height": 918
        },
        "id": "L9XdJV2owm1g",
        "outputId": "f129ede4-e78d-4ca1-f017-43a03255a6bf"
      },
      "source": [
        "tsne_plot(model, MOVIE_EMBEDDING_LIST, 300)"
      ],
      "execution_count": null,
      "outputs": [
        {
          "output_type": "display_data",
          "data": {
            "image/png": "[encoded data removed]",
            "text/plain": [
              "<Figure size 1152x1152 with 1 Axes>"
            ]
          },
          "metadata": {
            "tags": [],
            "needs_background": "light"
          }
        }
      ]
    },
    {
      "cell_type": "code",
      "metadata": {
        "colab": {
          "base_uri": "https://localhost:8080/"
        },
        "id": "EyBigpEUw4kX",
        "outputId": "4cf0d539-a0d1-487b-f8c8-8adf7cedb62d"
      },
      "source": [
        "np.average(movielens.loc[movielens['movie_id'] == 53, 'rating'], axis=0)"
      ],
      "execution_count": null,
      "outputs": [
        {
          "output_type": "execute_result",
          "data": {
            "text/plain": [
              "3.2403846153846154"
            ]
          },
          "metadata": {
            "tags": []
          },
          "execution_count": 32
        }
      ]
    },
    {
      "cell_type": "code",
      "metadata": {
        "colab": {
          "base_uri": "https://localhost:8080/"
        },
        "id": "RAXFXx4mw7RY",
        "outputId": "ba166f7d-3b95-428f-ceb6-f2391a3af871"
      },
      "source": [
        "np.average(movielens.loc[movielens['movie_id'] == 66, 'rating'], axis=0)"
      ],
      "execution_count": null,
      "outputs": [
        {
          "output_type": "execute_result",
          "data": {
            "text/plain": [
              "3.0485436893203883"
            ]
          },
          "metadata": {
            "tags": []
          },
          "execution_count": 33
        }
      ]
    },
    {
      "cell_type": "code",
      "metadata": {
        "colab": {
          "base_uri": "https://localhost:8080/"
        },
        "id": "XORax35ww9mp",
        "outputId": "04817b8e-3c2e-4f1a-af53-a6fd6160c4b2"
      },
      "source": [
        "np.average(movielens.loc[movielens['movie_id'] == 9, 'rating'], axis=0)\n"
      ],
      "execution_count": null,
      "outputs": [
        {
          "output_type": "execute_result",
          "data": {
            "text/plain": [
              "3.831460674157303"
            ]
          },
          "metadata": {
            "tags": []
          },
          "execution_count": 34
        }
      ]
    },
    {
      "cell_type": "code",
      "metadata": {
        "id": "YcnKKIQXxA5S"
      },
      "source": [
        "knn_train_label = UNIQUE_MOVIE_IDS"
      ],
      "execution_count": null,
      "outputs": []
    },
    {
      "cell_type": "code",
      "metadata": {
        "id": "wU2KvhgpxC79"
      },
      "source": [
        "from sklearn.neighbors import KNeighborsClassifier\n",
        "clf = KNeighborsClassifier(n_neighbors=11)\n",
        "clf.fit(MOVIE_EMBEDDING_LIST, knn_train_label)\n",
        "\n",
        "def recommend_movies(embedding):\n",
        "    distances, indices = clf.kneighbors(embedding.reshape(1, -1),  n_neighbors=10)\n",
        "    indices = indices.reshape(10,1)\n",
        "    df_indices = pd.DataFrame(indices, columns = ['movie_id'])\n",
        "    return df_indices.merge(movies,on='movie_id',how='inner',suffixes=['_u', '_m'])['title']"
      ],
      "execution_count": null,
      "outputs": []
    },
    {
      "cell_type": "code",
      "metadata": {
        "colab": {
          "base_uri": "https://localhost:8080/"
        },
        "id": "0dqZZqu2xPs9",
        "outputId": "064d3cce-ee85-4d84-dc38-57148580b1fa"
      },
      "source": [
        "TEST_USER_ID"
      ],
      "execution_count": null,
      "outputs": [
        {
          "output_type": "execute_result",
          "data": {
            "text/plain": [
              "200"
            ]
          },
          "metadata": {
            "tags": []
          },
          "execution_count": 37
        }
      ]
    },
    {
      "cell_type": "code",
      "metadata": {
        "id": "c-TU7o7Pxm33"
      },
      "source": [
        "TEST_USER_ID = 456\n",
        "TEST_MOVIE_ID = 456"
      ],
      "execution_count": null,
      "outputs": []
    },
    {
      "cell_type": "code",
      "metadata": {
        "id": "bLqOC2_DxRrS"
      },
      "source": [
        "user_embedding = user_model.predict([TEST_USER_ID]).reshape(1,-1)[0]"
      ],
      "execution_count": null,
      "outputs": []
    },
    {
      "cell_type": "code",
      "metadata": {
        "colab": {
          "base_uri": "https://localhost:8080/"
        },
        "id": "kbKG_5inxS_X",
        "outputId": "e12e2f51-b5b8-4997-d96d-c3ac2e012710"
      },
      "source": [
        "l=[]\n",
        "recommend_movies(user_embedding)\n",
        "# for i in recommend_movies(user_embedding):\n",
        "#   l.append(i)\n",
        "# l"
      ],
      "execution_count": null,
      "outputs": [
        {
          "output_type": "execute_result",
          "data": {
            "text/plain": [
              "0                              Van, The (1996)\n",
              "1                       Mina Tannenbaum (1994)\n",
              "2                            Half Baked (1998)\n",
              "3                       The Deadly Cure (1996)\n",
              "4                        Color of Night (1994)\n",
              "5                      Nothing Personal (1995)\n",
              "6    Mrs. Parker and the Vicious Circle (1994)\n",
              "7           Gate of Heavenly Peace, The (1995)\n",
              "8                             Soul Food (1997)\n",
              "9                             Apt Pupil (1998)\n",
              "Name: title, dtype: object"
            ]
          },
          "metadata": {
            "tags": []
          },
          "execution_count": 40
        }
      ]
    },
    {
      "cell_type": "code",
      "metadata": {
        "id": "TelNcbuRF3nL",
        "colab": {
          "base_uri": "https://localhost:8080/"
        },
        "outputId": "80b2d5a7-c0cc-4a78-b484-9308b4e6b440"
      },
      "source": [
        "user_embedding = user_model.predict([TEST_MOVIE_ID]).reshape(1,-1)[0]\n",
        "recommend_movies(user_embedding)"
      ],
      "execution_count": null,
      "outputs": [
        {
          "output_type": "execute_result",
          "data": {
            "text/plain": [
              "0                              Van, The (1996)\n",
              "1                       Mina Tannenbaum (1994)\n",
              "2                            Half Baked (1998)\n",
              "3                       The Deadly Cure (1996)\n",
              "4                        Color of Night (1994)\n",
              "5                      Nothing Personal (1995)\n",
              "6    Mrs. Parker and the Vicious Circle (1994)\n",
              "7           Gate of Heavenly Peace, The (1995)\n",
              "8                             Soul Food (1997)\n",
              "9                             Apt Pupil (1998)\n",
              "Name: title, dtype: object"
            ]
          },
          "metadata": {
            "tags": []
          },
          "execution_count": 41
        }
      ]
    },
    {
      "cell_type": "code",
      "metadata": {
        "colab": {
          "base_uri": "https://localhost:8080/"
        },
        "id": "bO_8hSLpR42K",
        "outputId": "7e2686b9-2b86-4921-edda-21d333c233a3"
      },
      "source": [
        "!pip install surprise"
      ],
      "execution_count": null,
      "outputs": [
        {
          "output_type": "stream",
          "text": [
            "Collecting surprise\n",
            "  Downloading https://files.pythonhosted.org/packages/61/de/e5cba8682201fcf9c3719a6fdda95693468ed061945493dea2dd37c5618b/surprise-0.1-py2.py3-none-any.whl\n",
            "Collecting scikit-surprise\n",
            "\u001b[?25l  Downloading https://files.pythonhosted.org/packages/97/37/5d334adaf5ddd65da99fc65f6507e0e4599d092ba048f4302fe8775619e8/scikit-surprise-1.1.1.tar.gz (11.8MB)\n",
            "\u001b[K     |████████████████████████████████| 11.8MB 8.8MB/s \n",
            "\u001b[?25hRequirement already satisfied: joblib>=0.11 in /usr/local/lib/python3.6/dist-packages (from scikit-surprise->surprise) (1.0.0)\n",
            "Requirement already satisfied: numpy>=1.11.2 in /usr/local/lib/python3.6/dist-packages (from scikit-surprise->surprise) (1.19.5)\n",
            "Requirement already satisfied: scipy>=1.0.0 in /usr/local/lib/python3.6/dist-packages (from scikit-surprise->surprise) (1.4.1)\n",
            "Requirement already satisfied: six>=1.10.0 in /usr/local/lib/python3.6/dist-packages (from scikit-surprise->surprise) (1.15.0)\n",
            "Building wheels for collected packages: scikit-surprise\n",
            "  Building wheel for scikit-surprise (setup.py) ... \u001b[?25l\u001b[?25hdone\n",
            "  Created wheel for scikit-surprise: filename=scikit_surprise-1.1.1-cp36-cp36m-linux_x86_64.whl size=1618283 sha256=253532b336044e00a29fdf3987cce726b7272b274153e5e044ce83e71925f60f\n",
            "  Stored in directory: /root/.cache/pip/wheels/78/9c/3d/41b419c9d2aff5b6e2b4c0fc8d25c538202834058f9ed110d0\n",
            "Successfully built scikit-surprise\n",
            "Installing collected packages: scikit-surprise, surprise\n",
            "Successfully installed scikit-surprise-1.1.1 surprise-0.1\n"
          ],
          "name": "stdout"
        }
      ]
    }
  ]
}